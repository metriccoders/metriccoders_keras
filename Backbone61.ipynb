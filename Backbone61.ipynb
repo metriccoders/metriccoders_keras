{
  "nbformat": 4,
  "nbformat_minor": 0,
  "metadata": {
    "colab": {
      "provenance": [],
      "machine_shape": "hm",
      "gpuType": "L4"
    },
    "kernelspec": {
      "name": "python3",
      "display_name": "Python 3"
    },
    "language_info": {
      "name": "python"
    },
    "accelerator": "GPU"
  },
  "cells": [
    {
      "cell_type": "code",
      "execution_count": 1,
      "metadata": {
        "colab": {
          "base_uri": "https://localhost:8080/"
        },
        "id": "8RGC1cj6a3vl",
        "outputId": "273433bd-017f-48d8-be4f-02dfc5fa2709"
      },
      "outputs": [
        {
          "output_type": "stream",
          "name": "stdout",
          "text": [
            "Requirement already satisfied: keras in /usr/local/lib/python3.10/dist-packages (3.3.3)\n",
            "Requirement already satisfied: keras_nlp in /usr/local/lib/python3.10/dist-packages (0.11.1)\n",
            "Requirement already satisfied: tensorflow in /usr/local/lib/python3.10/dist-packages (2.16.1)\n",
            "Requirement already satisfied: tensorflow-text in /usr/local/lib/python3.10/dist-packages (2.16.1)\n",
            "Requirement already satisfied: absl-py in /usr/local/lib/python3.10/dist-packages (from keras) (1.4.0)\n",
            "Requirement already satisfied: numpy in /usr/local/lib/python3.10/dist-packages (from keras) (1.25.2)\n",
            "Requirement already satisfied: rich in /usr/local/lib/python3.10/dist-packages (from keras) (13.7.1)\n",
            "Requirement already satisfied: namex in /usr/local/lib/python3.10/dist-packages (from keras) (0.0.8)\n",
            "Requirement already satisfied: h5py in /usr/local/lib/python3.10/dist-packages (from keras) (3.11.0)\n",
            "Requirement already satisfied: optree in /usr/local/lib/python3.10/dist-packages (from keras) (0.11.0)\n",
            "Requirement already satisfied: ml-dtypes in /usr/local/lib/python3.10/dist-packages (from keras) (0.3.2)\n",
            "Requirement already satisfied: keras-core in /usr/local/lib/python3.10/dist-packages (from keras_nlp) (0.1.7)\n",
            "Requirement already satisfied: packaging in /usr/local/lib/python3.10/dist-packages (from keras_nlp) (24.0)\n",
            "Requirement already satisfied: regex in /usr/local/lib/python3.10/dist-packages (from keras_nlp) (2023.12.25)\n",
            "Requirement already satisfied: dm-tree in /usr/local/lib/python3.10/dist-packages (from keras_nlp) (0.1.8)\n",
            "Requirement already satisfied: kagglehub in /usr/local/lib/python3.10/dist-packages (from keras_nlp) (0.2.5)\n",
            "Requirement already satisfied: astunparse>=1.6.0 in /usr/local/lib/python3.10/dist-packages (from tensorflow) (1.6.3)\n",
            "Requirement already satisfied: flatbuffers>=23.5.26 in /usr/local/lib/python3.10/dist-packages (from tensorflow) (24.3.25)\n",
            "Requirement already satisfied: gast!=0.5.0,!=0.5.1,!=0.5.2,>=0.2.1 in /usr/local/lib/python3.10/dist-packages (from tensorflow) (0.5.4)\n",
            "Requirement already satisfied: google-pasta>=0.1.1 in /usr/local/lib/python3.10/dist-packages (from tensorflow) (0.2.0)\n",
            "Requirement already satisfied: libclang>=13.0.0 in /usr/local/lib/python3.10/dist-packages (from tensorflow) (18.1.1)\n",
            "Requirement already satisfied: opt-einsum>=2.3.2 in /usr/local/lib/python3.10/dist-packages (from tensorflow) (3.3.0)\n",
            "Requirement already satisfied: protobuf!=4.21.0,!=4.21.1,!=4.21.2,!=4.21.3,!=4.21.4,!=4.21.5,<5.0.0dev,>=3.20.3 in /usr/local/lib/python3.10/dist-packages (from tensorflow) (3.20.3)\n",
            "Requirement already satisfied: requests<3,>=2.21.0 in /usr/local/lib/python3.10/dist-packages (from tensorflow) (2.31.0)\n",
            "Requirement already satisfied: setuptools in /usr/local/lib/python3.10/dist-packages (from tensorflow) (67.7.2)\n",
            "Requirement already satisfied: six>=1.12.0 in /usr/local/lib/python3.10/dist-packages (from tensorflow) (1.16.0)\n",
            "Requirement already satisfied: termcolor>=1.1.0 in /usr/local/lib/python3.10/dist-packages (from tensorflow) (2.4.0)\n",
            "Requirement already satisfied: typing-extensions>=3.6.6 in /usr/local/lib/python3.10/dist-packages (from tensorflow) (4.11.0)\n",
            "Requirement already satisfied: wrapt>=1.11.0 in /usr/local/lib/python3.10/dist-packages (from tensorflow) (1.14.1)\n",
            "Requirement already satisfied: grpcio<2.0,>=1.24.3 in /usr/local/lib/python3.10/dist-packages (from tensorflow) (1.63.0)\n",
            "Requirement already satisfied: tensorboard<2.17,>=2.16 in /usr/local/lib/python3.10/dist-packages (from tensorflow) (2.16.2)\n",
            "Requirement already satisfied: tensorflow-io-gcs-filesystem>=0.23.1 in /usr/local/lib/python3.10/dist-packages (from tensorflow) (0.37.0)\n",
            "Requirement already satisfied: wheel<1.0,>=0.23.0 in /usr/local/lib/python3.10/dist-packages (from astunparse>=1.6.0->tensorflow) (0.43.0)\n",
            "Requirement already satisfied: charset-normalizer<4,>=2 in /usr/local/lib/python3.10/dist-packages (from requests<3,>=2.21.0->tensorflow) (3.3.2)\n",
            "Requirement already satisfied: idna<4,>=2.5 in /usr/local/lib/python3.10/dist-packages (from requests<3,>=2.21.0->tensorflow) (3.7)\n",
            "Requirement already satisfied: urllib3<3,>=1.21.1 in /usr/local/lib/python3.10/dist-packages (from requests<3,>=2.21.0->tensorflow) (2.0.7)\n",
            "Requirement already satisfied: certifi>=2017.4.17 in /usr/local/lib/python3.10/dist-packages (from requests<3,>=2.21.0->tensorflow) (2024.2.2)\n",
            "Requirement already satisfied: markdown>=2.6.8 in /usr/local/lib/python3.10/dist-packages (from tensorboard<2.17,>=2.16->tensorflow) (3.6)\n",
            "Requirement already satisfied: tensorboard-data-server<0.8.0,>=0.7.0 in /usr/local/lib/python3.10/dist-packages (from tensorboard<2.17,>=2.16->tensorflow) (0.7.2)\n",
            "Requirement already satisfied: werkzeug>=1.0.1 in /usr/local/lib/python3.10/dist-packages (from tensorboard<2.17,>=2.16->tensorflow) (3.0.3)\n",
            "Requirement already satisfied: tqdm in /usr/local/lib/python3.10/dist-packages (from kagglehub->keras_nlp) (4.66.4)\n",
            "Requirement already satisfied: markdown-it-py>=2.2.0 in /usr/local/lib/python3.10/dist-packages (from rich->keras) (3.0.0)\n",
            "Requirement already satisfied: pygments<3.0.0,>=2.13.0 in /usr/local/lib/python3.10/dist-packages (from rich->keras) (2.16.1)\n",
            "Requirement already satisfied: mdurl~=0.1 in /usr/local/lib/python3.10/dist-packages (from markdown-it-py>=2.2.0->rich->keras) (0.1.2)\n",
            "Requirement already satisfied: MarkupSafe>=2.1.1 in /usr/local/lib/python3.10/dist-packages (from werkzeug>=1.0.1->tensorboard<2.17,>=2.16->tensorflow) (2.1.5)\n"
          ]
        }
      ],
      "source": [
        "!pip install keras keras_nlp tensorflow tensorflow-text"
      ]
    },
    {
      "cell_type": "code",
      "source": [
        "import keras, keras_nlp"
      ],
      "metadata": {
        "id": "FXUaoWugbDpt"
      },
      "execution_count": 63,
      "outputs": []
    },
    {
      "cell_type": "code",
      "source": [
        "string_arr_text = [\"Bengaluru is the garden city of India\", \"Bengaluru is the tech hub\"]"
      ],
      "metadata": {
        "id": "ymn94PKAmst9"
      },
      "execution_count": 120,
      "outputs": []
    },
    {
      "cell_type": "code",
      "source": [
        "preprocessor = keras_nlp.models.AlbertPreprocessor.from_preset(\"albert_base_en_uncased\")"
      ],
      "metadata": {
        "colab": {
          "base_uri": "https://localhost:8080/"
        },
        "id": "5kUwwsPAOlqB",
        "outputId": "3ebcf4e8-331c-4f09-b7d8-ae8706fe0f04"
      },
      "execution_count": 171,
      "outputs": [
        {
          "output_type": "stream",
          "name": "stderr",
          "text": [
            "Downloading from https://www.kaggle.com/api/v1/models/keras/albert/keras/albert_base_en_uncased/2/download/preprocessor.json...\n"
          ]
        }
      ]
    },
    {
      "cell_type": "code",
      "source": [
        "preprocessor(string_arr_text)"
      ],
      "metadata": {
        "colab": {
          "base_uri": "https://localhost:8080/"
        },
        "id": "-vYRbfgaPIEx",
        "outputId": "9d9215bb-40ef-4781-ae31-94fb2a25fcc3"
      },
      "execution_count": 172,
      "outputs": [
        {
          "output_type": "execute_result",
          "data": {
            "text/plain": [
              "{'token_ids': <tf.Tensor: shape=(2, 512), dtype=int32, numpy=\n",
              " array([[ 2, 13,  1, ...,  0,  0,  0],\n",
              "        [ 2, 13,  1, ...,  0,  0,  0]], dtype=int32)>,\n",
              " 'segment_ids': <tf.Tensor: shape=(2, 512), dtype=int32, numpy=\n",
              " array([[0, 0, 0, ..., 0, 0, 0],\n",
              "        [0, 0, 0, ..., 0, 0, 0]], dtype=int32)>,\n",
              " 'padding_mask': <tf.Tensor: shape=(2, 512), dtype=bool, numpy=\n",
              " array([[ True,  True,  True, ..., False, False, False],\n",
              "        [ True,  True,  True, ..., False, False, False]])>}"
            ]
          },
          "metadata": {},
          "execution_count": 172
        }
      ]
    },
    {
      "cell_type": "code",
      "source": [
        "model = keras_nlp.models.AlbertBackbone.from_preset(\"albert_base_en_uncased\")"
      ],
      "metadata": {
        "colab": {
          "base_uri": "https://localhost:8080/"
        },
        "id": "zpi-RLr5PKQ-",
        "outputId": "0b9a2a5b-4ce8-48dc-e306-58a2cb6764e9"
      },
      "execution_count": 173,
      "outputs": [
        {
          "output_type": "stream",
          "name": "stderr",
          "text": [
            "Downloading from https://www.kaggle.com/api/v1/models/keras/albert/keras/albert_base_en_uncased/2/download/config.json...\n",
            "100%|██████████| 611/611 [00:00<00:00, 839kB/s]\n",
            "Downloading from https://www.kaggle.com/api/v1/models/keras/albert/keras/albert_base_en_uncased/2/download/model.weights.h5...\n",
            "100%|██████████| 44.6M/44.6M [00:01<00:00, 26.1MB/s]\n"
          ]
        }
      ]
    },
    {
      "cell_type": "code",
      "source": [
        "model(preprocessor(string_arr_text))"
      ],
      "metadata": {
        "colab": {
          "base_uri": "https://localhost:8080/"
        },
        "id": "kXYtAHsTPVF5",
        "outputId": "27d42d7e-f215-47db-ed9f-3309f5b3a616"
      },
      "execution_count": 174,
      "outputs": [
        {
          "output_type": "execute_result",
          "data": {
            "text/plain": [
              "{'sequence_output': <tf.Tensor: shape=(2, 512, 768), dtype=float32, numpy=\n",
              " array([[[ 0.29109532,  0.59039575,  0.57341796, ..., -1.7762976 ,\n",
              "           0.8334062 ,  0.22888707],\n",
              "         [ 0.23810953,  0.03257053,  0.14244957, ...,  0.13890208,\n",
              "           0.97672796,  0.33284622],\n",
              "         [-2.0244946 , -1.1321733 ,  1.7023356 , ...,  0.7105138 ,\n",
              "           0.21753633, -1.2893486 ],\n",
              "         ...,\n",
              "         [-1.6347158 , -0.47780624,  0.7117915 , ...,  0.30713838,\n",
              "           1.982284  , -1.0579503 ],\n",
              "         [-1.5658598 , -0.40983802,  0.42121565, ..., -0.32397833,\n",
              "           1.7305362 , -1.3411301 ],\n",
              "         [ 0.10584101,  0.09978956, -0.0369747 , ..., -0.15564626,\n",
              "           0.11278631,  0.18881346]],\n",
              " \n",
              "        [[ 0.61990905,  1.5432444 ,  0.2692907 , ..., -1.582385  ,\n",
              "           1.1010177 , -0.330584  ],\n",
              "         [ 0.5509646 , -0.52529824, -0.445274  , ...,  0.2537047 ,\n",
              "           1.1254579 , -0.5993581 ],\n",
              "         [-0.95211315, -1.5976503 ,  1.5780841 , ...,  1.4106764 ,\n",
              "          -0.05304843, -1.4867617 ],\n",
              "         ...,\n",
              "         [-0.6569233 , -1.0097545 ,  0.17424832, ..., -0.06728525,\n",
              "           0.63301724, -1.3275181 ],\n",
              "         [-0.65643835, -1.1320357 , -0.11660265, ..., -0.46501634,\n",
              "           0.42462435, -1.1947912 ],\n",
              "         [ 0.11290038,  0.11616533, -0.04640566, ..., -0.154857  ,\n",
              "           0.11440967,  0.19893724]]], dtype=float32)>,\n",
              " 'pooled_output': <tf.Tensor: shape=(2, 768), dtype=float32, numpy=\n",
              " array([[ 0.7564715 , -0.8054208 ,  0.3908756 , ..., -0.8035564 ,\n",
              "         -0.9977394 ,  0.8587333 ],\n",
              "        [ 0.39921525, -0.44526672,  0.57472414, ..., -0.6955293 ,\n",
              "         -0.9910029 ,  0.49372673]], dtype=float32)>}"
            ]
          },
          "metadata": {},
          "execution_count": 174
        }
      ]
    },
    {
      "cell_type": "code",
      "source": [
        "preprocessor = keras_nlp.models.AlbertPreprocessor.from_preset(\"albert_large_en_uncased\")"
      ],
      "metadata": {
        "colab": {
          "base_uri": "https://localhost:8080/"
        },
        "id": "tsAwEsjkPbWP",
        "outputId": "5188bbc5-440e-4dc1-b53f-75dfb7388e02"
      },
      "execution_count": 175,
      "outputs": [
        {
          "output_type": "stream",
          "name": "stderr",
          "text": [
            "Downloading from https://www.kaggle.com/api/v1/models/keras/albert/keras/albert_large_en_uncased/2/download/preprocessor.json...\n"
          ]
        }
      ]
    },
    {
      "cell_type": "code",
      "source": [
        "model = keras_nlp.models.AlbertBackbone.from_preset(\"albert_large_en_uncased\")"
      ],
      "metadata": {
        "colab": {
          "base_uri": "https://localhost:8080/"
        },
        "id": "ecqX0cBWPxBJ",
        "outputId": "f0aa119e-4314-464b-8594-83cd97e770d9"
      },
      "execution_count": 176,
      "outputs": [
        {
          "output_type": "stream",
          "name": "stderr",
          "text": [
            "Downloading from https://www.kaggle.com/api/v1/models/keras/albert/keras/albert_large_en_uncased/2/download/config.json...\n",
            "100%|██████████| 610/610 [00:00<00:00, 699kB/s]\n",
            "Downloading from https://www.kaggle.com/api/v1/models/keras/albert/keras/albert_large_en_uncased/2/download/model.weights.h5...\n",
            "100%|██████████| 67.5M/67.5M [00:02<00:00, 31.8MB/s]\n"
          ]
        }
      ]
    },
    {
      "cell_type": "code",
      "source": [
        "model(preprocessor(string_arr_text))"
      ],
      "metadata": {
        "colab": {
          "base_uri": "https://localhost:8080/"
        },
        "id": "1JfvqLsGP3MK",
        "outputId": "fae2a8a4-cdd4-4a70-ea79-c1a7453fb563"
      },
      "execution_count": 177,
      "outputs": [
        {
          "output_type": "execute_result",
          "data": {
            "text/plain": [
              "{'sequence_output': <tf.Tensor: shape=(2, 512, 1024), dtype=float32, numpy=\n",
              " array([[[ 0.2770636 , -0.1698493 ,  0.08749533, ..., -0.05548593,\n",
              "           0.01278315,  0.6963581 ],\n",
              "         [-0.72688234, -0.7326043 , -0.38781083, ...,  0.43813923,\n",
              "          -1.4152989 , -0.06530092],\n",
              "         [ 0.27033916,  0.19000015, -1.3199514 , ...,  0.1392531 ,\n",
              "          -0.8895735 , -1.2217932 ],\n",
              "         ...,\n",
              "         [ 0.2773431 ,  0.66927105, -0.04740419, ..., -0.0374825 ,\n",
              "          -0.77075374,  0.8259914 ],\n",
              "         [ 0.518646  ,  0.66057897, -0.32028687, ...,  0.31278884,\n",
              "          -0.5839745 ,  0.7095484 ],\n",
              "         [ 0.41107494,  0.6453438 , -0.05412903, ...,  0.1492914 ,\n",
              "          -0.58254355,  0.84967136]],\n",
              " \n",
              "        [[-0.14092839, -0.33164838, -0.12895659, ..., -0.5563805 ,\n",
              "          -0.5602438 ,  0.4876629 ],\n",
              "         [-0.50146997,  0.06613347, -0.43767482, ...,  0.23815918,\n",
              "          -1.0131388 , -0.3858407 ],\n",
              "         [ 0.13780132, -0.06435348, -0.63802165, ..., -0.45307332,\n",
              "          -1.1269696 , -0.6673643 ],\n",
              "         ...,\n",
              "         [ 0.11802506, -0.07258589, -0.14548439, ..., -0.21572682,\n",
              "          -0.5364268 ,  0.6292603 ],\n",
              "         [-0.03314596, -0.22908306, -0.5755098 , ..., -0.6721831 ,\n",
              "          -0.23940113,  0.116384  ],\n",
              "         [ 0.06462931, -0.17577371, -0.5259729 , ..., -0.6654143 ,\n",
              "          -0.36210352,  0.18967359]]], dtype=float32)>,\n",
              " 'pooled_output': <tf.Tensor: shape=(2, 1024), dtype=float32, numpy=\n",
              " array([[ 0.97338647, -0.7567233 ,  0.99224156, ...,  0.8443894 ,\n",
              "         -0.8364803 , -0.60816634],\n",
              "        [ 0.9998331 , -0.35094196,  0.9967836 , ...,  0.23239256,\n",
              "         -0.14724582,  0.01626994]], dtype=float32)>}"
            ]
          },
          "metadata": {},
          "execution_count": 177
        }
      ]
    },
    {
      "cell_type": "code",
      "source": [
        "preprocessor = keras_nlp.models.BertPreprocessor.from_preset(\"bert_tiny_en_uncased\")"
      ],
      "metadata": {
        "colab": {
          "base_uri": "https://localhost:8080/"
        },
        "id": "gqZ8F4gCQeth",
        "outputId": "d4914696-d6f9-475c-cad1-bde185ec3847"
      },
      "execution_count": 179,
      "outputs": [
        {
          "output_type": "stream",
          "name": "stderr",
          "text": [
            "Downloading from https://www.kaggle.com/api/v1/models/keras/bert/keras/bert_tiny_en_uncased/2/download/preprocessor.json...\n"
          ]
        }
      ]
    },
    {
      "cell_type": "code",
      "source": [
        "model = keras_nlp.models.BertBackbone.from_preset(\"bert_tiny_en_uncased\")"
      ],
      "metadata": {
        "colab": {
          "base_uri": "https://localhost:8080/"
        },
        "id": "5lOLEn-MQsPM",
        "outputId": "6bf76fc8-5f1a-4e0a-96cd-494e686a6724"
      },
      "execution_count": 180,
      "outputs": [
        {
          "output_type": "stream",
          "name": "stderr",
          "text": [
            "Downloading from https://www.kaggle.com/api/v1/models/keras/bert/keras/bert_tiny_en_uncased/2/download/config.json...\n",
            "100%|██████████| 507/507 [00:00<00:00, 754kB/s]\n",
            "Downloading from https://www.kaggle.com/api/v1/models/keras/bert/keras/bert_tiny_en_uncased/2/download/model.weights.h5...\n",
            "100%|██████████| 16.8M/16.8M [00:00<00:00, 19.2MB/s]\n"
          ]
        }
      ]
    },
    {
      "cell_type": "code",
      "source": [
        "model(preprocessor(string_arr_text))"
      ],
      "metadata": {
        "colab": {
          "base_uri": "https://localhost:8080/"
        },
        "id": "bzMKnO31Q_ge",
        "outputId": "c91b2809-1e65-4ae6-bc19-c57e8941c3a5"
      },
      "execution_count": 181,
      "outputs": [
        {
          "output_type": "execute_result",
          "data": {
            "text/plain": [
              "{'sequence_output': <tf.Tensor: shape=(2, 512, 128), dtype=float32, numpy=\n",
              " array([[[-0.00770359,  0.22362009, -3.8013916 , ..., -0.7977207 ,\n",
              "          -1.6880293 ,  1.7669994 ],\n",
              "         [-1.6496015 ,  0.15249002, -1.1784112 , ..., -1.7867173 ,\n",
              "          -1.1260904 ,  0.7795008 ],\n",
              "         [-1.5600612 , -0.21953619, -1.0176723 , ..., -1.7762308 ,\n",
              "          -0.33892816,  2.633414  ],\n",
              "         ...,\n",
              "         [-0.30527773,  0.28472295, -0.75336015, ..., -1.456626  ,\n",
              "          -0.9782943 ,  1.2421558 ],\n",
              "         [-0.49452662,  0.41166344, -0.9690726 , ..., -1.2961192 ,\n",
              "          -1.5198567 ,  0.53979856],\n",
              "         [ 0.0641519 , -0.19211993, -2.706879  , ..., -0.68697417,\n",
              "          -1.4666362 ,  1.7109971 ]],\n",
              " \n",
              "        [[-0.354321  ,  0.9647313 , -3.847001  , ..., -0.80586714,\n",
              "          -0.9092316 ,  1.3984995 ],\n",
              "         [-1.835139  ,  0.6671057 , -1.078124  , ..., -1.630855  ,\n",
              "          -0.78849745,  0.456828  ],\n",
              "         [-1.4289438 ,  0.30635625, -0.9468864 , ..., -1.7343024 ,\n",
              "          -0.17652735,  2.5008466 ],\n",
              "         ...,\n",
              "         [-0.14258912,  1.05165   , -0.9051534 , ..., -1.5259204 ,\n",
              "          -0.8669801 ,  0.98636395],\n",
              "         [-0.4237301 ,  1.1853302 , -1.2109919 , ..., -1.4815582 ,\n",
              "          -1.1963303 ,  0.3799533 ],\n",
              "         [ 0.04622287,  0.64671195, -3.0478566 , ..., -0.6561967 ,\n",
              "          -0.9695852 ,  1.225576  ]]], dtype=float32)>,\n",
              " 'pooled_output': <tf.Tensor: shape=(2, 128), dtype=float32, numpy=\n",
              " array([[-0.9998763 ,  0.06882117, -0.9856117 ,  0.99046224, -0.992531  ,\n",
              "          0.6350709 , -0.8479194 , -0.997128  , -0.13616838,  0.22039415,\n",
              "         -0.63802314,  0.03348628,  0.04879722,  0.9997517 , -0.83102727,\n",
              "          0.6424957 ,  0.14837879,  0.12975648, -0.44328305, -0.652942  ,\n",
              "          0.9576782 , -0.21319836, -0.4487999 ,  0.32586822, -0.9965954 ,\n",
              "         -0.04851171, -0.99750906,  0.90905297,  0.8707974 ,  0.14344247,\n",
              "          0.0599224 , -0.08070024, -0.93008405, -0.37915218,  0.9894048 ,\n",
              "          0.9377714 , -0.97107726,  0.00461075,  0.9792098 , -0.99782157,\n",
              "          0.7517234 , -0.288292  , -0.9645892 ,  0.8772403 , -0.99899083,\n",
              "         -0.07605486, -0.9333976 ,  0.8536664 ,  0.00759209,  0.73618245,\n",
              "          0.9952587 , -0.3057242 ,  0.07094256,  0.7674821 ,  0.94215655,\n",
              "          0.99605775, -0.9828703 ,  0.01844315,  0.9493984 , -0.92978644,\n",
              "          0.15409221,  0.7554704 , -0.8916053 ,  0.01623527,  0.07158566,\n",
              "         -0.99954337, -0.26712778, -0.57934576,  0.91474974,  0.63130194,\n",
              "          0.99528706,  0.1317939 , -0.993054  ,  0.00368921,  0.7295652 ,\n",
              "         -0.99317265,  0.73738635,  0.05606073, -0.9727572 ,  0.02428479,\n",
              "         -0.89900947,  0.11733472, -0.83931077, -0.97211355,  0.99839556,\n",
              "         -0.7133594 ,  0.41288042, -0.99524945, -0.98705775, -0.8534914 ,\n",
              "         -0.82135314,  0.9831273 ,  0.6489649 ,  0.99916583,  0.6353897 ,\n",
              "          0.96750796, -0.94824386, -0.49243498, -0.99486446, -0.81988925,\n",
              "         -0.78678066,  0.9629003 , -0.98841465, -0.89428174, -0.8818641 ,\n",
              "         -0.69588506, -0.99977213, -0.9628917 ,  0.17717491,  0.98760915,\n",
              "          0.9936539 ,  0.83515906, -0.9324514 ,  0.9915917 , -0.9996717 ,\n",
              "          0.14633289,  0.4418544 , -0.29842302, -0.05438763, -0.9984066 ,\n",
              "         -0.21282862, -0.9979586 , -0.9252314 ,  0.80151117, -0.9922155 ,\n",
              "          0.978267  ,  0.9632439 ,  0.9976847 ],\n",
              "        [-0.9999877 ,  0.04946633, -0.99596953,  0.87408215, -0.99896455,\n",
              "          0.8796005 , -0.9091851 , -0.9955888 , -0.10388736,  0.16812572,\n",
              "         -0.60450274,  0.06029733, -0.03326145,  0.99999774, -0.7048205 ,\n",
              "          0.13472953,  0.8815359 ,  0.06194401, -0.63279396, -0.7656273 ,\n",
              "          0.9584973 , -0.10169669, -0.6754524 ,  0.45604402, -0.998131  ,\n",
              "         -0.00978633, -0.9994901 ,  0.930208  ,  0.93653774,  0.17227225,\n",
              "          0.0636906 ,  0.03232247, -0.9701437 ,  0.4120835 ,  0.9862992 ,\n",
              "          0.9858198 , -0.9833169 , -0.07529061,  0.947864  , -0.9987179 ,\n",
              "          0.78715503,  0.8116663 , -0.99527705,  0.9585359 , -0.99995   ,\n",
              "         -0.14196546, -0.98729014,  0.949884  ,  0.80461353,  0.98357767,\n",
              "          0.9764905 , -0.7064714 ,  0.0895464 ,  0.97244495,  0.9330068 ,\n",
              "          0.9994641 , -0.99383324, -0.91017324,  0.7899349 , -0.78744674,\n",
              "          0.11753093,  0.81646836, -0.520632  ,  0.4929709 , -0.3031025 ,\n",
              "         -0.9999923 , -0.55332994, -0.13435362,  0.90977347,  0.798598  ,\n",
              "          0.99947786,  0.06768852, -0.9984376 , -0.03891788,  0.84128565,\n",
              "         -0.991339  ,  0.78136456,  0.08318175, -0.99127656,  0.10119533,\n",
              "         -0.7796024 ,  0.00370649, -0.44342455, -0.99568814,  0.999461  ,\n",
              "         -0.97010034, -0.31771922, -0.9916508 , -0.91115177, -0.01730692,\n",
              "         -0.93213224,  0.9826034 ,  0.05642503,  0.99764407,  0.4017873 ,\n",
              "          0.8463355 , -0.93084866, -0.38207588, -0.9995337 , -0.44904336,\n",
              "         -0.93865186,  0.8877193 , -0.9975194 , -0.82590264, -0.95061797,\n",
              "         -0.9313749 , -0.999508  , -0.9878559 , -0.21643388,  0.9878544 ,\n",
              "          0.99907947,  0.6695827 , -0.8302361 ,  0.9986917 , -0.9999943 ,\n",
              "          0.12657355, -0.03415343,  0.26255226,  0.00279925, -0.99966013,\n",
              "         -0.0885106 , -0.9997607 , -0.9589575 ,  0.6798679 , -0.9982947 ,\n",
              "          0.98635113,  0.69387245,  0.9971219 ]], dtype=float32)>}"
            ]
          },
          "metadata": {},
          "execution_count": 181
        }
      ]
    }
  ]
}