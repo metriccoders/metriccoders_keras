{
  "nbformat": 4,
  "nbformat_minor": 0,
  "metadata": {
    "colab": {
      "provenance": [],
      "machine_shape": "hm",
      "gpuType": "L4"
    },
    "kernelspec": {
      "name": "python3",
      "display_name": "Python 3"
    },
    "language_info": {
      "name": "python"
    },
    "accelerator": "GPU"
  },
  "cells": [
    {
      "cell_type": "code",
      "execution_count": 1,
      "metadata": {
        "colab": {
          "base_uri": "https://localhost:8080/"
        },
        "id": "8RGC1cj6a3vl",
        "outputId": "273433bd-017f-48d8-be4f-02dfc5fa2709"
      },
      "outputs": [
        {
          "output_type": "stream",
          "name": "stdout",
          "text": [
            "Requirement already satisfied: keras in /usr/local/lib/python3.10/dist-packages (3.3.3)\n",
            "Requirement already satisfied: keras_nlp in /usr/local/lib/python3.10/dist-packages (0.11.1)\n",
            "Requirement already satisfied: tensorflow in /usr/local/lib/python3.10/dist-packages (2.16.1)\n",
            "Requirement already satisfied: tensorflow-text in /usr/local/lib/python3.10/dist-packages (2.16.1)\n",
            "Requirement already satisfied: absl-py in /usr/local/lib/python3.10/dist-packages (from keras) (1.4.0)\n",
            "Requirement already satisfied: numpy in /usr/local/lib/python3.10/dist-packages (from keras) (1.25.2)\n",
            "Requirement already satisfied: rich in /usr/local/lib/python3.10/dist-packages (from keras) (13.7.1)\n",
            "Requirement already satisfied: namex in /usr/local/lib/python3.10/dist-packages (from keras) (0.0.8)\n",
            "Requirement already satisfied: h5py in /usr/local/lib/python3.10/dist-packages (from keras) (3.11.0)\n",
            "Requirement already satisfied: optree in /usr/local/lib/python3.10/dist-packages (from keras) (0.11.0)\n",
            "Requirement already satisfied: ml-dtypes in /usr/local/lib/python3.10/dist-packages (from keras) (0.3.2)\n",
            "Requirement already satisfied: keras-core in /usr/local/lib/python3.10/dist-packages (from keras_nlp) (0.1.7)\n",
            "Requirement already satisfied: packaging in /usr/local/lib/python3.10/dist-packages (from keras_nlp) (24.0)\n",
            "Requirement already satisfied: regex in /usr/local/lib/python3.10/dist-packages (from keras_nlp) (2023.12.25)\n",
            "Requirement already satisfied: dm-tree in /usr/local/lib/python3.10/dist-packages (from keras_nlp) (0.1.8)\n",
            "Requirement already satisfied: kagglehub in /usr/local/lib/python3.10/dist-packages (from keras_nlp) (0.2.5)\n",
            "Requirement already satisfied: astunparse>=1.6.0 in /usr/local/lib/python3.10/dist-packages (from tensorflow) (1.6.3)\n",
            "Requirement already satisfied: flatbuffers>=23.5.26 in /usr/local/lib/python3.10/dist-packages (from tensorflow) (24.3.25)\n",
            "Requirement already satisfied: gast!=0.5.0,!=0.5.1,!=0.5.2,>=0.2.1 in /usr/local/lib/python3.10/dist-packages (from tensorflow) (0.5.4)\n",
            "Requirement already satisfied: google-pasta>=0.1.1 in /usr/local/lib/python3.10/dist-packages (from tensorflow) (0.2.0)\n",
            "Requirement already satisfied: libclang>=13.0.0 in /usr/local/lib/python3.10/dist-packages (from tensorflow) (18.1.1)\n",
            "Requirement already satisfied: opt-einsum>=2.3.2 in /usr/local/lib/python3.10/dist-packages (from tensorflow) (3.3.0)\n",
            "Requirement already satisfied: protobuf!=4.21.0,!=4.21.1,!=4.21.2,!=4.21.3,!=4.21.4,!=4.21.5,<5.0.0dev,>=3.20.3 in /usr/local/lib/python3.10/dist-packages (from tensorflow) (3.20.3)\n",
            "Requirement already satisfied: requests<3,>=2.21.0 in /usr/local/lib/python3.10/dist-packages (from tensorflow) (2.31.0)\n",
            "Requirement already satisfied: setuptools in /usr/local/lib/python3.10/dist-packages (from tensorflow) (67.7.2)\n",
            "Requirement already satisfied: six>=1.12.0 in /usr/local/lib/python3.10/dist-packages (from tensorflow) (1.16.0)\n",
            "Requirement already satisfied: termcolor>=1.1.0 in /usr/local/lib/python3.10/dist-packages (from tensorflow) (2.4.0)\n",
            "Requirement already satisfied: typing-extensions>=3.6.6 in /usr/local/lib/python3.10/dist-packages (from tensorflow) (4.11.0)\n",
            "Requirement already satisfied: wrapt>=1.11.0 in /usr/local/lib/python3.10/dist-packages (from tensorflow) (1.14.1)\n",
            "Requirement already satisfied: grpcio<2.0,>=1.24.3 in /usr/local/lib/python3.10/dist-packages (from tensorflow) (1.63.0)\n",
            "Requirement already satisfied: tensorboard<2.17,>=2.16 in /usr/local/lib/python3.10/dist-packages (from tensorflow) (2.16.2)\n",
            "Requirement already satisfied: tensorflow-io-gcs-filesystem>=0.23.1 in /usr/local/lib/python3.10/dist-packages (from tensorflow) (0.37.0)\n",
            "Requirement already satisfied: wheel<1.0,>=0.23.0 in /usr/local/lib/python3.10/dist-packages (from astunparse>=1.6.0->tensorflow) (0.43.0)\n",
            "Requirement already satisfied: charset-normalizer<4,>=2 in /usr/local/lib/python3.10/dist-packages (from requests<3,>=2.21.0->tensorflow) (3.3.2)\n",
            "Requirement already satisfied: idna<4,>=2.5 in /usr/local/lib/python3.10/dist-packages (from requests<3,>=2.21.0->tensorflow) (3.7)\n",
            "Requirement already satisfied: urllib3<3,>=1.21.1 in /usr/local/lib/python3.10/dist-packages (from requests<3,>=2.21.0->tensorflow) (2.0.7)\n",
            "Requirement already satisfied: certifi>=2017.4.17 in /usr/local/lib/python3.10/dist-packages (from requests<3,>=2.21.0->tensorflow) (2024.2.2)\n",
            "Requirement already satisfied: markdown>=2.6.8 in /usr/local/lib/python3.10/dist-packages (from tensorboard<2.17,>=2.16->tensorflow) (3.6)\n",
            "Requirement already satisfied: tensorboard-data-server<0.8.0,>=0.7.0 in /usr/local/lib/python3.10/dist-packages (from tensorboard<2.17,>=2.16->tensorflow) (0.7.2)\n",
            "Requirement already satisfied: werkzeug>=1.0.1 in /usr/local/lib/python3.10/dist-packages (from tensorboard<2.17,>=2.16->tensorflow) (3.0.3)\n",
            "Requirement already satisfied: tqdm in /usr/local/lib/python3.10/dist-packages (from kagglehub->keras_nlp) (4.66.4)\n",
            "Requirement already satisfied: markdown-it-py>=2.2.0 in /usr/local/lib/python3.10/dist-packages (from rich->keras) (3.0.0)\n",
            "Requirement already satisfied: pygments<3.0.0,>=2.13.0 in /usr/local/lib/python3.10/dist-packages (from rich->keras) (2.16.1)\n",
            "Requirement already satisfied: mdurl~=0.1 in /usr/local/lib/python3.10/dist-packages (from markdown-it-py>=2.2.0->rich->keras) (0.1.2)\n",
            "Requirement already satisfied: MarkupSafe>=2.1.1 in /usr/local/lib/python3.10/dist-packages (from werkzeug>=1.0.1->tensorboard<2.17,>=2.16->tensorflow) (2.1.5)\n"
          ]
        }
      ],
      "source": [
        "!pip install keras keras_nlp tensorflow tensorflow-text"
      ]
    },
    {
      "cell_type": "code",
      "source": [
        "import keras, keras_nlp"
      ],
      "metadata": {
        "id": "FXUaoWugbDpt"
      },
      "execution_count": 63,
      "outputs": []
    },
    {
      "cell_type": "code",
      "source": [
        "string_arr_text = [\"Bengaluru is the garden city of India\", \"Bengaluru is the tech hub\"]"
      ],
      "metadata": {
        "id": "ymn94PKAmst9"
      },
      "execution_count": 120,
      "outputs": []
    },
    {
      "cell_type": "code",
      "source": [
        "preprocessor = keras_nlp.models.AlbertPreprocessor.from_preset(\"albert_base_en_uncased\")"
      ],
      "metadata": {
        "colab": {
          "base_uri": "https://localhost:8080/"
        },
        "id": "5kUwwsPAOlqB",
        "outputId": "3ebcf4e8-331c-4f09-b7d8-ae8706fe0f04"
      },
      "execution_count": 171,
      "outputs": [
        {
          "output_type": "stream",
          "name": "stderr",
          "text": [
            "Downloading from https://www.kaggle.com/api/v1/models/keras/albert/keras/albert_base_en_uncased/2/download/preprocessor.json...\n"
          ]
        }
      ]
    },
    {
      "cell_type": "code",
      "source": [
        "preprocessor(string_arr_text)"
      ],
      "metadata": {
        "colab": {
          "base_uri": "https://localhost:8080/"
        },
        "id": "-vYRbfgaPIEx",
        "outputId": "9d9215bb-40ef-4781-ae31-94fb2a25fcc3"
      },
      "execution_count": 172,
      "outputs": [
        {
          "output_type": "execute_result",
          "data": {
            "text/plain": [
              "{'token_ids': <tf.Tensor: shape=(2, 512), dtype=int32, numpy=\n",
              " array([[ 2, 13,  1, ...,  0,  0,  0],\n",
              "        [ 2, 13,  1, ...,  0,  0,  0]], dtype=int32)>,\n",
              " 'segment_ids': <tf.Tensor: shape=(2, 512), dtype=int32, numpy=\n",
              " array([[0, 0, 0, ..., 0, 0, 0],\n",
              "        [0, 0, 0, ..., 0, 0, 0]], dtype=int32)>,\n",
              " 'padding_mask': <tf.Tensor: shape=(2, 512), dtype=bool, numpy=\n",
              " array([[ True,  True,  True, ..., False, False, False],\n",
              "        [ True,  True,  True, ..., False, False, False]])>}"
            ]
          },
          "metadata": {},
          "execution_count": 172
        }
      ]
    },
    {
      "cell_type": "code",
      "source": [
        "model = keras_nlp.models.AlbertBackbone.from_preset(\"albert_base_en_uncased\")"
      ],
      "metadata": {
        "colab": {
          "base_uri": "https://localhost:8080/"
        },
        "id": "zpi-RLr5PKQ-",
        "outputId": "0b9a2a5b-4ce8-48dc-e306-58a2cb6764e9"
      },
      "execution_count": 173,
      "outputs": [
        {
          "output_type": "stream",
          "name": "stderr",
          "text": [
            "Downloading from https://www.kaggle.com/api/v1/models/keras/albert/keras/albert_base_en_uncased/2/download/config.json...\n",
            "100%|██████████| 611/611 [00:00<00:00, 839kB/s]\n",
            "Downloading from https://www.kaggle.com/api/v1/models/keras/albert/keras/albert_base_en_uncased/2/download/model.weights.h5...\n",
            "100%|██████████| 44.6M/44.6M [00:01<00:00, 26.1MB/s]\n"
          ]
        }
      ]
    },
    {
      "cell_type": "code",
      "source": [
        "model(preprocessor(string_arr_text))"
      ],
      "metadata": {
        "colab": {
          "base_uri": "https://localhost:8080/"
        },
        "id": "kXYtAHsTPVF5",
        "outputId": "27d42d7e-f215-47db-ed9f-3309f5b3a616"
      },
      "execution_count": 174,
      "outputs": [
        {
          "output_type": "execute_result",
          "data": {
            "text/plain": [
              "{'sequence_output': <tf.Tensor: shape=(2, 512, 768), dtype=float32, numpy=\n",
              " array([[[ 0.29109532,  0.59039575,  0.57341796, ..., -1.7762976 ,\n",
              "           0.8334062 ,  0.22888707],\n",
              "         [ 0.23810953,  0.03257053,  0.14244957, ...,  0.13890208,\n",
              "           0.97672796,  0.33284622],\n",
              "         [-2.0244946 , -1.1321733 ,  1.7023356 , ...,  0.7105138 ,\n",
              "           0.21753633, -1.2893486 ],\n",
              "         ...,\n",
              "         [-1.6347158 , -0.47780624,  0.7117915 , ...,  0.30713838,\n",
              "           1.982284  , -1.0579503 ],\n",
              "         [-1.5658598 , -0.40983802,  0.42121565, ..., -0.32397833,\n",
              "           1.7305362 , -1.3411301 ],\n",
              "         [ 0.10584101,  0.09978956, -0.0369747 , ..., -0.15564626,\n",
              "           0.11278631,  0.18881346]],\n",
              " \n",
              "        [[ 0.61990905,  1.5432444 ,  0.2692907 , ..., -1.582385  ,\n",
              "           1.1010177 , -0.330584  ],\n",
              "         [ 0.5509646 , -0.52529824, -0.445274  , ...,  0.2537047 ,\n",
              "           1.1254579 , -0.5993581 ],\n",
              "         [-0.95211315, -1.5976503 ,  1.5780841 , ...,  1.4106764 ,\n",
              "          -0.05304843, -1.4867617 ],\n",
              "         ...,\n",
              "         [-0.6569233 , -1.0097545 ,  0.17424832, ..., -0.06728525,\n",
              "           0.63301724, -1.3275181 ],\n",
              "         [-0.65643835, -1.1320357 , -0.11660265, ..., -0.46501634,\n",
              "           0.42462435, -1.1947912 ],\n",
              "         [ 0.11290038,  0.11616533, -0.04640566, ..., -0.154857  ,\n",
              "           0.11440967,  0.19893724]]], dtype=float32)>,\n",
              " 'pooled_output': <tf.Tensor: shape=(2, 768), dtype=float32, numpy=\n",
              " array([[ 0.7564715 , -0.8054208 ,  0.3908756 , ..., -0.8035564 ,\n",
              "         -0.9977394 ,  0.8587333 ],\n",
              "        [ 0.39921525, -0.44526672,  0.57472414, ..., -0.6955293 ,\n",
              "         -0.9910029 ,  0.49372673]], dtype=float32)>}"
            ]
          },
          "metadata": {},
          "execution_count": 174
        }
      ]
    },
    {
      "cell_type": "code",
      "source": [
        "preprocessor = keras_nlp.models.AlbertPreprocessor.from_preset(\"albert_large_en_uncased\")"
      ],
      "metadata": {
        "colab": {
          "base_uri": "https://localhost:8080/"
        },
        "id": "tsAwEsjkPbWP",
        "outputId": "5188bbc5-440e-4dc1-b53f-75dfb7388e02"
      },
      "execution_count": 175,
      "outputs": [
        {
          "output_type": "stream",
          "name": "stderr",
          "text": [
            "Downloading from https://www.kaggle.com/api/v1/models/keras/albert/keras/albert_large_en_uncased/2/download/preprocessor.json...\n"
          ]
        }
      ]
    },
    {
      "cell_type": "code",
      "source": [
        "model = keras_nlp.models.AlbertBackbone.from_preset(\"albert_large_en_uncased\")"
      ],
      "metadata": {
        "colab": {
          "base_uri": "https://localhost:8080/"
        },
        "id": "ecqX0cBWPxBJ",
        "outputId": "f0aa119e-4314-464b-8594-83cd97e770d9"
      },
      "execution_count": 176,
      "outputs": [
        {
          "output_type": "stream",
          "name": "stderr",
          "text": [
            "Downloading from https://www.kaggle.com/api/v1/models/keras/albert/keras/albert_large_en_uncased/2/download/config.json...\n",
            "100%|██████████| 610/610 [00:00<00:00, 699kB/s]\n",
            "Downloading from https://www.kaggle.com/api/v1/models/keras/albert/keras/albert_large_en_uncased/2/download/model.weights.h5...\n",
            "100%|██████████| 67.5M/67.5M [00:02<00:00, 31.8MB/s]\n"
          ]
        }
      ]
    },
    {
      "cell_type": "code",
      "source": [
        "model(preprocessor(string_arr_text))"
      ],
      "metadata": {
        "colab": {
          "base_uri": "https://localhost:8080/"
        },
        "id": "1JfvqLsGP3MK",
        "outputId": "fae2a8a4-cdd4-4a70-ea79-c1a7453fb563"
      },
      "execution_count": 177,
      "outputs": [
        {
          "output_type": "execute_result",
          "data": {
            "text/plain": [
              "{'sequence_output': <tf.Tensor: shape=(2, 512, 1024), dtype=float32, numpy=\n",
              " array([[[ 0.2770636 , -0.1698493 ,  0.08749533, ..., -0.05548593,\n",
              "           0.01278315,  0.6963581 ],\n",
              "         [-0.72688234, -0.7326043 , -0.38781083, ...,  0.43813923,\n",
              "          -1.4152989 , -0.06530092],\n",
              "         [ 0.27033916,  0.19000015, -1.3199514 , ...,  0.1392531 ,\n",
              "          -0.8895735 , -1.2217932 ],\n",
              "         ...,\n",
              "         [ 0.2773431 ,  0.66927105, -0.04740419, ..., -0.0374825 ,\n",
              "          -0.77075374,  0.8259914 ],\n",
              "         [ 0.518646  ,  0.66057897, -0.32028687, ...,  0.31278884,\n",
              "          -0.5839745 ,  0.7095484 ],\n",
              "         [ 0.41107494,  0.6453438 , -0.05412903, ...,  0.1492914 ,\n",
              "          -0.58254355,  0.84967136]],\n",
              " \n",
              "        [[-0.14092839, -0.33164838, -0.12895659, ..., -0.5563805 ,\n",
              "          -0.5602438 ,  0.4876629 ],\n",
              "         [-0.50146997,  0.06613347, -0.43767482, ...,  0.23815918,\n",
              "          -1.0131388 , -0.3858407 ],\n",
              "         [ 0.13780132, -0.06435348, -0.63802165, ..., -0.45307332,\n",
              "          -1.1269696 , -0.6673643 ],\n",
              "         ...,\n",
              "         [ 0.11802506, -0.07258589, -0.14548439, ..., -0.21572682,\n",
              "          -0.5364268 ,  0.6292603 ],\n",
              "         [-0.03314596, -0.22908306, -0.5755098 , ..., -0.6721831 ,\n",
              "          -0.23940113,  0.116384  ],\n",
              "         [ 0.06462931, -0.17577371, -0.5259729 , ..., -0.6654143 ,\n",
              "          -0.36210352,  0.18967359]]], dtype=float32)>,\n",
              " 'pooled_output': <tf.Tensor: shape=(2, 1024), dtype=float32, numpy=\n",
              " array([[ 0.97338647, -0.7567233 ,  0.99224156, ...,  0.8443894 ,\n",
              "         -0.8364803 , -0.60816634],\n",
              "        [ 0.9998331 , -0.35094196,  0.9967836 , ...,  0.23239256,\n",
              "         -0.14724582,  0.01626994]], dtype=float32)>}"
            ]
          },
          "metadata": {},
          "execution_count": 177
        }
      ]
    },
    {
      "cell_type": "code",
      "source": [
        "preprocessor = keras_nlp.models.BertPreprocessor.from_preset(\"bert_tiny_en_uncased\")"
      ],
      "metadata": {
        "colab": {
          "base_uri": "https://localhost:8080/"
        },
        "id": "gqZ8F4gCQeth",
        "outputId": "d4914696-d6f9-475c-cad1-bde185ec3847"
      },
      "execution_count": 179,
      "outputs": [
        {
          "output_type": "stream",
          "name": "stderr",
          "text": [
            "Downloading from https://www.kaggle.com/api/v1/models/keras/bert/keras/bert_tiny_en_uncased/2/download/preprocessor.json...\n"
          ]
        }
      ]
    },
    {
      "cell_type": "code",
      "source": [
        "model = keras_nlp.models.BertBackbone.from_preset(\"bert_tiny_en_uncased\")"
      ],
      "metadata": {
        "colab": {
          "base_uri": "https://localhost:8080/"
        },
        "id": "5lOLEn-MQsPM",
        "outputId": "6bf76fc8-5f1a-4e0a-96cd-494e686a6724"
      },
      "execution_count": 180,
      "outputs": [
        {
          "output_type": "stream",
          "name": "stderr",
          "text": [
            "Downloading from https://www.kaggle.com/api/v1/models/keras/bert/keras/bert_tiny_en_uncased/2/download/config.json...\n",
            "100%|██████████| 507/507 [00:00<00:00, 754kB/s]\n",
            "Downloading from https://www.kaggle.com/api/v1/models/keras/bert/keras/bert_tiny_en_uncased/2/download/model.weights.h5...\n",
            "100%|██████████| 16.8M/16.8M [00:00<00:00, 19.2MB/s]\n"
          ]
        }
      ]
    },
    {
      "cell_type": "code",
      "source": [
        "model(preprocessor(string_arr_text))"
      ],
      "metadata": {
        "colab": {
          "base_uri": "https://localhost:8080/"
        },
        "id": "bzMKnO31Q_ge",
        "outputId": "c91b2809-1e65-4ae6-bc19-c57e8941c3a5"
      },
      "execution_count": 181,
      "outputs": [
        {
          "output_type": "execute_result",
          "data": {
            "text/plain": [
              "{'sequence_output': <tf.Tensor: shape=(2, 512, 128), dtype=float32, numpy=\n",
              " array([[[-0.00770359,  0.22362009, -3.8013916 , ..., -0.7977207 ,\n",
              "          -1.6880293 ,  1.7669994 ],\n",
              "         [-1.6496015 ,  0.15249002, -1.1784112 , ..., -1.7867173 ,\n",
              "          -1.1260904 ,  0.7795008 ],\n",
              "         [-1.5600612 , -0.21953619, -1.0176723 , ..., -1.7762308 ,\n",
              "          -0.33892816,  2.633414  ],\n",
              "         ...,\n",
              "         [-0.30527773,  0.28472295, -0.75336015, ..., -1.456626  ,\n",
              "          -0.9782943 ,  1.2421558 ],\n",
              "         [-0.49452662,  0.41166344, -0.9690726 , ..., -1.2961192 ,\n",
              "          -1.5198567 ,  0.53979856],\n",
              "         [ 0.0641519 , -0.19211993, -2.706879  , ..., -0.68697417,\n",
              "          -1.4666362 ,  1.7109971 ]],\n",
              " \n",
              "        [[-0.354321  ,  0.9647313 , -3.847001  , ..., -0.80586714,\n",
              "          -0.9092316 ,  1.3984995 ],\n",
              "         [-1.835139  ,  0.6671057 , -1.078124  , ..., -1.630855  ,\n",
              "          -0.78849745,  0.456828  ],\n",
              "         [-1.4289438 ,  0.30635625, -0.9468864 , ..., -1.7343024 ,\n",
              "          -0.17652735,  2.5008466 ],\n",
              "         ...,\n",
              "         [-0.14258912,  1.05165   , -0.9051534 , ..., -1.5259204 ,\n",
              "          -0.8669801 ,  0.98636395],\n",
              "         [-0.4237301 ,  1.1853302 , -1.2109919 , ..., -1.4815582 ,\n",
              "          -1.1963303 ,  0.3799533 ],\n",
              "         [ 0.04622287,  0.64671195, -3.0478566 , ..., -0.6561967 ,\n",
              "          -0.9695852 ,  1.225576  ]]], dtype=float32)>,\n",
              " 'pooled_output': <tf.Tensor: shape=(2, 128), dtype=float32, numpy=\n",
              " array([[-0.9998763 ,  0.06882117, -0.9856117 ,  0.99046224, -0.992531  ,\n",
              "          0.6350709 , -0.8479194 , -0.997128  , -0.13616838,  0.22039415,\n",
              "         -0.63802314,  0.03348628,  0.04879722,  0.9997517 , -0.83102727,\n",
              "          0.6424957 ,  0.14837879,  0.12975648, -0.44328305, -0.652942  ,\n",
              "          0.9576782 , -0.21319836, -0.4487999 ,  0.32586822, -0.9965954 ,\n",
              "         -0.04851171, -0.99750906,  0.90905297,  0.8707974 ,  0.14344247,\n",
              "          0.0599224 , -0.08070024, -0.93008405, -0.37915218,  0.9894048 ,\n",
              "          0.9377714 , -0.97107726,  0.00461075,  0.9792098 , -0.99782157,\n",
              "          0.7517234 , -0.288292  , -0.9645892 ,  0.8772403 , -0.99899083,\n",
              "         -0.07605486, -0.9333976 ,  0.8536664 ,  0.00759209,  0.73618245,\n",
              "          0.9952587 , -0.3057242 ,  0.07094256,  0.7674821 ,  0.94215655,\n",
              "          0.99605775, -0.9828703 ,  0.01844315,  0.9493984 , -0.92978644,\n",
              "          0.15409221,  0.7554704 , -0.8916053 ,  0.01623527,  0.07158566,\n",
              "         -0.99954337, -0.26712778, -0.57934576,  0.91474974,  0.63130194,\n",
              "          0.99528706,  0.1317939 , -0.993054  ,  0.00368921,  0.7295652 ,\n",
              "         -0.99317265,  0.73738635,  0.05606073, -0.9727572 ,  0.02428479,\n",
              "         -0.89900947,  0.11733472, -0.83931077, -0.97211355,  0.99839556,\n",
              "         -0.7133594 ,  0.41288042, -0.99524945, -0.98705775, -0.8534914 ,\n",
              "         -0.82135314,  0.9831273 ,  0.6489649 ,  0.99916583,  0.6353897 ,\n",
              "          0.96750796, -0.94824386, -0.49243498, -0.99486446, -0.81988925,\n",
              "         -0.78678066,  0.9629003 , -0.98841465, -0.89428174, -0.8818641 ,\n",
              "         -0.69588506, -0.99977213, -0.9628917 ,  0.17717491,  0.98760915,\n",
              "          0.9936539 ,  0.83515906, -0.9324514 ,  0.9915917 , -0.9996717 ,\n",
              "          0.14633289,  0.4418544 , -0.29842302, -0.05438763, -0.9984066 ,\n",
              "         -0.21282862, -0.9979586 , -0.9252314 ,  0.80151117, -0.9922155 ,\n",
              "          0.978267  ,  0.9632439 ,  0.9976847 ],\n",
              "        [-0.9999877 ,  0.04946633, -0.99596953,  0.87408215, -0.99896455,\n",
              "          0.8796005 , -0.9091851 , -0.9955888 , -0.10388736,  0.16812572,\n",
              "         -0.60450274,  0.06029733, -0.03326145,  0.99999774, -0.7048205 ,\n",
              "          0.13472953,  0.8815359 ,  0.06194401, -0.63279396, -0.7656273 ,\n",
              "          0.9584973 , -0.10169669, -0.6754524 ,  0.45604402, -0.998131  ,\n",
              "         -0.00978633, -0.9994901 ,  0.930208  ,  0.93653774,  0.17227225,\n",
              "          0.0636906 ,  0.03232247, -0.9701437 ,  0.4120835 ,  0.9862992 ,\n",
              "          0.9858198 , -0.9833169 , -0.07529061,  0.947864  , -0.9987179 ,\n",
              "          0.78715503,  0.8116663 , -0.99527705,  0.9585359 , -0.99995   ,\n",
              "         -0.14196546, -0.98729014,  0.949884  ,  0.80461353,  0.98357767,\n",
              "          0.9764905 , -0.7064714 ,  0.0895464 ,  0.97244495,  0.9330068 ,\n",
              "          0.9994641 , -0.99383324, -0.91017324,  0.7899349 , -0.78744674,\n",
              "          0.11753093,  0.81646836, -0.520632  ,  0.4929709 , -0.3031025 ,\n",
              "         -0.9999923 , -0.55332994, -0.13435362,  0.90977347,  0.798598  ,\n",
              "          0.99947786,  0.06768852, -0.9984376 , -0.03891788,  0.84128565,\n",
              "         -0.991339  ,  0.78136456,  0.08318175, -0.99127656,  0.10119533,\n",
              "         -0.7796024 ,  0.00370649, -0.44342455, -0.99568814,  0.999461  ,\n",
              "         -0.97010034, -0.31771922, -0.9916508 , -0.91115177, -0.01730692,\n",
              "         -0.93213224,  0.9826034 ,  0.05642503,  0.99764407,  0.4017873 ,\n",
              "          0.8463355 , -0.93084866, -0.38207588, -0.9995337 , -0.44904336,\n",
              "         -0.93865186,  0.8877193 , -0.9975194 , -0.82590264, -0.95061797,\n",
              "         -0.9313749 , -0.999508  , -0.9878559 , -0.21643388,  0.9878544 ,\n",
              "          0.99907947,  0.6695827 , -0.8302361 ,  0.9986917 , -0.9999943 ,\n",
              "          0.12657355, -0.03415343,  0.26255226,  0.00279925, -0.99966013,\n",
              "         -0.0885106 , -0.9997607 , -0.9589575 ,  0.6798679 , -0.9982947 ,\n",
              "          0.98635113,  0.69387245,  0.9971219 ]], dtype=float32)>}"
            ]
          },
          "metadata": {},
          "execution_count": 181
        }
      ]
    },
    {
      "cell_type": "code",
      "source": [
        "preprocessor = keras_nlp.models.BertPreprocessor.from_preset(\"bert_base_en_uncased\")"
      ],
      "metadata": {
        "colab": {
          "base_uri": "https://localhost:8080/"
        },
        "id": "mOlHTy-QSfPI",
        "outputId": "e4a1965f-1aa6-44f8-d889-42e32b87f189"
      },
      "execution_count": 186,
      "outputs": [
        {
          "output_type": "stream",
          "name": "stderr",
          "text": [
            "Downloading from https://www.kaggle.com/api/v1/models/keras/bert/keras/bert_base_en_uncased/2/download/preprocessor.json...\n"
          ]
        }
      ]
    },
    {
      "cell_type": "code",
      "source": [
        "backbone = keras_nlp.models.BertBackbone.from_preset(\"bert_base_en_uncased\")"
      ],
      "metadata": {
        "colab": {
          "base_uri": "https://localhost:8080/"
        },
        "id": "izSC2CRbTRos",
        "outputId": "0c9093be-c0e8-4c7b-fc48-7d63eb9e47c8"
      },
      "execution_count": 187,
      "outputs": [
        {
          "output_type": "stream",
          "name": "stderr",
          "text": [
            "Downloading from https://www.kaggle.com/api/v1/models/keras/bert/keras/bert_base_en_uncased/2/download/config.json...\n",
            "100%|██████████| 510/510 [00:00<00:00, 665kB/s]\n",
            "Downloading from https://www.kaggle.com/api/v1/models/keras/bert/keras/bert_base_en_uncased/2/download/model.weights.h5...\n",
            "100%|██████████| 418M/418M [00:08<00:00, 51.9MB/s]\n"
          ]
        }
      ]
    },
    {
      "cell_type": "code",
      "source": [
        "backbone(preprocessor(string_arr_text))"
      ],
      "metadata": {
        "colab": {
          "base_uri": "https://localhost:8080/"
        },
        "id": "E9Ojpp8zTYc_",
        "outputId": "ad220457-86d0-42e7-d574-f41b13e5357f"
      },
      "execution_count": 189,
      "outputs": [
        {
          "output_type": "execute_result",
          "data": {
            "text/plain": [
              "{'sequence_output': <tf.Tensor: shape=(2, 512, 768), dtype=float32, numpy=\n",
              " array([[[-0.20938647, -0.0447967 , -0.0179227 , ..., -0.30004027,\n",
              "           0.48361152,  0.18294334],\n",
              "         [ 0.32825446, -0.02166456, -0.39377376, ...,  0.11882182,\n",
              "           0.6425974 ,  0.45160437],\n",
              "         [ 0.528185  ,  0.39515415, -0.02727318, ..., -0.73575246,\n",
              "           0.35064745, -0.5483459 ],\n",
              "         ...,\n",
              "         [-0.3357183 , -0.38612738, -0.06444541, ...,  0.29757988,\n",
              "           0.30048501, -0.3327183 ],\n",
              "         [-0.26773313, -0.31494525,  0.02369765, ...,  0.2863674 ,\n",
              "           0.23007949, -0.21449938],\n",
              "         [-0.4126262 , -0.30891353,  0.14669228, ...,  0.26272935,\n",
              "           0.226851  , -0.04317985]],\n",
              " \n",
              "        [[-0.07738914, -0.24507833,  0.1153888 , ..., -0.38911206,\n",
              "           0.48910534,  0.07553282],\n",
              "         [ 0.5525758 , -0.12614192, -0.5826222 , ..., -0.1812959 ,\n",
              "           0.28061315,  0.2827501 ],\n",
              "         [ 0.2549866 ,  0.25033718, -0.28970826, ..., -0.7006984 ,\n",
              "           0.0160688 , -0.7317324 ],\n",
              "         ...,\n",
              "         [-0.42936718, -0.67809075, -0.1922116 , ...,  0.46698833,\n",
              "           0.5281585 , -0.37296903],\n",
              "         [-0.4073898 , -0.460701  , -0.16424   , ...,  0.30634567,\n",
              "           0.38635656, -0.16282137],\n",
              "         [-0.310207  , -0.36101282, -0.00257455, ...,  0.17511967,\n",
              "           0.3389956 , -0.05372045]]], dtype=float32)>,\n",
              " 'pooled_output': <tf.Tensor: shape=(2, 768), dtype=float32, numpy=\n",
              " array([[-0.9295052 , -0.33281052, -0.21390894, ..., -0.25314885,\n",
              "         -0.6633546 ,  0.8804108 ],\n",
              "        [-0.78982174, -0.2703536 ,  0.09432955, ...,  0.11642117,\n",
              "         -0.5580986 ,  0.7638461 ]], dtype=float32)>}"
            ]
          },
          "metadata": {},
          "execution_count": 189
        }
      ]
    },
    {
      "cell_type": "code",
      "source": [
        "preprocessor = keras_nlp.models.BertPreprocessor.from_preset(\"bert_base_multi\")"
      ],
      "metadata": {
        "colab": {
          "base_uri": "https://localhost:8080/"
        },
        "id": "MHKQg1sQTd0r",
        "outputId": "554b5196-6fe4-4279-8ce1-3bcebe5a330a"
      },
      "execution_count": 190,
      "outputs": [
        {
          "output_type": "stream",
          "name": "stderr",
          "text": [
            "Downloading from https://www.kaggle.com/api/v1/models/keras/bert/keras/bert_base_multi/2/download/preprocessor.json...\n"
          ]
        }
      ]
    },
    {
      "cell_type": "code",
      "source": [
        "backbone = keras_nlp.models.BertBackbone.from_preset(\"bert_base_multi\")"
      ],
      "metadata": {
        "colab": {
          "base_uri": "https://localhost:8080/"
        },
        "id": "BicXqVyrTta9",
        "outputId": "de158be6-53d0-4130-cbe5-151b9e954817"
      },
      "execution_count": 191,
      "outputs": [
        {
          "output_type": "stream",
          "name": "stderr",
          "text": [
            "Downloading from https://www.kaggle.com/api/v1/models/keras/bert/keras/bert_base_multi/2/download/config.json...\n",
            "100%|██████████| 511/511 [00:00<00:00, 679kB/s]\n",
            "Downloading from https://www.kaggle.com/api/v1/models/keras/bert/keras/bert_base_multi/2/download/model.weights.h5...\n",
            "100%|██████████| 679M/679M [00:16<00:00, 42.2MB/s]\n"
          ]
        }
      ]
    },
    {
      "cell_type": "code",
      "source": [
        "backbone(preprocessor(string_arr_text))"
      ],
      "metadata": {
        "colab": {
          "base_uri": "https://localhost:8080/"
        },
        "id": "z276zy93Ty7B",
        "outputId": "959c4165-01fd-448d-e4b2-dc56df5d9d4c"
      },
      "execution_count": 192,
      "outputs": [
        {
          "output_type": "execute_result",
          "data": {
            "text/plain": [
              "{'sequence_output': <tf.Tensor: shape=(2, 512, 768), dtype=float32, numpy=\n",
              " array([[[ 0.08711088,  0.11382888,  0.11536136, ...,  0.4214033 ,\n",
              "          -0.09078561, -0.05034738],\n",
              "         [-0.34812558,  0.23785737,  0.3641678 , ...,  0.1912393 ,\n",
              "           0.42588252, -0.18637745],\n",
              "         [-0.5351661 , -0.07008435,  0.11883144, ..., -0.3181511 ,\n",
              "          -0.83528185, -0.2949006 ],\n",
              "         ...,\n",
              "         [-0.11932471,  0.24315329,  0.16223994, ...,  0.57475126,\n",
              "           0.07621647, -0.16686553],\n",
              "         [-0.14910577,  0.2541033 ,  0.2079171 , ...,  0.50970924,\n",
              "           0.13872793, -0.17375654],\n",
              "         [-0.14910062,  0.24503677,  0.28864548, ...,  0.44557023,\n",
              "           0.2115266 , -0.19180845]],\n",
              " \n",
              "        [[ 0.09399235,  0.02161617,  0.17021967, ...,  0.36230803,\n",
              "           0.1955499 ,  0.01508363],\n",
              "         [-0.21053134,  0.01779966,  0.381522  , ...,  0.05383883,\n",
              "           0.5950641 ,  0.1696954 ],\n",
              "         [-0.44740194, -0.29180452,  0.18786246, ..., -0.40811312,\n",
              "          -0.4554757 , -0.0406967 ],\n",
              "         ...,\n",
              "         [-0.17372885,  0.09309697,  0.00636232, ...,  0.19727626,\n",
              "           0.3553568 ,  0.08904828],\n",
              "         [-0.18397522,  0.08995301,  0.00748748, ...,  0.20724434,\n",
              "           0.33888656,  0.10385482],\n",
              "         [-0.22365333,  0.10367605,  0.04019985, ...,  0.13627426,\n",
              "           0.42775285,  0.07453139]]], dtype=float32)>,\n",
              " 'pooled_output': <tf.Tensor: shape=(2, 768), dtype=float32, numpy=\n",
              " array([[ 0.27335465, -0.13404731,  0.26616362, ..., -0.29938614,\n",
              "          0.16952525,  0.38782728],\n",
              "        [ 0.31122106, -0.19838615,  0.38259748, ..., -0.38018852,\n",
              "          0.41695035,  0.46763578]], dtype=float32)>}"
            ]
          },
          "metadata": {},
          "execution_count": 192
        }
      ]
    },
    {
      "cell_type": "code",
      "source": [
        "preprocessor = keras_nlp.models.BloomPreprocessor.from_preset(\"bloom_560m_multi\")"
      ],
      "metadata": {
        "colab": {
          "base_uri": "https://localhost:8080/"
        },
        "id": "-koxsgudT7lB",
        "outputId": "e35294c2-57a1-406d-93e3-9f0255c2fd65"
      },
      "execution_count": 193,
      "outputs": [
        {
          "output_type": "stream",
          "name": "stderr",
          "text": [
            "Downloading from https://www.kaggle.com/api/v1/models/keras/bloom/keras/bloom_560m_multi/3/download/preprocessor.json...\n"
          ]
        }
      ]
    },
    {
      "cell_type": "code",
      "source": [
        "backbone = keras_nlp.models.BloomBackbone.from_preset(\"bloom_560m_multi\")"
      ],
      "metadata": {
        "colab": {
          "base_uri": "https://localhost:8080/"
        },
        "id": "CfiII5SEVLPd",
        "outputId": "cf401588-b873-4df4-b727-77837c68e7c3"
      },
      "execution_count": 194,
      "outputs": [
        {
          "output_type": "stream",
          "name": "stderr",
          "text": [
            "Downloading from https://www.kaggle.com/api/v1/models/keras/bloom/keras/bloom_560m_multi/3/download/config.json...\n",
            "100%|██████████| 491/491 [00:00<00:00, 639kB/s]\n",
            "Downloading from https://www.kaggle.com/api/v1/models/keras/bloom/keras/bloom_560m_multi/3/download/model.weights.h5...\n",
            "100%|██████████| 1.04G/1.04G [00:18<00:00, 59.3MB/s]\n"
          ]
        }
      ]
    },
    {
      "cell_type": "code",
      "source": [
        "backbone(preprocessor(string_arr_text))"
      ],
      "metadata": {
        "colab": {
          "base_uri": "https://localhost:8080/"
        },
        "id": "59EOgBSfVP-O",
        "outputId": "0fb05e6f-ec16-428b-b5a6-f4fa32d6d6ee"
      },
      "execution_count": 196,
      "outputs": [
        {
          "output_type": "execute_result",
          "data": {
            "text/plain": [
              "<tf.Tensor: shape=(2, 2048, 1024), dtype=float32, numpy=\n",
              "array([[[ 2.1761465e+00,  3.2586002e+00,  1.0241686e+00, ...,\n",
              "         -1.6263889e+02,  1.8448048e+00, -6.9300942e+00],\n",
              "        [ 5.4194641e+00,  2.4093409e+00, -2.4139204e+00, ...,\n",
              "          1.6557654e+02,  7.1409416e-01, -4.5761642e+00],\n",
              "        [ 2.9769721e+00,  7.6612782e+00,  1.0352454e+00, ...,\n",
              "          3.0262064e+02,  2.0435967e+00, -5.7509370e+00],\n",
              "        ...,\n",
              "        [ 2.9093158e+00,  6.9414515e+00,  9.3755923e-02, ...,\n",
              "          6.0813019e+01,  5.6328015e+00, -8.2676344e+00],\n",
              "        [ 2.9093158e+00,  6.9414515e+00,  9.3755923e-02, ...,\n",
              "          6.0813019e+01,  5.6328015e+00, -8.2676344e+00],\n",
              "        [ 2.9093158e+00,  6.9414515e+00,  9.3755923e-02, ...,\n",
              "          6.0813019e+01,  5.6328015e+00, -8.2676344e+00]],\n",
              "\n",
              "       [[ 2.1761465e+00,  3.2586002e+00,  1.0241686e+00, ...,\n",
              "         -1.6263889e+02,  1.8448048e+00, -6.9300942e+00],\n",
              "        [ 5.4194641e+00,  2.4093409e+00, -2.4139204e+00, ...,\n",
              "          1.6557654e+02,  7.1409416e-01, -4.5761642e+00],\n",
              "        [ 2.9769721e+00,  7.6612782e+00,  1.0352454e+00, ...,\n",
              "          3.0262064e+02,  2.0435967e+00, -5.7509370e+00],\n",
              "        ...,\n",
              "        [ 2.6352870e+00,  6.4445930e+00, -6.2017983e-01, ...,\n",
              "          1.0120230e+02,  6.0453124e+00, -9.5696268e+00],\n",
              "        [ 2.6352870e+00,  6.4445930e+00, -6.2017983e-01, ...,\n",
              "          1.0120230e+02,  6.0453124e+00, -9.5696268e+00],\n",
              "        [ 2.6352870e+00,  6.4445930e+00, -6.2017983e-01, ...,\n",
              "          1.0120230e+02,  6.0453124e+00, -9.5696268e+00]]], dtype=float32)>"
            ]
          },
          "metadata": {},
          "execution_count": 196
        }
      ]
    },
    {
      "cell_type": "code",
      "source": [
        "preprocessor = keras_nlp.models.DebertaV3Preprocessor.from_preset(\"deberta_v3_extra_small_en\")"
      ],
      "metadata": {
        "colab": {
          "base_uri": "https://localhost:8080/"
        },
        "id": "RR6wFQjiVcGx",
        "outputId": "c47fcb4a-c369-47a3-db7d-6b9972820679"
      },
      "execution_count": 197,
      "outputs": [
        {
          "output_type": "stream",
          "name": "stderr",
          "text": [
            "Downloading from https://www.kaggle.com/api/v1/models/keras/deberta_v3/keras/deberta_v3_extra_small_en/2/download/preprocessor.json...\n"
          ]
        }
      ]
    },
    {
      "cell_type": "code",
      "source": [
        "backbone = keras_nlp.models.DebertaV3Backbone.from_preset(\"deberta_v3_extra_small_en\")"
      ],
      "metadata": {
        "colab": {
          "base_uri": "https://localhost:8080/"
        },
        "id": "RiipylE6V1j-",
        "outputId": "cf872840-27b2-4208-8a35-e50e66295f8d"
      },
      "execution_count": 198,
      "outputs": [
        {
          "output_type": "stream",
          "name": "stderr",
          "text": [
            "Downloading from https://www.kaggle.com/api/v1/models/keras/deberta_v3/keras/deberta_v3_extra_small_en/2/download/config.json...\n",
            "100%|██████████| 539/539 [00:00<00:00, 701kB/s]\n",
            "Downloading from https://www.kaggle.com/api/v1/models/keras/deberta_v3/keras/deberta_v3_extra_small_en/2/download/model.weights.h5...\n",
            "100%|██████████| 270M/270M [00:08<00:00, 35.2MB/s]\n"
          ]
        }
      ]
    },
    {
      "cell_type": "code",
      "source": [
        "backbone(preprocessor(string_arr_text))"
      ],
      "metadata": {
        "colab": {
          "base_uri": "https://localhost:8080/"
        },
        "id": "2fQROAJ5V6ny",
        "outputId": "1756d369-810f-4c9c-8332-66a9ab93a4df"
      },
      "execution_count": 199,
      "outputs": [
        {
          "output_type": "execute_result",
          "data": {
            "text/plain": [
              "<tf.Tensor: shape=(2, 512, 384), dtype=float32, numpy=\n",
              "array([[[-3.4626253 , -0.00978421, -0.12114353, ..., -0.12299246,\n",
              "         -0.22639605,  0.7293565 ],\n",
              "        [ 0.20320858,  0.8181175 ,  0.8702323 , ..., -0.54111135,\n",
              "          0.03345384,  0.6470524 ],\n",
              "        [ 0.5739167 ,  0.40295136, -0.31281596, ...,  1.011291  ,\n",
              "          0.03529015,  0.59822714],\n",
              "        ...,\n",
              "        [ 1.3364415 ,  0.36981773,  0.05525   , ...,  0.42270583,\n",
              "          0.1904701 ,  1.4155257 ],\n",
              "        [ 1.3318508 ,  0.37212145,  0.05893942, ...,  0.43085775,\n",
              "          0.19043136,  1.4249412 ],\n",
              "        [ 1.3310525 ,  0.3815808 ,  0.05100167, ...,  0.4249448 ,\n",
              "          0.19089667,  1.4413466 ]],\n",
              "\n",
              "       [[-3.4284477 , -0.0043433 , -0.13300002, ..., -0.06028314,\n",
              "         -0.2045255 ,  0.5065608 ],\n",
              "        [-0.6611031 , -0.14433683,  1.0434818 , ...,  0.1567784 ,\n",
              "         -0.03792468,  0.43380213],\n",
              "        [-0.5769816 ,  0.36937016, -0.03237634, ...,  1.0018854 ,\n",
              "          0.00702085,  0.2254726 ],\n",
              "        ...,\n",
              "        [ 0.8921586 ,  0.5910597 ,  0.46087354, ...,  0.33601874,\n",
              "         -0.01524972,  0.71253765],\n",
              "        [ 0.88816935,  0.5926116 ,  0.4289964 , ...,  0.31846064,\n",
              "         -0.04661881,  0.6644541 ],\n",
              "        [ 0.88091534,  0.5967219 ,  0.42369586, ...,  0.30787274,\n",
              "         -0.05194779,  0.6828649 ]]], dtype=float32)>"
            ]
          },
          "metadata": {},
          "execution_count": 199
        }
      ]
    },
    {
      "cell_type": "code",
      "source": [
        "preprocessor = keras_nlp.models.DistilBertPreprocessor.from_preset(\"distil_bert_base_multi\")"
      ],
      "metadata": {
        "colab": {
          "base_uri": "https://localhost:8080/"
        },
        "id": "5h8DKGsIWAa4",
        "outputId": "5f618fab-8834-4d96-fe79-9fc8aa4f3d48"
      },
      "execution_count": 200,
      "outputs": [
        {
          "output_type": "stream",
          "name": "stderr",
          "text": [
            "Downloading from https://www.kaggle.com/api/v1/models/keras/distil_bert/keras/distil_bert_base_multi/2/download/preprocessor.json...\n"
          ]
        }
      ]
    },
    {
      "cell_type": "code",
      "source": [
        "backbone = keras_nlp.models.DistilBertBackbone.from_preset(\"distil_bert_base_multi\")"
      ],
      "metadata": {
        "colab": {
          "base_uri": "https://localhost:8080/"
        },
        "id": "AJBarClYWurj",
        "outputId": "4814ac14-8f00-47b2-d41b-df169e523ab1"
      },
      "execution_count": 201,
      "outputs": [
        {
          "output_type": "stream",
          "name": "stderr",
          "text": [
            "Downloading from https://www.kaggle.com/api/v1/models/keras/distil_bert/keras/distil_bert_base_multi/2/download/config.json...\n",
            "100%|██████████| 516/516 [00:00<00:00, 588kB/s]\n",
            "Downloading from https://www.kaggle.com/api/v1/models/keras/distil_bert/keras/distil_bert_base_multi/2/download/model.weights.h5...\n",
            "100%|██████████| 514M/514M [00:15<00:00, 35.3MB/s]\n"
          ]
        }
      ]
    },
    {
      "cell_type": "code",
      "source": [
        "backbone(preprocessor(string_arr_text))"
      ],
      "metadata": {
        "colab": {
          "base_uri": "https://localhost:8080/"
        },
        "id": "7Cj-EdlYWzcY",
        "outputId": "f215dfc1-9b7e-4057-e820-2e3e04bcbb9b"
      },
      "execution_count": 202,
      "outputs": [
        {
          "output_type": "execute_result",
          "data": {
            "text/plain": [
              "<tf.Tensor: shape=(2, 512, 768), dtype=float32, numpy=\n",
              "array([[[-2.38554887e-02,  1.68186605e-01,  2.70602375e-01, ...,\n",
              "          4.69620705e-01, -1.17200643e-01, -1.86264545e-01],\n",
              "        [-2.37414554e-01,  2.69834399e-01,  1.22712567e-01, ...,\n",
              "          1.34710252e-01,  3.13492455e-02, -4.43504870e-01],\n",
              "        [-4.15596485e-01,  1.78933501e-01,  3.18474919e-01, ...,\n",
              "         -2.53874481e-01, -6.53401077e-01, -4.22492176e-01],\n",
              "        ...,\n",
              "        [-1.26550436e-01,  1.83414266e-01,  4.12947059e-01, ...,\n",
              "          3.36093783e-01,  7.91351572e-02, -2.73841619e-01],\n",
              "        [-1.16294555e-01,  1.82058826e-01,  4.37204301e-01, ...,\n",
              "          3.09447169e-01,  6.14488907e-02, -2.61272430e-01],\n",
              "        [-6.95211440e-02,  2.16463149e-01,  4.62832749e-01, ...,\n",
              "          2.26854935e-01,  1.05398208e-01, -2.76058584e-01]],\n",
              "\n",
              "       [[-1.76659711e-02, -3.83704305e-02,  1.54110759e-01, ...,\n",
              "          2.61661261e-01,  1.19499750e-01, -7.80541301e-02],\n",
              "        [-2.80655354e-01,  3.75499129e-02,  7.76091516e-02, ...,\n",
              "          1.11040533e-01,  2.13003471e-01, -3.39048415e-01],\n",
              "        [-4.81025994e-01, -1.41606390e-01,  4.44035858e-01, ...,\n",
              "         -3.16503912e-01, -3.73657823e-01, -2.99522787e-01],\n",
              "        ...,\n",
              "        [ 4.98112366e-02,  1.78923905e-02,  1.59917563e-01, ...,\n",
              "          1.08492523e-01,  2.72694647e-01, -1.13733560e-02],\n",
              "        [ 4.30966876e-02,  2.99534947e-03,  1.69652238e-01, ...,\n",
              "          7.23100975e-02,  2.39519030e-01,  1.04191378e-02],\n",
              "        [ 2.40874067e-02, -1.96337700e-04,  1.86595425e-01, ...,\n",
              "          4.30176258e-02,  2.65263826e-01, -3.16657163e-02]]],\n",
              "      dtype=float32)>"
            ]
          },
          "metadata": {},
          "execution_count": 202
        }
      ]
    },
    {
      "cell_type": "code",
      "source": [],
      "metadata": {
        "id": "THwJg7W1XAwX"
      },
      "execution_count": null,
      "outputs": []
    }
  ]
}