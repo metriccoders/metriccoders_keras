{
  "nbformat": 4,
  "nbformat_minor": 0,
  "metadata": {
    "colab": {
      "provenance": []
    },
    "kernelspec": {
      "name": "python3",
      "display_name": "Python 3"
    },
    "language_info": {
      "name": "python"
    }
  },
  "cells": [
    {
      "cell_type": "code",
      "source": [
        "!pip install keras keras_nlp tensorflow tensorflow-text"
      ],
      "metadata": {
        "colab": {
          "base_uri": "https://localhost:8080/"
        },
        "id": "ri13sjCynxat",
        "outputId": "72df7978-6bc5-4eaa-f919-52f4082cdedb"
      },
      "execution_count": 1,
      "outputs": [
        {
          "output_type": "stream",
          "name": "stdout",
          "text": [
            "Requirement already satisfied: keras in /usr/local/lib/python3.10/dist-packages (3.4.1)\n",
            "Requirement already satisfied: keras_nlp in /usr/local/lib/python3.10/dist-packages (0.14.0)\n",
            "Requirement already satisfied: tensorflow in /usr/local/lib/python3.10/dist-packages (2.16.2)\n",
            "Requirement already satisfied: tensorflow-text in /usr/local/lib/python3.10/dist-packages (2.16.1)\n",
            "Requirement already satisfied: absl-py in /usr/local/lib/python3.10/dist-packages (from keras) (1.4.0)\n",
            "Requirement already satisfied: numpy in /usr/local/lib/python3.10/dist-packages (from keras) (1.25.2)\n",
            "Requirement already satisfied: rich in /usr/local/lib/python3.10/dist-packages (from keras) (13.7.1)\n",
            "Requirement already satisfied: namex in /usr/local/lib/python3.10/dist-packages (from keras) (0.0.8)\n",
            "Requirement already satisfied: h5py in /usr/local/lib/python3.10/dist-packages (from keras) (3.11.0)\n",
            "Requirement already satisfied: optree in /usr/local/lib/python3.10/dist-packages (from keras) (0.11.0)\n",
            "Requirement already satisfied: ml-dtypes in /usr/local/lib/python3.10/dist-packages (from keras) (0.3.2)\n",
            "Requirement already satisfied: packaging in /usr/local/lib/python3.10/dist-packages (from keras) (24.1)\n",
            "Requirement already satisfied: regex in /usr/local/lib/python3.10/dist-packages (from keras_nlp) (2024.5.15)\n",
            "Requirement already satisfied: kagglehub in /usr/local/lib/python3.10/dist-packages (from keras_nlp) (0.2.5)\n",
            "Requirement already satisfied: astunparse>=1.6.0 in /usr/local/lib/python3.10/dist-packages (from tensorflow) (1.6.3)\n",
            "Requirement already satisfied: flatbuffers>=23.5.26 in /usr/local/lib/python3.10/dist-packages (from tensorflow) (24.3.25)\n",
            "Requirement already satisfied: gast!=0.5.0,!=0.5.1,!=0.5.2,>=0.2.1 in /usr/local/lib/python3.10/dist-packages (from tensorflow) (0.5.4)\n",
            "Requirement already satisfied: google-pasta>=0.1.1 in /usr/local/lib/python3.10/dist-packages (from tensorflow) (0.2.0)\n",
            "Requirement already satisfied: libclang>=13.0.0 in /usr/local/lib/python3.10/dist-packages (from tensorflow) (18.1.1)\n",
            "Requirement already satisfied: opt-einsum>=2.3.2 in /usr/local/lib/python3.10/dist-packages (from tensorflow) (3.3.0)\n",
            "Requirement already satisfied: protobuf!=4.21.0,!=4.21.1,!=4.21.2,!=4.21.3,!=4.21.4,!=4.21.5,<5.0.0dev,>=3.20.3 in /usr/local/lib/python3.10/dist-packages (from tensorflow) (3.20.3)\n",
            "Requirement already satisfied: requests<3,>=2.21.0 in /usr/local/lib/python3.10/dist-packages (from tensorflow) (2.31.0)\n",
            "Requirement already satisfied: setuptools in /usr/local/lib/python3.10/dist-packages (from tensorflow) (67.7.2)\n",
            "Requirement already satisfied: six>=1.12.0 in /usr/local/lib/python3.10/dist-packages (from tensorflow) (1.16.0)\n",
            "Requirement already satisfied: termcolor>=1.1.0 in /usr/local/lib/python3.10/dist-packages (from tensorflow) (2.4.0)\n",
            "Requirement already satisfied: typing-extensions>=3.6.6 in /usr/local/lib/python3.10/dist-packages (from tensorflow) (4.12.2)\n",
            "Requirement already satisfied: wrapt>=1.11.0 in /usr/local/lib/python3.10/dist-packages (from tensorflow) (1.14.1)\n",
            "Requirement already satisfied: grpcio<2.0,>=1.24.3 in /usr/local/lib/python3.10/dist-packages (from tensorflow) (1.64.1)\n",
            "Requirement already satisfied: tensorboard<2.17,>=2.16 in /usr/local/lib/python3.10/dist-packages (from tensorflow) (2.16.2)\n",
            "Requirement already satisfied: tensorflow-io-gcs-filesystem>=0.23.1 in /usr/local/lib/python3.10/dist-packages (from tensorflow) (0.37.0)\n",
            "Requirement already satisfied: wheel<1.0,>=0.23.0 in /usr/local/lib/python3.10/dist-packages (from astunparse>=1.6.0->tensorflow) (0.43.0)\n",
            "Requirement already satisfied: charset-normalizer<4,>=2 in /usr/local/lib/python3.10/dist-packages (from requests<3,>=2.21.0->tensorflow) (3.3.2)\n",
            "Requirement already satisfied: idna<4,>=2.5 in /usr/local/lib/python3.10/dist-packages (from requests<3,>=2.21.0->tensorflow) (3.7)\n",
            "Requirement already satisfied: urllib3<3,>=1.21.1 in /usr/local/lib/python3.10/dist-packages (from requests<3,>=2.21.0->tensorflow) (2.0.7)\n",
            "Requirement already satisfied: certifi>=2017.4.17 in /usr/local/lib/python3.10/dist-packages (from requests<3,>=2.21.0->tensorflow) (2024.6.2)\n",
            "Requirement already satisfied: markdown>=2.6.8 in /usr/local/lib/python3.10/dist-packages (from tensorboard<2.17,>=2.16->tensorflow) (3.6)\n",
            "Requirement already satisfied: tensorboard-data-server<0.8.0,>=0.7.0 in /usr/local/lib/python3.10/dist-packages (from tensorboard<2.17,>=2.16->tensorflow) (0.7.2)\n",
            "Requirement already satisfied: werkzeug>=1.0.1 in /usr/local/lib/python3.10/dist-packages (from tensorboard<2.17,>=2.16->tensorflow) (3.0.3)\n",
            "Requirement already satisfied: tqdm in /usr/local/lib/python3.10/dist-packages (from kagglehub->keras_nlp) (4.66.4)\n",
            "Requirement already satisfied: markdown-it-py>=2.2.0 in /usr/local/lib/python3.10/dist-packages (from rich->keras) (3.0.0)\n",
            "Requirement already satisfied: pygments<3.0.0,>=2.13.0 in /usr/local/lib/python3.10/dist-packages (from rich->keras) (2.16.1)\n",
            "Requirement already satisfied: mdurl~=0.1 in /usr/local/lib/python3.10/dist-packages (from markdown-it-py>=2.2.0->rich->keras) (0.1.2)\n",
            "Requirement already satisfied: MarkupSafe>=2.1.1 in /usr/local/lib/python3.10/dist-packages (from werkzeug>=1.0.1->tensorboard<2.17,>=2.16->tensorflow) (2.1.5)\n"
          ]
        }
      ]
    },
    {
      "cell_type": "code",
      "source": [
        "import keras\n",
        "import keras_nlp\n",
        "import tensorflow\n",
        "import tensorflow_text\n",
        "import numpy as np\n",
        "import pandas as pd\n",
        "import matplotlib.pyplot as plt\n",
        "import seaborn as sns\n",
        "import nltk"
      ],
      "metadata": {
        "id": "5FGU1t5MobbX"
      },
      "execution_count": 2,
      "outputs": []
    },
    {
      "cell_type": "code",
      "source": [
        "from keras import layers\n",
        "from keras import models"
      ],
      "metadata": {
        "id": "BeYW9a7uqXrb"
      },
      "execution_count": 19,
      "outputs": []
    },
    {
      "cell_type": "code",
      "source": [
        "X = np.random.rand(10000, 10)\n",
        "y = np.random.rand(10000, 3)"
      ],
      "metadata": {
        "id": "KRHB05ygtggh"
      },
      "execution_count": 55,
      "outputs": []
    },
    {
      "cell_type": "code",
      "source": [
        "model = models.Sequential()"
      ],
      "metadata": {
        "id": "HJpKXeLTtl4O"
      },
      "execution_count": 56,
      "outputs": []
    },
    {
      "cell_type": "code",
      "source": [
        "model.add(layers.Dense(64, input_shape=(10,), activation=\"relu\"))"
      ],
      "metadata": {
        "id": "nDT92EMftpjZ"
      },
      "execution_count": 57,
      "outputs": []
    },
    {
      "cell_type": "code",
      "source": [
        "model.add(layers.Dense(128, activation=\"relu\"))"
      ],
      "metadata": {
        "id": "gG5fGwNntvdt"
      },
      "execution_count": 58,
      "outputs": []
    },
    {
      "cell_type": "code",
      "source": [
        "model.add(layers.Dense(1024, activation=\"relu\"))"
      ],
      "metadata": {
        "id": "knxKuvdat7pI"
      },
      "execution_count": 59,
      "outputs": []
    },
    {
      "cell_type": "code",
      "source": [
        "model.add(layers.Dense(3, activation=\"softmax\"))"
      ],
      "metadata": {
        "id": "mWp-EOm6t-7u"
      },
      "execution_count": 60,
      "outputs": []
    },
    {
      "cell_type": "code",
      "source": [
        "model.summary()"
      ],
      "metadata": {
        "id": "8CbtCXLSuPMK",
        "outputId": "5705d695-8624-4b55-9902-a27d34e73009",
        "colab": {
          "base_uri": "https://localhost:8080/",
          "height": 257
        }
      },
      "execution_count": 61,
      "outputs": [
        {
          "output_type": "display_data",
          "data": {
            "text/plain": [
              "\u001b[1mModel: \"sequential_4\"\u001b[0m\n"
            ],
            "text/html": [
              "<pre style=\"white-space:pre;overflow-x:auto;line-height:normal;font-family:Menlo,'DejaVu Sans Mono',consolas,'Courier New',monospace\"><span style=\"font-weight: bold\">Model: \"sequential_4\"</span>\n",
              "</pre>\n"
            ]
          },
          "metadata": {}
        },
        {
          "output_type": "display_data",
          "data": {
            "text/plain": [
              "┏━━━━━━━━━━━━━━━━━━━━━━━━━━━━━━━━━━━━━━┳━━━━━━━━━━━━━━━━━━━━━━━━━━━━━┳━━━━━━━━━━━━━━━━━┓\n",
              "┃\u001b[1m \u001b[0m\u001b[1mLayer (type)                        \u001b[0m\u001b[1m \u001b[0m┃\u001b[1m \u001b[0m\u001b[1mOutput Shape               \u001b[0m\u001b[1m \u001b[0m┃\u001b[1m \u001b[0m\u001b[1m        Param #\u001b[0m\u001b[1m \u001b[0m┃\n",
              "┡━━━━━━━━━━━━━━━━━━━━━━━━━━━━━━━━━━━━━━╇━━━━━━━━━━━━━━━━━━━━━━━━━━━━━╇━━━━━━━━━━━━━━━━━┩\n",
              "│ dense_20 (\u001b[38;5;33mDense\u001b[0m)                     │ (\u001b[38;5;45mNone\u001b[0m, \u001b[38;5;34m64\u001b[0m)                  │             \u001b[38;5;34m704\u001b[0m │\n",
              "├──────────────────────────────────────┼─────────────────────────────┼─────────────────┤\n",
              "│ dense_21 (\u001b[38;5;33mDense\u001b[0m)                     │ (\u001b[38;5;45mNone\u001b[0m, \u001b[38;5;34m128\u001b[0m)                 │           \u001b[38;5;34m8,320\u001b[0m │\n",
              "├──────────────────────────────────────┼─────────────────────────────┼─────────────────┤\n",
              "│ dense_22 (\u001b[38;5;33mDense\u001b[0m)                     │ (\u001b[38;5;45mNone\u001b[0m, \u001b[38;5;34m1024\u001b[0m)                │         \u001b[38;5;34m132,096\u001b[0m │\n",
              "├──────────────────────────────────────┼─────────────────────────────┼─────────────────┤\n",
              "│ dense_23 (\u001b[38;5;33mDense\u001b[0m)                     │ (\u001b[38;5;45mNone\u001b[0m, \u001b[38;5;34m3\u001b[0m)                   │           \u001b[38;5;34m3,075\u001b[0m │\n",
              "└──────────────────────────────────────┴─────────────────────────────┴─────────────────┘\n"
            ],
            "text/html": [
              "<pre style=\"white-space:pre;overflow-x:auto;line-height:normal;font-family:Menlo,'DejaVu Sans Mono',consolas,'Courier New',monospace\">┏━━━━━━━━━━━━━━━━━━━━━━━━━━━━━━━━━━━━━━┳━━━━━━━━━━━━━━━━━━━━━━━━━━━━━┳━━━━━━━━━━━━━━━━━┓\n",
              "┃<span style=\"font-weight: bold\"> Layer (type)                         </span>┃<span style=\"font-weight: bold\"> Output Shape                </span>┃<span style=\"font-weight: bold\">         Param # </span>┃\n",
              "┡━━━━━━━━━━━━━━━━━━━━━━━━━━━━━━━━━━━━━━╇━━━━━━━━━━━━━━━━━━━━━━━━━━━━━╇━━━━━━━━━━━━━━━━━┩\n",
              "│ dense_20 (<span style=\"color: #0087ff; text-decoration-color: #0087ff\">Dense</span>)                     │ (<span style=\"color: #00d7ff; text-decoration-color: #00d7ff\">None</span>, <span style=\"color: #00af00; text-decoration-color: #00af00\">64</span>)                  │             <span style=\"color: #00af00; text-decoration-color: #00af00\">704</span> │\n",
              "├──────────────────────────────────────┼─────────────────────────────┼─────────────────┤\n",
              "│ dense_21 (<span style=\"color: #0087ff; text-decoration-color: #0087ff\">Dense</span>)                     │ (<span style=\"color: #00d7ff; text-decoration-color: #00d7ff\">None</span>, <span style=\"color: #00af00; text-decoration-color: #00af00\">128</span>)                 │           <span style=\"color: #00af00; text-decoration-color: #00af00\">8,320</span> │\n",
              "├──────────────────────────────────────┼─────────────────────────────┼─────────────────┤\n",
              "│ dense_22 (<span style=\"color: #0087ff; text-decoration-color: #0087ff\">Dense</span>)                     │ (<span style=\"color: #00d7ff; text-decoration-color: #00d7ff\">None</span>, <span style=\"color: #00af00; text-decoration-color: #00af00\">1024</span>)                │         <span style=\"color: #00af00; text-decoration-color: #00af00\">132,096</span> │\n",
              "├──────────────────────────────────────┼─────────────────────────────┼─────────────────┤\n",
              "│ dense_23 (<span style=\"color: #0087ff; text-decoration-color: #0087ff\">Dense</span>)                     │ (<span style=\"color: #00d7ff; text-decoration-color: #00d7ff\">None</span>, <span style=\"color: #00af00; text-decoration-color: #00af00\">3</span>)                   │           <span style=\"color: #00af00; text-decoration-color: #00af00\">3,075</span> │\n",
              "└──────────────────────────────────────┴─────────────────────────────┴─────────────────┘\n",
              "</pre>\n"
            ]
          },
          "metadata": {}
        },
        {
          "output_type": "display_data",
          "data": {
            "text/plain": [
              "\u001b[1m Total params: \u001b[0m\u001b[38;5;34m144,195\u001b[0m (563.26 KB)\n"
            ],
            "text/html": [
              "<pre style=\"white-space:pre;overflow-x:auto;line-height:normal;font-family:Menlo,'DejaVu Sans Mono',consolas,'Courier New',monospace\"><span style=\"font-weight: bold\"> Total params: </span><span style=\"color: #00af00; text-decoration-color: #00af00\">144,195</span> (563.26 KB)\n",
              "</pre>\n"
            ]
          },
          "metadata": {}
        },
        {
          "output_type": "display_data",
          "data": {
            "text/plain": [
              "\u001b[1m Trainable params: \u001b[0m\u001b[38;5;34m144,195\u001b[0m (563.26 KB)\n"
            ],
            "text/html": [
              "<pre style=\"white-space:pre;overflow-x:auto;line-height:normal;font-family:Menlo,'DejaVu Sans Mono',consolas,'Courier New',monospace\"><span style=\"font-weight: bold\"> Trainable params: </span><span style=\"color: #00af00; text-decoration-color: #00af00\">144,195</span> (563.26 KB)\n",
              "</pre>\n"
            ]
          },
          "metadata": {}
        },
        {
          "output_type": "display_data",
          "data": {
            "text/plain": [
              "\u001b[1m Non-trainable params: \u001b[0m\u001b[38;5;34m0\u001b[0m (0.00 B)\n"
            ],
            "text/html": [
              "<pre style=\"white-space:pre;overflow-x:auto;line-height:normal;font-family:Menlo,'DejaVu Sans Mono',consolas,'Courier New',monospace\"><span style=\"font-weight: bold\"> Non-trainable params: </span><span style=\"color: #00af00; text-decoration-color: #00af00\">0</span> (0.00 B)\n",
              "</pre>\n"
            ]
          },
          "metadata": {}
        }
      ]
    },
    {
      "cell_type": "code",
      "source": [
        "model.compile(optimizer=\"adam\", loss=\"mae\", metrics=[\"accuracy\", \"precision\", \"recall\", \"auc\"])"
      ],
      "metadata": {
        "id": "PhH3uwtuuRR8"
      },
      "execution_count": 62,
      "outputs": []
    },
    {
      "cell_type": "code",
      "source": [
        "model.fit(X,y, epochs=10, batch_size=16, validation_split=0.2)"
      ],
      "metadata": {
        "id": "9qntYrm-un2i",
        "outputId": "ea7bfdb0-f4e6-4f52-ce3e-320dbebef39a",
        "colab": {
          "base_uri": "https://localhost:8080/"
        }
      },
      "execution_count": 63,
      "outputs": [
        {
          "output_type": "stream",
          "name": "stdout",
          "text": [
            "Epoch 1/10\n",
            "\u001b[1m500/500\u001b[0m \u001b[32m━━━━━━━━━━━━━━━━━━━━\u001b[0m\u001b[37m\u001b[0m \u001b[1m6s\u001b[0m 7ms/step - accuracy: 0.3242 - auc: 0.0000e+00 - loss: 0.2792 - precision: 0.0000e+00 - recall: 0.0000e+00 - val_accuracy: 0.3205 - val_auc: 0.0000e+00 - val_loss: 0.2748 - val_precision: 0.0000e+00 - val_recall: 0.0000e+00\n",
            "Epoch 2/10\n",
            "\u001b[1m500/500\u001b[0m \u001b[32m━━━━━━━━━━━━━━━━━━━━\u001b[0m\u001b[37m\u001b[0m \u001b[1m4s\u001b[0m 5ms/step - accuracy: 0.3402 - auc: 0.0000e+00 - loss: 0.2758 - precision: 0.0000e+00 - recall: 0.0000e+00 - val_accuracy: 0.3385 - val_auc: 0.0000e+00 - val_loss: 0.2748 - val_precision: 0.0000e+00 - val_recall: 0.0000e+00\n",
            "Epoch 3/10\n",
            "\u001b[1m500/500\u001b[0m \u001b[32m━━━━━━━━━━━━━━━━━━━━\u001b[0m\u001b[37m\u001b[0m \u001b[1m5s\u001b[0m 6ms/step - accuracy: 0.3433 - auc: 0.0000e+00 - loss: 0.2756 - precision: 0.0000e+00 - recall: 0.0000e+00 - val_accuracy: 0.3275 - val_auc: 0.0000e+00 - val_loss: 0.2749 - val_precision: 0.0000e+00 - val_recall: 0.0000e+00\n",
            "Epoch 4/10\n",
            "\u001b[1m500/500\u001b[0m \u001b[32m━━━━━━━━━━━━━━━━━━━━\u001b[0m\u001b[37m\u001b[0m \u001b[1m6s\u001b[0m 11ms/step - accuracy: 0.3369 - auc: 0.0000e+00 - loss: 0.2782 - precision: 0.0000e+00 - recall: 0.0000e+00 - val_accuracy: 0.3245 - val_auc: 0.0000e+00 - val_loss: 0.2748 - val_precision: 0.0000e+00 - val_recall: 0.0000e+00\n",
            "Epoch 5/10\n",
            "\u001b[1m500/500\u001b[0m \u001b[32m━━━━━━━━━━━━━━━━━━━━\u001b[0m\u001b[37m\u001b[0m \u001b[1m4s\u001b[0m 8ms/step - accuracy: 0.3348 - auc: 0.0000e+00 - loss: 0.2762 - precision: 0.0000e+00 - recall: 0.0000e+00 - val_accuracy: 0.3405 - val_auc: 0.0000e+00 - val_loss: 0.2748 - val_precision: 0.0000e+00 - val_recall: 0.0000e+00\n",
            "Epoch 6/10\n",
            "\u001b[1m500/500\u001b[0m \u001b[32m━━━━━━━━━━━━━━━━━━━━\u001b[0m\u001b[37m\u001b[0m \u001b[1m3s\u001b[0m 6ms/step - accuracy: 0.3458 - auc: 0.0000e+00 - loss: 0.2750 - precision: 0.6806 - recall: 4.7377e-05 - val_accuracy: 0.3330 - val_auc: 0.0000e+00 - val_loss: 0.2759 - val_precision: 0.0000e+00 - val_recall: 0.0000e+00\n",
            "Epoch 7/10\n",
            "\u001b[1m500/500\u001b[0m \u001b[32m━━━━━━━━━━━━━━━━━━━━\u001b[0m\u001b[37m\u001b[0m \u001b[1m7s\u001b[0m 9ms/step - accuracy: 0.3524 - auc: 0.0000e+00 - loss: 0.2754 - precision: 0.0000e+00 - recall: 0.0000e+00 - val_accuracy: 0.3310 - val_auc: 0.0000e+00 - val_loss: 0.2752 - val_precision: 0.0000e+00 - val_recall: 0.0000e+00\n",
            "Epoch 8/10\n",
            "\u001b[1m500/500\u001b[0m \u001b[32m━━━━━━━━━━━━━━━━━━━━\u001b[0m\u001b[37m\u001b[0m \u001b[1m3s\u001b[0m 6ms/step - accuracy: 0.3473 - auc: 0.0000e+00 - loss: 0.2741 - precision: 0.3693 - recall: 5.2246e-05 - val_accuracy: 0.3410 - val_auc: 0.0000e+00 - val_loss: 0.2751 - val_precision: 1.0000 - val_recall: 0.0010\n",
            "Epoch 9/10\n",
            "\u001b[1m500/500\u001b[0m \u001b[32m━━━━━━━━━━━━━━━━━━━━\u001b[0m\u001b[37m\u001b[0m \u001b[1m3s\u001b[0m 6ms/step - accuracy: 0.3514 - auc: 0.0000e+00 - loss: 0.2763 - precision: 0.9461 - recall: 6.0853e-04 - val_accuracy: 0.3215 - val_auc: 0.0000e+00 - val_loss: 0.2751 - val_precision: 0.0000e+00 - val_recall: 0.0000e+00\n",
            "Epoch 10/10\n",
            "\u001b[1m500/500\u001b[0m \u001b[32m━━━━━━━━━━━━━━━━━━━━\u001b[0m\u001b[37m\u001b[0m \u001b[1m3s\u001b[0m 6ms/step - accuracy: 0.3508 - auc: 0.0000e+00 - loss: 0.2754 - precision: 0.8822 - recall: 6.3420e-04 - val_accuracy: 0.3365 - val_auc: 0.0000e+00 - val_loss: 0.2757 - val_precision: 1.0000 - val_recall: 6.6667e-04\n"
          ]
        },
        {
          "output_type": "execute_result",
          "data": {
            "text/plain": [
              "<keras.src.callbacks.history.History at 0x7b2bbd4a4d60>"
            ]
          },
          "metadata": {},
          "execution_count": 63
        }
      ]
    },
    {
      "cell_type": "code",
      "source": [
        "model.predict(np.random.rand(100, 10))"
      ],
      "metadata": {
        "id": "DIa8URCBur2e",
        "outputId": "74a61ec2-41d7-4f82-9547-d08c4b37b854",
        "colab": {
          "base_uri": "https://localhost:8080/"
        }
      },
      "execution_count": 64,
      "outputs": [
        {
          "output_type": "stream",
          "name": "stdout",
          "text": [
            "\r\u001b[1m1/4\u001b[0m \u001b[32m━━━━━\u001b[0m\u001b[37m━━━━━━━━━━━━━━━\u001b[0m \u001b[1m0s\u001b[0m 228ms/step"
          ]
        },
        {
          "output_type": "stream",
          "name": "stderr",
          "text": [
            "WARNING:tensorflow:5 out of the last 37 calls to <function TensorFlowTrainer.make_predict_function.<locals>.one_step_on_data_distributed at 0x7b2bbcf14430> triggered tf.function retracing. Tracing is expensive and the excessive number of tracings could be due to (1) creating @tf.function repeatedly in a loop, (2) passing tensors with different shapes, (3) passing Python objects instead of tensors. For (1), please define your @tf.function outside of the loop. For (2), @tf.function has reduce_retracing=True option that can avoid unnecessary retracing. For (3), please refer to https://www.tensorflow.org/guide/function#controlling_retracing and https://www.tensorflow.org/api_docs/python/tf/function for  more details.\n"
          ]
        },
        {
          "output_type": "stream",
          "name": "stdout",
          "text": [
            "\u001b[1m4/4\u001b[0m \u001b[32m━━━━━━━━━━━━━━━━━━━━\u001b[0m\u001b[37m\u001b[0m \u001b[1m0s\u001b[0m 38ms/step\n"
          ]
        },
        {
          "output_type": "execute_result",
          "data": {
            "text/plain": [
              "array([[0.34018016, 0.3323943 , 0.3274256 ],\n",
              "       [0.3034322 , 0.35163873, 0.3449291 ],\n",
              "       [0.33878076, 0.3311476 , 0.3300717 ],\n",
              "       [0.3534733 , 0.34521013, 0.30131644],\n",
              "       [0.33945984, 0.3466455 , 0.3138946 ],\n",
              "       [0.3592208 , 0.34610978, 0.29466933],\n",
              "       [0.34662968, 0.34497243, 0.30839786],\n",
              "       [0.33097667, 0.32772475, 0.3412986 ],\n",
              "       [0.33946216, 0.33767825, 0.32285956],\n",
              "       [0.33704963, 0.3347255 , 0.32822487],\n",
              "       [0.331288  , 0.31950262, 0.34920928],\n",
              "       [0.32947165, 0.33349478, 0.3370335 ],\n",
              "       [0.35020342, 0.3393064 , 0.3104902 ],\n",
              "       [0.34318072, 0.34546542, 0.31135374],\n",
              "       [0.3446239 , 0.33638567, 0.31899056],\n",
              "       [0.33998576, 0.33580005, 0.32421422],\n",
              "       [0.35142967, 0.34288588, 0.30568442],\n",
              "       [0.34959316, 0.34310523, 0.3073015 ],\n",
              "       [0.32641783, 0.32506952, 0.34851268],\n",
              "       [0.34466928, 0.3436228 , 0.3117079 ],\n",
              "       [0.36056843, 0.34358126, 0.2958502 ],\n",
              "       [0.34083495, 0.33236715, 0.3267979 ],\n",
              "       [0.34581032, 0.34470388, 0.3094858 ],\n",
              "       [0.32480562, 0.34918678, 0.32600757],\n",
              "       [0.34177503, 0.3407994 , 0.31742555],\n",
              "       [0.33450583, 0.32028377, 0.34521034],\n",
              "       [0.35000804, 0.34550655, 0.3044854 ],\n",
              "       [0.3276111 , 0.2990246 , 0.37336424],\n",
              "       [0.33887202, 0.34462836, 0.31649962],\n",
              "       [0.36438954, 0.34403458, 0.29157576],\n",
              "       [0.34998754, 0.3388681 , 0.31114432],\n",
              "       [0.34577158, 0.3434719 , 0.31075647],\n",
              "       [0.32698026, 0.34503016, 0.32798964],\n",
              "       [0.3384346 , 0.33252147, 0.3290439 ],\n",
              "       [0.4070759 , 0.30451232, 0.2884118 ],\n",
              "       [0.34431648, 0.33633354, 0.31934986],\n",
              "       [0.32871026, 0.3102327 , 0.36105707],\n",
              "       [0.2807928 , 0.31659523, 0.40261197],\n",
              "       [0.34307325, 0.3388898 , 0.31803682],\n",
              "       [0.29783338, 0.37700915, 0.32515737],\n",
              "       [0.35320574, 0.34100705, 0.30578712],\n",
              "       [0.34987226, 0.3414117 , 0.30871606],\n",
              "       [0.3588218 , 0.33850116, 0.30267707],\n",
              "       [0.35333753, 0.34541342, 0.30124903],\n",
              "       [0.35377693, 0.3425323 , 0.30369073],\n",
              "       [0.35429755, 0.33448675, 0.3112156 ],\n",
              "       [0.3710819 , 0.34597915, 0.28293896],\n",
              "       [0.34577355, 0.33818582, 0.31604064],\n",
              "       [0.35222185, 0.3409263 , 0.3068518 ],\n",
              "       [0.34723336, 0.34553033, 0.3072363 ],\n",
              "       [0.34861812, 0.34547526, 0.30590668],\n",
              "       [0.28533173, 0.41425133, 0.30041698],\n",
              "       [0.28539553, 0.32143414, 0.39317024],\n",
              "       [0.3543888 , 0.34828866, 0.2973225 ],\n",
              "       [0.33381903, 0.33073112, 0.33544978],\n",
              "       [0.34805614, 0.3431353 , 0.3088085 ],\n",
              "       [0.34012204, 0.33678854, 0.32308936],\n",
              "       [0.3277656 , 0.32446244, 0.34777188],\n",
              "       [0.30790678, 0.35801083, 0.33408237],\n",
              "       [0.35448775, 0.34580764, 0.29970464],\n",
              "       [0.3665316 , 0.34856942, 0.28489903],\n",
              "       [0.34424385, 0.34216392, 0.31359214],\n",
              "       [0.35348114, 0.3465604 , 0.29995847],\n",
              "       [0.34748232, 0.33440152, 0.31811622],\n",
              "       [0.3532967 , 0.3469584 , 0.29974484],\n",
              "       [0.3703366 , 0.34432942, 0.28533396],\n",
              "       [0.3189606 , 0.36609083, 0.3149485 ],\n",
              "       [0.34763545, 0.34418917, 0.30817538],\n",
              "       [0.35113823, 0.33969206, 0.3091697 ],\n",
              "       [0.3746791 , 0.3448152 , 0.28050566],\n",
              "       [0.35638216, 0.34715155, 0.2964663 ],\n",
              "       [0.3549425 , 0.35720345, 0.28785393],\n",
              "       [0.33107334, 0.3571922 , 0.3117346 ],\n",
              "       [0.34025198, 0.35705233, 0.3026957 ],\n",
              "       [0.33424884, 0.3267157 , 0.33903545],\n",
              "       [0.324243  , 0.28526905, 0.39048788],\n",
              "       [0.3060619 , 0.3514871 , 0.34245104],\n",
              "       [0.3176055 , 0.33624822, 0.3461463 ],\n",
              "       [0.35340956, 0.3452095 , 0.30138096],\n",
              "       [0.34022063, 0.33957112, 0.3202083 ],\n",
              "       [0.3516415 , 0.34330586, 0.30505267],\n",
              "       [0.3429919 , 0.34055445, 0.31645364],\n",
              "       [0.37189773, 0.34130144, 0.2868009 ],\n",
              "       [0.36268353, 0.34078294, 0.29653358],\n",
              "       [0.3504189 , 0.3510595 , 0.29852152],\n",
              "       [0.35092556, 0.34588477, 0.3031896 ],\n",
              "       [0.35348663, 0.26397943, 0.38253397],\n",
              "       [0.33849627, 0.3328285 , 0.32867533],\n",
              "       [0.33399916, 0.35600078, 0.30999997],\n",
              "       [0.36642516, 0.3468262 , 0.2867486 ],\n",
              "       [0.33224183, 0.31427506, 0.35348308],\n",
              "       [0.35338327, 0.3508607 , 0.29575607],\n",
              "       [0.34520364, 0.34270248, 0.31209382],\n",
              "       [0.34745196, 0.34315428, 0.3093938 ],\n",
              "       [0.33480957, 0.34114963, 0.3240407 ],\n",
              "       [0.2788663 , 0.41744542, 0.3036882 ],\n",
              "       [0.34610277, 0.3433927 , 0.3105045 ],\n",
              "       [0.3618324 , 0.34416634, 0.29400122],\n",
              "       [0.35426897, 0.34391478, 0.30181623],\n",
              "       [0.34498465, 0.34072027, 0.3142951 ]], dtype=float32)"
            ]
          },
          "metadata": {},
          "execution_count": 64
        }
      ]
    },
    {
      "cell_type": "code",
      "source": [],
      "metadata": {
        "id": "-F6MzYOnvd2n"
      },
      "execution_count": null,
      "outputs": []
    }
  ]
}