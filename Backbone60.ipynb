{
  "nbformat": 4,
  "nbformat_minor": 0,
  "metadata": {
    "colab": {
      "provenance": [],
      "machine_shape": "hm",
      "gpuType": "L4"
    },
    "kernelspec": {
      "name": "python3",
      "display_name": "Python 3"
    },
    "language_info": {
      "name": "python"
    },
    "accelerator": "GPU"
  },
  "cells": [
    {
      "cell_type": "code",
      "execution_count": 1,
      "metadata": {
        "colab": {
          "base_uri": "https://localhost:8080/"
        },
        "id": "8RGC1cj6a3vl",
        "outputId": "273433bd-017f-48d8-be4f-02dfc5fa2709"
      },
      "outputs": [
        {
          "output_type": "stream",
          "name": "stdout",
          "text": [
            "Requirement already satisfied: keras in /usr/local/lib/python3.10/dist-packages (3.3.3)\n",
            "Requirement already satisfied: keras_nlp in /usr/local/lib/python3.10/dist-packages (0.11.1)\n",
            "Requirement already satisfied: tensorflow in /usr/local/lib/python3.10/dist-packages (2.16.1)\n",
            "Requirement already satisfied: tensorflow-text in /usr/local/lib/python3.10/dist-packages (2.16.1)\n",
            "Requirement already satisfied: absl-py in /usr/local/lib/python3.10/dist-packages (from keras) (1.4.0)\n",
            "Requirement already satisfied: numpy in /usr/local/lib/python3.10/dist-packages (from keras) (1.25.2)\n",
            "Requirement already satisfied: rich in /usr/local/lib/python3.10/dist-packages (from keras) (13.7.1)\n",
            "Requirement already satisfied: namex in /usr/local/lib/python3.10/dist-packages (from keras) (0.0.8)\n",
            "Requirement already satisfied: h5py in /usr/local/lib/python3.10/dist-packages (from keras) (3.11.0)\n",
            "Requirement already satisfied: optree in /usr/local/lib/python3.10/dist-packages (from keras) (0.11.0)\n",
            "Requirement already satisfied: ml-dtypes in /usr/local/lib/python3.10/dist-packages (from keras) (0.3.2)\n",
            "Requirement already satisfied: keras-core in /usr/local/lib/python3.10/dist-packages (from keras_nlp) (0.1.7)\n",
            "Requirement already satisfied: packaging in /usr/local/lib/python3.10/dist-packages (from keras_nlp) (24.0)\n",
            "Requirement already satisfied: regex in /usr/local/lib/python3.10/dist-packages (from keras_nlp) (2023.12.25)\n",
            "Requirement already satisfied: dm-tree in /usr/local/lib/python3.10/dist-packages (from keras_nlp) (0.1.8)\n",
            "Requirement already satisfied: kagglehub in /usr/local/lib/python3.10/dist-packages (from keras_nlp) (0.2.5)\n",
            "Requirement already satisfied: astunparse>=1.6.0 in /usr/local/lib/python3.10/dist-packages (from tensorflow) (1.6.3)\n",
            "Requirement already satisfied: flatbuffers>=23.5.26 in /usr/local/lib/python3.10/dist-packages (from tensorflow) (24.3.25)\n",
            "Requirement already satisfied: gast!=0.5.0,!=0.5.1,!=0.5.2,>=0.2.1 in /usr/local/lib/python3.10/dist-packages (from tensorflow) (0.5.4)\n",
            "Requirement already satisfied: google-pasta>=0.1.1 in /usr/local/lib/python3.10/dist-packages (from tensorflow) (0.2.0)\n",
            "Requirement already satisfied: libclang>=13.0.0 in /usr/local/lib/python3.10/dist-packages (from tensorflow) (18.1.1)\n",
            "Requirement already satisfied: opt-einsum>=2.3.2 in /usr/local/lib/python3.10/dist-packages (from tensorflow) (3.3.0)\n",
            "Requirement already satisfied: protobuf!=4.21.0,!=4.21.1,!=4.21.2,!=4.21.3,!=4.21.4,!=4.21.5,<5.0.0dev,>=3.20.3 in /usr/local/lib/python3.10/dist-packages (from tensorflow) (3.20.3)\n",
            "Requirement already satisfied: requests<3,>=2.21.0 in /usr/local/lib/python3.10/dist-packages (from tensorflow) (2.31.0)\n",
            "Requirement already satisfied: setuptools in /usr/local/lib/python3.10/dist-packages (from tensorflow) (67.7.2)\n",
            "Requirement already satisfied: six>=1.12.0 in /usr/local/lib/python3.10/dist-packages (from tensorflow) (1.16.0)\n",
            "Requirement already satisfied: termcolor>=1.1.0 in /usr/local/lib/python3.10/dist-packages (from tensorflow) (2.4.0)\n",
            "Requirement already satisfied: typing-extensions>=3.6.6 in /usr/local/lib/python3.10/dist-packages (from tensorflow) (4.11.0)\n",
            "Requirement already satisfied: wrapt>=1.11.0 in /usr/local/lib/python3.10/dist-packages (from tensorflow) (1.14.1)\n",
            "Requirement already satisfied: grpcio<2.0,>=1.24.3 in /usr/local/lib/python3.10/dist-packages (from tensorflow) (1.63.0)\n",
            "Requirement already satisfied: tensorboard<2.17,>=2.16 in /usr/local/lib/python3.10/dist-packages (from tensorflow) (2.16.2)\n",
            "Requirement already satisfied: tensorflow-io-gcs-filesystem>=0.23.1 in /usr/local/lib/python3.10/dist-packages (from tensorflow) (0.37.0)\n",
            "Requirement already satisfied: wheel<1.0,>=0.23.0 in /usr/local/lib/python3.10/dist-packages (from astunparse>=1.6.0->tensorflow) (0.43.0)\n",
            "Requirement already satisfied: charset-normalizer<4,>=2 in /usr/local/lib/python3.10/dist-packages (from requests<3,>=2.21.0->tensorflow) (3.3.2)\n",
            "Requirement already satisfied: idna<4,>=2.5 in /usr/local/lib/python3.10/dist-packages (from requests<3,>=2.21.0->tensorflow) (3.7)\n",
            "Requirement already satisfied: urllib3<3,>=1.21.1 in /usr/local/lib/python3.10/dist-packages (from requests<3,>=2.21.0->tensorflow) (2.0.7)\n",
            "Requirement already satisfied: certifi>=2017.4.17 in /usr/local/lib/python3.10/dist-packages (from requests<3,>=2.21.0->tensorflow) (2024.2.2)\n",
            "Requirement already satisfied: markdown>=2.6.8 in /usr/local/lib/python3.10/dist-packages (from tensorboard<2.17,>=2.16->tensorflow) (3.6)\n",
            "Requirement already satisfied: tensorboard-data-server<0.8.0,>=0.7.0 in /usr/local/lib/python3.10/dist-packages (from tensorboard<2.17,>=2.16->tensorflow) (0.7.2)\n",
            "Requirement already satisfied: werkzeug>=1.0.1 in /usr/local/lib/python3.10/dist-packages (from tensorboard<2.17,>=2.16->tensorflow) (3.0.3)\n",
            "Requirement already satisfied: tqdm in /usr/local/lib/python3.10/dist-packages (from kagglehub->keras_nlp) (4.66.4)\n",
            "Requirement already satisfied: markdown-it-py>=2.2.0 in /usr/local/lib/python3.10/dist-packages (from rich->keras) (3.0.0)\n",
            "Requirement already satisfied: pygments<3.0.0,>=2.13.0 in /usr/local/lib/python3.10/dist-packages (from rich->keras) (2.16.1)\n",
            "Requirement already satisfied: mdurl~=0.1 in /usr/local/lib/python3.10/dist-packages (from markdown-it-py>=2.2.0->rich->keras) (0.1.2)\n",
            "Requirement already satisfied: MarkupSafe>=2.1.1 in /usr/local/lib/python3.10/dist-packages (from werkzeug>=1.0.1->tensorboard<2.17,>=2.16->tensorflow) (2.1.5)\n"
          ]
        }
      ],
      "source": [
        "!pip install keras keras_nlp tensorflow tensorflow-text"
      ]
    },
    {
      "cell_type": "code",
      "source": [
        "import keras, keras_nlp"
      ],
      "metadata": {
        "id": "FXUaoWugbDpt"
      },
      "execution_count": 63,
      "outputs": []
    },
    {
      "cell_type": "code",
      "source": [
        "string_arr_text = [\"Bengaluru is the garden city of India\", \"Bengaluru is the tech hub\"]"
      ],
      "metadata": {
        "id": "ymn94PKAmst9"
      },
      "execution_count": 120,
      "outputs": []
    },
    {
      "cell_type": "code",
      "source": [
        "preprocessor = keras_nlp.models.AlbertPreprocessor.from_preset(\"albert_base_en_uncased\")"
      ],
      "metadata": {
        "colab": {
          "base_uri": "https://localhost:8080/"
        },
        "id": "5kUwwsPAOlqB",
        "outputId": "3ebcf4e8-331c-4f09-b7d8-ae8706fe0f04"
      },
      "execution_count": 171,
      "outputs": [
        {
          "output_type": "stream",
          "name": "stderr",
          "text": [
            "Downloading from https://www.kaggle.com/api/v1/models/keras/albert/keras/albert_base_en_uncased/2/download/preprocessor.json...\n"
          ]
        }
      ]
    },
    {
      "cell_type": "code",
      "source": [
        "preprocessor(string_arr_text)"
      ],
      "metadata": {
        "colab": {
          "base_uri": "https://localhost:8080/"
        },
        "id": "-vYRbfgaPIEx",
        "outputId": "9d9215bb-40ef-4781-ae31-94fb2a25fcc3"
      },
      "execution_count": 172,
      "outputs": [
        {
          "output_type": "execute_result",
          "data": {
            "text/plain": [
              "{'token_ids': <tf.Tensor: shape=(2, 512), dtype=int32, numpy=\n",
              " array([[ 2, 13,  1, ...,  0,  0,  0],\n",
              "        [ 2, 13,  1, ...,  0,  0,  0]], dtype=int32)>,\n",
              " 'segment_ids': <tf.Tensor: shape=(2, 512), dtype=int32, numpy=\n",
              " array([[0, 0, 0, ..., 0, 0, 0],\n",
              "        [0, 0, 0, ..., 0, 0, 0]], dtype=int32)>,\n",
              " 'padding_mask': <tf.Tensor: shape=(2, 512), dtype=bool, numpy=\n",
              " array([[ True,  True,  True, ..., False, False, False],\n",
              "        [ True,  True,  True, ..., False, False, False]])>}"
            ]
          },
          "metadata": {},
          "execution_count": 172
        }
      ]
    },
    {
      "cell_type": "code",
      "source": [
        "model = keras_nlp.models.AlbertBackbone.from_preset(\"albert_base_en_uncased\")"
      ],
      "metadata": {
        "colab": {
          "base_uri": "https://localhost:8080/"
        },
        "id": "zpi-RLr5PKQ-",
        "outputId": "0b9a2a5b-4ce8-48dc-e306-58a2cb6764e9"
      },
      "execution_count": 173,
      "outputs": [
        {
          "output_type": "stream",
          "name": "stderr",
          "text": [
            "Downloading from https://www.kaggle.com/api/v1/models/keras/albert/keras/albert_base_en_uncased/2/download/config.json...\n",
            "100%|██████████| 611/611 [00:00<00:00, 839kB/s]\n",
            "Downloading from https://www.kaggle.com/api/v1/models/keras/albert/keras/albert_base_en_uncased/2/download/model.weights.h5...\n",
            "100%|██████████| 44.6M/44.6M [00:01<00:00, 26.1MB/s]\n"
          ]
        }
      ]
    },
    {
      "cell_type": "code",
      "source": [
        "model(preprocessor(string_arr_text))"
      ],
      "metadata": {
        "colab": {
          "base_uri": "https://localhost:8080/"
        },
        "id": "kXYtAHsTPVF5",
        "outputId": "27d42d7e-f215-47db-ed9f-3309f5b3a616"
      },
      "execution_count": 174,
      "outputs": [
        {
          "output_type": "execute_result",
          "data": {
            "text/plain": [
              "{'sequence_output': <tf.Tensor: shape=(2, 512, 768), dtype=float32, numpy=\n",
              " array([[[ 0.29109532,  0.59039575,  0.57341796, ..., -1.7762976 ,\n",
              "           0.8334062 ,  0.22888707],\n",
              "         [ 0.23810953,  0.03257053,  0.14244957, ...,  0.13890208,\n",
              "           0.97672796,  0.33284622],\n",
              "         [-2.0244946 , -1.1321733 ,  1.7023356 , ...,  0.7105138 ,\n",
              "           0.21753633, -1.2893486 ],\n",
              "         ...,\n",
              "         [-1.6347158 , -0.47780624,  0.7117915 , ...,  0.30713838,\n",
              "           1.982284  , -1.0579503 ],\n",
              "         [-1.5658598 , -0.40983802,  0.42121565, ..., -0.32397833,\n",
              "           1.7305362 , -1.3411301 ],\n",
              "         [ 0.10584101,  0.09978956, -0.0369747 , ..., -0.15564626,\n",
              "           0.11278631,  0.18881346]],\n",
              " \n",
              "        [[ 0.61990905,  1.5432444 ,  0.2692907 , ..., -1.582385  ,\n",
              "           1.1010177 , -0.330584  ],\n",
              "         [ 0.5509646 , -0.52529824, -0.445274  , ...,  0.2537047 ,\n",
              "           1.1254579 , -0.5993581 ],\n",
              "         [-0.95211315, -1.5976503 ,  1.5780841 , ...,  1.4106764 ,\n",
              "          -0.05304843, -1.4867617 ],\n",
              "         ...,\n",
              "         [-0.6569233 , -1.0097545 ,  0.17424832, ..., -0.06728525,\n",
              "           0.63301724, -1.3275181 ],\n",
              "         [-0.65643835, -1.1320357 , -0.11660265, ..., -0.46501634,\n",
              "           0.42462435, -1.1947912 ],\n",
              "         [ 0.11290038,  0.11616533, -0.04640566, ..., -0.154857  ,\n",
              "           0.11440967,  0.19893724]]], dtype=float32)>,\n",
              " 'pooled_output': <tf.Tensor: shape=(2, 768), dtype=float32, numpy=\n",
              " array([[ 0.7564715 , -0.8054208 ,  0.3908756 , ..., -0.8035564 ,\n",
              "         -0.9977394 ,  0.8587333 ],\n",
              "        [ 0.39921525, -0.44526672,  0.57472414, ..., -0.6955293 ,\n",
              "         -0.9910029 ,  0.49372673]], dtype=float32)>}"
            ]
          },
          "metadata": {},
          "execution_count": 174
        }
      ]
    },
    {
      "cell_type": "code",
      "source": [
        "preprocessor = keras_nlp.models.AlbertPreprocessor.from_preset(\"albert_large_en_uncased\")"
      ],
      "metadata": {
        "colab": {
          "base_uri": "https://localhost:8080/"
        },
        "id": "tsAwEsjkPbWP",
        "outputId": "5188bbc5-440e-4dc1-b53f-75dfb7388e02"
      },
      "execution_count": 175,
      "outputs": [
        {
          "output_type": "stream",
          "name": "stderr",
          "text": [
            "Downloading from https://www.kaggle.com/api/v1/models/keras/albert/keras/albert_large_en_uncased/2/download/preprocessor.json...\n"
          ]
        }
      ]
    },
    {
      "cell_type": "code",
      "source": [
        "model = keras_nlp.models.AlbertBackbone.from_preset(\"albert_large_en_uncased\")"
      ],
      "metadata": {
        "colab": {
          "base_uri": "https://localhost:8080/"
        },
        "id": "ecqX0cBWPxBJ",
        "outputId": "f0aa119e-4314-464b-8594-83cd97e770d9"
      },
      "execution_count": 176,
      "outputs": [
        {
          "output_type": "stream",
          "name": "stderr",
          "text": [
            "Downloading from https://www.kaggle.com/api/v1/models/keras/albert/keras/albert_large_en_uncased/2/download/config.json...\n",
            "100%|██████████| 610/610 [00:00<00:00, 699kB/s]\n",
            "Downloading from https://www.kaggle.com/api/v1/models/keras/albert/keras/albert_large_en_uncased/2/download/model.weights.h5...\n",
            "100%|██████████| 67.5M/67.5M [00:02<00:00, 31.8MB/s]\n"
          ]
        }
      ]
    },
    {
      "cell_type": "code",
      "source": [
        "model(preprocessor(string_arr_text))"
      ],
      "metadata": {
        "colab": {
          "base_uri": "https://localhost:8080/"
        },
        "id": "1JfvqLsGP3MK",
        "outputId": "fae2a8a4-cdd4-4a70-ea79-c1a7453fb563"
      },
      "execution_count": 177,
      "outputs": [
        {
          "output_type": "execute_result",
          "data": {
            "text/plain": [
              "{'sequence_output': <tf.Tensor: shape=(2, 512, 1024), dtype=float32, numpy=\n",
              " array([[[ 0.2770636 , -0.1698493 ,  0.08749533, ..., -0.05548593,\n",
              "           0.01278315,  0.6963581 ],\n",
              "         [-0.72688234, -0.7326043 , -0.38781083, ...,  0.43813923,\n",
              "          -1.4152989 , -0.06530092],\n",
              "         [ 0.27033916,  0.19000015, -1.3199514 , ...,  0.1392531 ,\n",
              "          -0.8895735 , -1.2217932 ],\n",
              "         ...,\n",
              "         [ 0.2773431 ,  0.66927105, -0.04740419, ..., -0.0374825 ,\n",
              "          -0.77075374,  0.8259914 ],\n",
              "         [ 0.518646  ,  0.66057897, -0.32028687, ...,  0.31278884,\n",
              "          -0.5839745 ,  0.7095484 ],\n",
              "         [ 0.41107494,  0.6453438 , -0.05412903, ...,  0.1492914 ,\n",
              "          -0.58254355,  0.84967136]],\n",
              " \n",
              "        [[-0.14092839, -0.33164838, -0.12895659, ..., -0.5563805 ,\n",
              "          -0.5602438 ,  0.4876629 ],\n",
              "         [-0.50146997,  0.06613347, -0.43767482, ...,  0.23815918,\n",
              "          -1.0131388 , -0.3858407 ],\n",
              "         [ 0.13780132, -0.06435348, -0.63802165, ..., -0.45307332,\n",
              "          -1.1269696 , -0.6673643 ],\n",
              "         ...,\n",
              "         [ 0.11802506, -0.07258589, -0.14548439, ..., -0.21572682,\n",
              "          -0.5364268 ,  0.6292603 ],\n",
              "         [-0.03314596, -0.22908306, -0.5755098 , ..., -0.6721831 ,\n",
              "          -0.23940113,  0.116384  ],\n",
              "         [ 0.06462931, -0.17577371, -0.5259729 , ..., -0.6654143 ,\n",
              "          -0.36210352,  0.18967359]]], dtype=float32)>,\n",
              " 'pooled_output': <tf.Tensor: shape=(2, 1024), dtype=float32, numpy=\n",
              " array([[ 0.97338647, -0.7567233 ,  0.99224156, ...,  0.8443894 ,\n",
              "         -0.8364803 , -0.60816634],\n",
              "        [ 0.9998331 , -0.35094196,  0.9967836 , ...,  0.23239256,\n",
              "         -0.14724582,  0.01626994]], dtype=float32)>}"
            ]
          },
          "metadata": {},
          "execution_count": 177
        }
      ]
    },
    {
      "cell_type": "code",
      "source": [],
      "metadata": {
        "id": "IgniKvGuP67p"
      },
      "execution_count": null,
      "outputs": []
    }
  ]
}