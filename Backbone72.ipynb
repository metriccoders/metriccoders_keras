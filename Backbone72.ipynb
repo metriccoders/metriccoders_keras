{
  "nbformat": 4,
  "nbformat_minor": 0,
  "metadata": {
    "colab": {
      "provenance": [],
      "machine_shape": "hm",
      "gpuType": "L4"
    },
    "kernelspec": {
      "name": "python3",
      "display_name": "Python 3"
    },
    "language_info": {
      "name": "python"
    },
    "accelerator": "GPU"
  },
  "cells": [
    {
      "cell_type": "code",
      "execution_count": 1,
      "metadata": {
        "colab": {
          "base_uri": "https://localhost:8080/"
        },
        "id": "8RGC1cj6a3vl",
        "outputId": "273433bd-017f-48d8-be4f-02dfc5fa2709"
      },
      "outputs": [
        {
          "output_type": "stream",
          "name": "stdout",
          "text": [
            "Requirement already satisfied: keras in /usr/local/lib/python3.10/dist-packages (3.3.3)\n",
            "Requirement already satisfied: keras_nlp in /usr/local/lib/python3.10/dist-packages (0.11.1)\n",
            "Requirement already satisfied: tensorflow in /usr/local/lib/python3.10/dist-packages (2.16.1)\n",
            "Requirement already satisfied: tensorflow-text in /usr/local/lib/python3.10/dist-packages (2.16.1)\n",
            "Requirement already satisfied: absl-py in /usr/local/lib/python3.10/dist-packages (from keras) (1.4.0)\n",
            "Requirement already satisfied: numpy in /usr/local/lib/python3.10/dist-packages (from keras) (1.25.2)\n",
            "Requirement already satisfied: rich in /usr/local/lib/python3.10/dist-packages (from keras) (13.7.1)\n",
            "Requirement already satisfied: namex in /usr/local/lib/python3.10/dist-packages (from keras) (0.0.8)\n",
            "Requirement already satisfied: h5py in /usr/local/lib/python3.10/dist-packages (from keras) (3.11.0)\n",
            "Requirement already satisfied: optree in /usr/local/lib/python3.10/dist-packages (from keras) (0.11.0)\n",
            "Requirement already satisfied: ml-dtypes in /usr/local/lib/python3.10/dist-packages (from keras) (0.3.2)\n",
            "Requirement already satisfied: keras-core in /usr/local/lib/python3.10/dist-packages (from keras_nlp) (0.1.7)\n",
            "Requirement already satisfied: packaging in /usr/local/lib/python3.10/dist-packages (from keras_nlp) (24.0)\n",
            "Requirement already satisfied: regex in /usr/local/lib/python3.10/dist-packages (from keras_nlp) (2023.12.25)\n",
            "Requirement already satisfied: dm-tree in /usr/local/lib/python3.10/dist-packages (from keras_nlp) (0.1.8)\n",
            "Requirement already satisfied: kagglehub in /usr/local/lib/python3.10/dist-packages (from keras_nlp) (0.2.5)\n",
            "Requirement already satisfied: astunparse>=1.6.0 in /usr/local/lib/python3.10/dist-packages (from tensorflow) (1.6.3)\n",
            "Requirement already satisfied: flatbuffers>=23.5.26 in /usr/local/lib/python3.10/dist-packages (from tensorflow) (24.3.25)\n",
            "Requirement already satisfied: gast!=0.5.0,!=0.5.1,!=0.5.2,>=0.2.1 in /usr/local/lib/python3.10/dist-packages (from tensorflow) (0.5.4)\n",
            "Requirement already satisfied: google-pasta>=0.1.1 in /usr/local/lib/python3.10/dist-packages (from tensorflow) (0.2.0)\n",
            "Requirement already satisfied: libclang>=13.0.0 in /usr/local/lib/python3.10/dist-packages (from tensorflow) (18.1.1)\n",
            "Requirement already satisfied: opt-einsum>=2.3.2 in /usr/local/lib/python3.10/dist-packages (from tensorflow) (3.3.0)\n",
            "Requirement already satisfied: protobuf!=4.21.0,!=4.21.1,!=4.21.2,!=4.21.3,!=4.21.4,!=4.21.5,<5.0.0dev,>=3.20.3 in /usr/local/lib/python3.10/dist-packages (from tensorflow) (3.20.3)\n",
            "Requirement already satisfied: requests<3,>=2.21.0 in /usr/local/lib/python3.10/dist-packages (from tensorflow) (2.31.0)\n",
            "Requirement already satisfied: setuptools in /usr/local/lib/python3.10/dist-packages (from tensorflow) (67.7.2)\n",
            "Requirement already satisfied: six>=1.12.0 in /usr/local/lib/python3.10/dist-packages (from tensorflow) (1.16.0)\n",
            "Requirement already satisfied: termcolor>=1.1.0 in /usr/local/lib/python3.10/dist-packages (from tensorflow) (2.4.0)\n",
            "Requirement already satisfied: typing-extensions>=3.6.6 in /usr/local/lib/python3.10/dist-packages (from tensorflow) (4.11.0)\n",
            "Requirement already satisfied: wrapt>=1.11.0 in /usr/local/lib/python3.10/dist-packages (from tensorflow) (1.14.1)\n",
            "Requirement already satisfied: grpcio<2.0,>=1.24.3 in /usr/local/lib/python3.10/dist-packages (from tensorflow) (1.63.0)\n",
            "Requirement already satisfied: tensorboard<2.17,>=2.16 in /usr/local/lib/python3.10/dist-packages (from tensorflow) (2.16.2)\n",
            "Requirement already satisfied: tensorflow-io-gcs-filesystem>=0.23.1 in /usr/local/lib/python3.10/dist-packages (from tensorflow) (0.37.0)\n",
            "Requirement already satisfied: wheel<1.0,>=0.23.0 in /usr/local/lib/python3.10/dist-packages (from astunparse>=1.6.0->tensorflow) (0.43.0)\n",
            "Requirement already satisfied: charset-normalizer<4,>=2 in /usr/local/lib/python3.10/dist-packages (from requests<3,>=2.21.0->tensorflow) (3.3.2)\n",
            "Requirement already satisfied: idna<4,>=2.5 in /usr/local/lib/python3.10/dist-packages (from requests<3,>=2.21.0->tensorflow) (3.7)\n",
            "Requirement already satisfied: urllib3<3,>=1.21.1 in /usr/local/lib/python3.10/dist-packages (from requests<3,>=2.21.0->tensorflow) (2.0.7)\n",
            "Requirement already satisfied: certifi>=2017.4.17 in /usr/local/lib/python3.10/dist-packages (from requests<3,>=2.21.0->tensorflow) (2024.2.2)\n",
            "Requirement already satisfied: markdown>=2.6.8 in /usr/local/lib/python3.10/dist-packages (from tensorboard<2.17,>=2.16->tensorflow) (3.6)\n",
            "Requirement already satisfied: tensorboard-data-server<0.8.0,>=0.7.0 in /usr/local/lib/python3.10/dist-packages (from tensorboard<2.17,>=2.16->tensorflow) (0.7.2)\n",
            "Requirement already satisfied: werkzeug>=1.0.1 in /usr/local/lib/python3.10/dist-packages (from tensorboard<2.17,>=2.16->tensorflow) (3.0.3)\n",
            "Requirement already satisfied: tqdm in /usr/local/lib/python3.10/dist-packages (from kagglehub->keras_nlp) (4.66.4)\n",
            "Requirement already satisfied: markdown-it-py>=2.2.0 in /usr/local/lib/python3.10/dist-packages (from rich->keras) (3.0.0)\n",
            "Requirement already satisfied: pygments<3.0.0,>=2.13.0 in /usr/local/lib/python3.10/dist-packages (from rich->keras) (2.16.1)\n",
            "Requirement already satisfied: mdurl~=0.1 in /usr/local/lib/python3.10/dist-packages (from markdown-it-py>=2.2.0->rich->keras) (0.1.2)\n",
            "Requirement already satisfied: MarkupSafe>=2.1.1 in /usr/local/lib/python3.10/dist-packages (from werkzeug>=1.0.1->tensorboard<2.17,>=2.16->tensorflow) (2.1.5)\n"
          ]
        }
      ],
      "source": [
        "!pip install keras keras_nlp tensorflow tensorflow-text"
      ]
    },
    {
      "cell_type": "code",
      "source": [
        "import keras, keras_nlp"
      ],
      "metadata": {
        "id": "FXUaoWugbDpt"
      },
      "execution_count": 63,
      "outputs": []
    },
    {
      "cell_type": "code",
      "source": [
        "string_arr_text = [\"Bengaluru is the garden city of India\", \"Bengaluru is the tech hub\"]"
      ],
      "metadata": {
        "id": "ymn94PKAmst9"
      },
      "execution_count": 120,
      "outputs": []
    },
    {
      "cell_type": "code",
      "source": [
        "preprocessor = keras_nlp.models.AlbertPreprocessor.from_preset(\"albert_base_en_uncased\")"
      ],
      "metadata": {
        "colab": {
          "base_uri": "https://localhost:8080/"
        },
        "id": "5kUwwsPAOlqB",
        "outputId": "3ebcf4e8-331c-4f09-b7d8-ae8706fe0f04"
      },
      "execution_count": 171,
      "outputs": [
        {
          "output_type": "stream",
          "name": "stderr",
          "text": [
            "Downloading from https://www.kaggle.com/api/v1/models/keras/albert/keras/albert_base_en_uncased/2/download/preprocessor.json...\n"
          ]
        }
      ]
    },
    {
      "cell_type": "code",
      "source": [
        "preprocessor(string_arr_text)"
      ],
      "metadata": {
        "colab": {
          "base_uri": "https://localhost:8080/"
        },
        "id": "-vYRbfgaPIEx",
        "outputId": "9d9215bb-40ef-4781-ae31-94fb2a25fcc3"
      },
      "execution_count": 172,
      "outputs": [
        {
          "output_type": "execute_result",
          "data": {
            "text/plain": [
              "{'token_ids': <tf.Tensor: shape=(2, 512), dtype=int32, numpy=\n",
              " array([[ 2, 13,  1, ...,  0,  0,  0],\n",
              "        [ 2, 13,  1, ...,  0,  0,  0]], dtype=int32)>,\n",
              " 'segment_ids': <tf.Tensor: shape=(2, 512), dtype=int32, numpy=\n",
              " array([[0, 0, 0, ..., 0, 0, 0],\n",
              "        [0, 0, 0, ..., 0, 0, 0]], dtype=int32)>,\n",
              " 'padding_mask': <tf.Tensor: shape=(2, 512), dtype=bool, numpy=\n",
              " array([[ True,  True,  True, ..., False, False, False],\n",
              "        [ True,  True,  True, ..., False, False, False]])>}"
            ]
          },
          "metadata": {},
          "execution_count": 172
        }
      ]
    },
    {
      "cell_type": "code",
      "source": [
        "model = keras_nlp.models.AlbertBackbone.from_preset(\"albert_base_en_uncased\")"
      ],
      "metadata": {
        "colab": {
          "base_uri": "https://localhost:8080/"
        },
        "id": "zpi-RLr5PKQ-",
        "outputId": "0b9a2a5b-4ce8-48dc-e306-58a2cb6764e9"
      },
      "execution_count": 173,
      "outputs": [
        {
          "output_type": "stream",
          "name": "stderr",
          "text": [
            "Downloading from https://www.kaggle.com/api/v1/models/keras/albert/keras/albert_base_en_uncased/2/download/config.json...\n",
            "100%|██████████| 611/611 [00:00<00:00, 839kB/s]\n",
            "Downloading from https://www.kaggle.com/api/v1/models/keras/albert/keras/albert_base_en_uncased/2/download/model.weights.h5...\n",
            "100%|██████████| 44.6M/44.6M [00:01<00:00, 26.1MB/s]\n"
          ]
        }
      ]
    },
    {
      "cell_type": "code",
      "source": [
        "model(preprocessor(string_arr_text))"
      ],
      "metadata": {
        "colab": {
          "base_uri": "https://localhost:8080/"
        },
        "id": "kXYtAHsTPVF5",
        "outputId": "27d42d7e-f215-47db-ed9f-3309f5b3a616"
      },
      "execution_count": 174,
      "outputs": [
        {
          "output_type": "execute_result",
          "data": {
            "text/plain": [
              "{'sequence_output': <tf.Tensor: shape=(2, 512, 768), dtype=float32, numpy=\n",
              " array([[[ 0.29109532,  0.59039575,  0.57341796, ..., -1.7762976 ,\n",
              "           0.8334062 ,  0.22888707],\n",
              "         [ 0.23810953,  0.03257053,  0.14244957, ...,  0.13890208,\n",
              "           0.97672796,  0.33284622],\n",
              "         [-2.0244946 , -1.1321733 ,  1.7023356 , ...,  0.7105138 ,\n",
              "           0.21753633, -1.2893486 ],\n",
              "         ...,\n",
              "         [-1.6347158 , -0.47780624,  0.7117915 , ...,  0.30713838,\n",
              "           1.982284  , -1.0579503 ],\n",
              "         [-1.5658598 , -0.40983802,  0.42121565, ..., -0.32397833,\n",
              "           1.7305362 , -1.3411301 ],\n",
              "         [ 0.10584101,  0.09978956, -0.0369747 , ..., -0.15564626,\n",
              "           0.11278631,  0.18881346]],\n",
              " \n",
              "        [[ 0.61990905,  1.5432444 ,  0.2692907 , ..., -1.582385  ,\n",
              "           1.1010177 , -0.330584  ],\n",
              "         [ 0.5509646 , -0.52529824, -0.445274  , ...,  0.2537047 ,\n",
              "           1.1254579 , -0.5993581 ],\n",
              "         [-0.95211315, -1.5976503 ,  1.5780841 , ...,  1.4106764 ,\n",
              "          -0.05304843, -1.4867617 ],\n",
              "         ...,\n",
              "         [-0.6569233 , -1.0097545 ,  0.17424832, ..., -0.06728525,\n",
              "           0.63301724, -1.3275181 ],\n",
              "         [-0.65643835, -1.1320357 , -0.11660265, ..., -0.46501634,\n",
              "           0.42462435, -1.1947912 ],\n",
              "         [ 0.11290038,  0.11616533, -0.04640566, ..., -0.154857  ,\n",
              "           0.11440967,  0.19893724]]], dtype=float32)>,\n",
              " 'pooled_output': <tf.Tensor: shape=(2, 768), dtype=float32, numpy=\n",
              " array([[ 0.7564715 , -0.8054208 ,  0.3908756 , ..., -0.8035564 ,\n",
              "         -0.9977394 ,  0.8587333 ],\n",
              "        [ 0.39921525, -0.44526672,  0.57472414, ..., -0.6955293 ,\n",
              "         -0.9910029 ,  0.49372673]], dtype=float32)>}"
            ]
          },
          "metadata": {},
          "execution_count": 174
        }
      ]
    },
    {
      "cell_type": "code",
      "source": [
        "preprocessor = keras_nlp.models.AlbertPreprocessor.from_preset(\"albert_large_en_uncased\")"
      ],
      "metadata": {
        "colab": {
          "base_uri": "https://localhost:8080/"
        },
        "id": "tsAwEsjkPbWP",
        "outputId": "5188bbc5-440e-4dc1-b53f-75dfb7388e02"
      },
      "execution_count": 175,
      "outputs": [
        {
          "output_type": "stream",
          "name": "stderr",
          "text": [
            "Downloading from https://www.kaggle.com/api/v1/models/keras/albert/keras/albert_large_en_uncased/2/download/preprocessor.json...\n"
          ]
        }
      ]
    },
    {
      "cell_type": "code",
      "source": [
        "model = keras_nlp.models.AlbertBackbone.from_preset(\"albert_large_en_uncased\")"
      ],
      "metadata": {
        "colab": {
          "base_uri": "https://localhost:8080/"
        },
        "id": "ecqX0cBWPxBJ",
        "outputId": "f0aa119e-4314-464b-8594-83cd97e770d9"
      },
      "execution_count": 176,
      "outputs": [
        {
          "output_type": "stream",
          "name": "stderr",
          "text": [
            "Downloading from https://www.kaggle.com/api/v1/models/keras/albert/keras/albert_large_en_uncased/2/download/config.json...\n",
            "100%|██████████| 610/610 [00:00<00:00, 699kB/s]\n",
            "Downloading from https://www.kaggle.com/api/v1/models/keras/albert/keras/albert_large_en_uncased/2/download/model.weights.h5...\n",
            "100%|██████████| 67.5M/67.5M [00:02<00:00, 31.8MB/s]\n"
          ]
        }
      ]
    },
    {
      "cell_type": "code",
      "source": [
        "model(preprocessor(string_arr_text))"
      ],
      "metadata": {
        "colab": {
          "base_uri": "https://localhost:8080/"
        },
        "id": "1JfvqLsGP3MK",
        "outputId": "fae2a8a4-cdd4-4a70-ea79-c1a7453fb563"
      },
      "execution_count": 177,
      "outputs": [
        {
          "output_type": "execute_result",
          "data": {
            "text/plain": [
              "{'sequence_output': <tf.Tensor: shape=(2, 512, 1024), dtype=float32, numpy=\n",
              " array([[[ 0.2770636 , -0.1698493 ,  0.08749533, ..., -0.05548593,\n",
              "           0.01278315,  0.6963581 ],\n",
              "         [-0.72688234, -0.7326043 , -0.38781083, ...,  0.43813923,\n",
              "          -1.4152989 , -0.06530092],\n",
              "         [ 0.27033916,  0.19000015, -1.3199514 , ...,  0.1392531 ,\n",
              "          -0.8895735 , -1.2217932 ],\n",
              "         ...,\n",
              "         [ 0.2773431 ,  0.66927105, -0.04740419, ..., -0.0374825 ,\n",
              "          -0.77075374,  0.8259914 ],\n",
              "         [ 0.518646  ,  0.66057897, -0.32028687, ...,  0.31278884,\n",
              "          -0.5839745 ,  0.7095484 ],\n",
              "         [ 0.41107494,  0.6453438 , -0.05412903, ...,  0.1492914 ,\n",
              "          -0.58254355,  0.84967136]],\n",
              " \n",
              "        [[-0.14092839, -0.33164838, -0.12895659, ..., -0.5563805 ,\n",
              "          -0.5602438 ,  0.4876629 ],\n",
              "         [-0.50146997,  0.06613347, -0.43767482, ...,  0.23815918,\n",
              "          -1.0131388 , -0.3858407 ],\n",
              "         [ 0.13780132, -0.06435348, -0.63802165, ..., -0.45307332,\n",
              "          -1.1269696 , -0.6673643 ],\n",
              "         ...,\n",
              "         [ 0.11802506, -0.07258589, -0.14548439, ..., -0.21572682,\n",
              "          -0.5364268 ,  0.6292603 ],\n",
              "         [-0.03314596, -0.22908306, -0.5755098 , ..., -0.6721831 ,\n",
              "          -0.23940113,  0.116384  ],\n",
              "         [ 0.06462931, -0.17577371, -0.5259729 , ..., -0.6654143 ,\n",
              "          -0.36210352,  0.18967359]]], dtype=float32)>,\n",
              " 'pooled_output': <tf.Tensor: shape=(2, 1024), dtype=float32, numpy=\n",
              " array([[ 0.97338647, -0.7567233 ,  0.99224156, ...,  0.8443894 ,\n",
              "         -0.8364803 , -0.60816634],\n",
              "        [ 0.9998331 , -0.35094196,  0.9967836 , ...,  0.23239256,\n",
              "         -0.14724582,  0.01626994]], dtype=float32)>}"
            ]
          },
          "metadata": {},
          "execution_count": 177
        }
      ]
    },
    {
      "cell_type": "code",
      "source": [
        "preprocessor = keras_nlp.models.BertPreprocessor.from_preset(\"bert_tiny_en_uncased\")"
      ],
      "metadata": {
        "colab": {
          "base_uri": "https://localhost:8080/"
        },
        "id": "gqZ8F4gCQeth",
        "outputId": "d4914696-d6f9-475c-cad1-bde185ec3847"
      },
      "execution_count": 179,
      "outputs": [
        {
          "output_type": "stream",
          "name": "stderr",
          "text": [
            "Downloading from https://www.kaggle.com/api/v1/models/keras/bert/keras/bert_tiny_en_uncased/2/download/preprocessor.json...\n"
          ]
        }
      ]
    },
    {
      "cell_type": "code",
      "source": [
        "model = keras_nlp.models.BertBackbone.from_preset(\"bert_tiny_en_uncased\")"
      ],
      "metadata": {
        "colab": {
          "base_uri": "https://localhost:8080/"
        },
        "id": "5lOLEn-MQsPM",
        "outputId": "6bf76fc8-5f1a-4e0a-96cd-494e686a6724"
      },
      "execution_count": 180,
      "outputs": [
        {
          "output_type": "stream",
          "name": "stderr",
          "text": [
            "Downloading from https://www.kaggle.com/api/v1/models/keras/bert/keras/bert_tiny_en_uncased/2/download/config.json...\n",
            "100%|██████████| 507/507 [00:00<00:00, 754kB/s]\n",
            "Downloading from https://www.kaggle.com/api/v1/models/keras/bert/keras/bert_tiny_en_uncased/2/download/model.weights.h5...\n",
            "100%|██████████| 16.8M/16.8M [00:00<00:00, 19.2MB/s]\n"
          ]
        }
      ]
    },
    {
      "cell_type": "code",
      "source": [
        "model(preprocessor(string_arr_text))"
      ],
      "metadata": {
        "colab": {
          "base_uri": "https://localhost:8080/"
        },
        "id": "bzMKnO31Q_ge",
        "outputId": "c91b2809-1e65-4ae6-bc19-c57e8941c3a5"
      },
      "execution_count": 181,
      "outputs": [
        {
          "output_type": "execute_result",
          "data": {
            "text/plain": [
              "{'sequence_output': <tf.Tensor: shape=(2, 512, 128), dtype=float32, numpy=\n",
              " array([[[-0.00770359,  0.22362009, -3.8013916 , ..., -0.7977207 ,\n",
              "          -1.6880293 ,  1.7669994 ],\n",
              "         [-1.6496015 ,  0.15249002, -1.1784112 , ..., -1.7867173 ,\n",
              "          -1.1260904 ,  0.7795008 ],\n",
              "         [-1.5600612 , -0.21953619, -1.0176723 , ..., -1.7762308 ,\n",
              "          -0.33892816,  2.633414  ],\n",
              "         ...,\n",
              "         [-0.30527773,  0.28472295, -0.75336015, ..., -1.456626  ,\n",
              "          -0.9782943 ,  1.2421558 ],\n",
              "         [-0.49452662,  0.41166344, -0.9690726 , ..., -1.2961192 ,\n",
              "          -1.5198567 ,  0.53979856],\n",
              "         [ 0.0641519 , -0.19211993, -2.706879  , ..., -0.68697417,\n",
              "          -1.4666362 ,  1.7109971 ]],\n",
              " \n",
              "        [[-0.354321  ,  0.9647313 , -3.847001  , ..., -0.80586714,\n",
              "          -0.9092316 ,  1.3984995 ],\n",
              "         [-1.835139  ,  0.6671057 , -1.078124  , ..., -1.630855  ,\n",
              "          -0.78849745,  0.456828  ],\n",
              "         [-1.4289438 ,  0.30635625, -0.9468864 , ..., -1.7343024 ,\n",
              "          -0.17652735,  2.5008466 ],\n",
              "         ...,\n",
              "         [-0.14258912,  1.05165   , -0.9051534 , ..., -1.5259204 ,\n",
              "          -0.8669801 ,  0.98636395],\n",
              "         [-0.4237301 ,  1.1853302 , -1.2109919 , ..., -1.4815582 ,\n",
              "          -1.1963303 ,  0.3799533 ],\n",
              "         [ 0.04622287,  0.64671195, -3.0478566 , ..., -0.6561967 ,\n",
              "          -0.9695852 ,  1.225576  ]]], dtype=float32)>,\n",
              " 'pooled_output': <tf.Tensor: shape=(2, 128), dtype=float32, numpy=\n",
              " array([[-0.9998763 ,  0.06882117, -0.9856117 ,  0.99046224, -0.992531  ,\n",
              "          0.6350709 , -0.8479194 , -0.997128  , -0.13616838,  0.22039415,\n",
              "         -0.63802314,  0.03348628,  0.04879722,  0.9997517 , -0.83102727,\n",
              "          0.6424957 ,  0.14837879,  0.12975648, -0.44328305, -0.652942  ,\n",
              "          0.9576782 , -0.21319836, -0.4487999 ,  0.32586822, -0.9965954 ,\n",
              "         -0.04851171, -0.99750906,  0.90905297,  0.8707974 ,  0.14344247,\n",
              "          0.0599224 , -0.08070024, -0.93008405, -0.37915218,  0.9894048 ,\n",
              "          0.9377714 , -0.97107726,  0.00461075,  0.9792098 , -0.99782157,\n",
              "          0.7517234 , -0.288292  , -0.9645892 ,  0.8772403 , -0.99899083,\n",
              "         -0.07605486, -0.9333976 ,  0.8536664 ,  0.00759209,  0.73618245,\n",
              "          0.9952587 , -0.3057242 ,  0.07094256,  0.7674821 ,  0.94215655,\n",
              "          0.99605775, -0.9828703 ,  0.01844315,  0.9493984 , -0.92978644,\n",
              "          0.15409221,  0.7554704 , -0.8916053 ,  0.01623527,  0.07158566,\n",
              "         -0.99954337, -0.26712778, -0.57934576,  0.91474974,  0.63130194,\n",
              "          0.99528706,  0.1317939 , -0.993054  ,  0.00368921,  0.7295652 ,\n",
              "         -0.99317265,  0.73738635,  0.05606073, -0.9727572 ,  0.02428479,\n",
              "         -0.89900947,  0.11733472, -0.83931077, -0.97211355,  0.99839556,\n",
              "         -0.7133594 ,  0.41288042, -0.99524945, -0.98705775, -0.8534914 ,\n",
              "         -0.82135314,  0.9831273 ,  0.6489649 ,  0.99916583,  0.6353897 ,\n",
              "          0.96750796, -0.94824386, -0.49243498, -0.99486446, -0.81988925,\n",
              "         -0.78678066,  0.9629003 , -0.98841465, -0.89428174, -0.8818641 ,\n",
              "         -0.69588506, -0.99977213, -0.9628917 ,  0.17717491,  0.98760915,\n",
              "          0.9936539 ,  0.83515906, -0.9324514 ,  0.9915917 , -0.9996717 ,\n",
              "          0.14633289,  0.4418544 , -0.29842302, -0.05438763, -0.9984066 ,\n",
              "         -0.21282862, -0.9979586 , -0.9252314 ,  0.80151117, -0.9922155 ,\n",
              "          0.978267  ,  0.9632439 ,  0.9976847 ],\n",
              "        [-0.9999877 ,  0.04946633, -0.99596953,  0.87408215, -0.99896455,\n",
              "          0.8796005 , -0.9091851 , -0.9955888 , -0.10388736,  0.16812572,\n",
              "         -0.60450274,  0.06029733, -0.03326145,  0.99999774, -0.7048205 ,\n",
              "          0.13472953,  0.8815359 ,  0.06194401, -0.63279396, -0.7656273 ,\n",
              "          0.9584973 , -0.10169669, -0.6754524 ,  0.45604402, -0.998131  ,\n",
              "         -0.00978633, -0.9994901 ,  0.930208  ,  0.93653774,  0.17227225,\n",
              "          0.0636906 ,  0.03232247, -0.9701437 ,  0.4120835 ,  0.9862992 ,\n",
              "          0.9858198 , -0.9833169 , -0.07529061,  0.947864  , -0.9987179 ,\n",
              "          0.78715503,  0.8116663 , -0.99527705,  0.9585359 , -0.99995   ,\n",
              "         -0.14196546, -0.98729014,  0.949884  ,  0.80461353,  0.98357767,\n",
              "          0.9764905 , -0.7064714 ,  0.0895464 ,  0.97244495,  0.9330068 ,\n",
              "          0.9994641 , -0.99383324, -0.91017324,  0.7899349 , -0.78744674,\n",
              "          0.11753093,  0.81646836, -0.520632  ,  0.4929709 , -0.3031025 ,\n",
              "         -0.9999923 , -0.55332994, -0.13435362,  0.90977347,  0.798598  ,\n",
              "          0.99947786,  0.06768852, -0.9984376 , -0.03891788,  0.84128565,\n",
              "         -0.991339  ,  0.78136456,  0.08318175, -0.99127656,  0.10119533,\n",
              "         -0.7796024 ,  0.00370649, -0.44342455, -0.99568814,  0.999461  ,\n",
              "         -0.97010034, -0.31771922, -0.9916508 , -0.91115177, -0.01730692,\n",
              "         -0.93213224,  0.9826034 ,  0.05642503,  0.99764407,  0.4017873 ,\n",
              "          0.8463355 , -0.93084866, -0.38207588, -0.9995337 , -0.44904336,\n",
              "         -0.93865186,  0.8877193 , -0.9975194 , -0.82590264, -0.95061797,\n",
              "         -0.9313749 , -0.999508  , -0.9878559 , -0.21643388,  0.9878544 ,\n",
              "          0.99907947,  0.6695827 , -0.8302361 ,  0.9986917 , -0.9999943 ,\n",
              "          0.12657355, -0.03415343,  0.26255226,  0.00279925, -0.99966013,\n",
              "         -0.0885106 , -0.9997607 , -0.9589575 ,  0.6798679 , -0.9982947 ,\n",
              "          0.98635113,  0.69387245,  0.9971219 ]], dtype=float32)>}"
            ]
          },
          "metadata": {},
          "execution_count": 181
        }
      ]
    },
    {
      "cell_type": "code",
      "source": [
        "preprocessor = keras_nlp.models.BertPreprocessor.from_preset(\"bert_base_en_uncased\")"
      ],
      "metadata": {
        "colab": {
          "base_uri": "https://localhost:8080/"
        },
        "id": "mOlHTy-QSfPI",
        "outputId": "e4a1965f-1aa6-44f8-d889-42e32b87f189"
      },
      "execution_count": 186,
      "outputs": [
        {
          "output_type": "stream",
          "name": "stderr",
          "text": [
            "Downloading from https://www.kaggle.com/api/v1/models/keras/bert/keras/bert_base_en_uncased/2/download/preprocessor.json...\n"
          ]
        }
      ]
    },
    {
      "cell_type": "code",
      "source": [
        "backbone = keras_nlp.models.BertBackbone.from_preset(\"bert_base_en_uncased\")"
      ],
      "metadata": {
        "colab": {
          "base_uri": "https://localhost:8080/"
        },
        "id": "izSC2CRbTRos",
        "outputId": "0c9093be-c0e8-4c7b-fc48-7d63eb9e47c8"
      },
      "execution_count": 187,
      "outputs": [
        {
          "output_type": "stream",
          "name": "stderr",
          "text": [
            "Downloading from https://www.kaggle.com/api/v1/models/keras/bert/keras/bert_base_en_uncased/2/download/config.json...\n",
            "100%|██████████| 510/510 [00:00<00:00, 665kB/s]\n",
            "Downloading from https://www.kaggle.com/api/v1/models/keras/bert/keras/bert_base_en_uncased/2/download/model.weights.h5...\n",
            "100%|██████████| 418M/418M [00:08<00:00, 51.9MB/s]\n"
          ]
        }
      ]
    },
    {
      "cell_type": "code",
      "source": [
        "backbone(preprocessor(string_arr_text))"
      ],
      "metadata": {
        "colab": {
          "base_uri": "https://localhost:8080/"
        },
        "id": "E9Ojpp8zTYc_",
        "outputId": "ad220457-86d0-42e7-d574-f41b13e5357f"
      },
      "execution_count": 189,
      "outputs": [
        {
          "output_type": "execute_result",
          "data": {
            "text/plain": [
              "{'sequence_output': <tf.Tensor: shape=(2, 512, 768), dtype=float32, numpy=\n",
              " array([[[-0.20938647, -0.0447967 , -0.0179227 , ..., -0.30004027,\n",
              "           0.48361152,  0.18294334],\n",
              "         [ 0.32825446, -0.02166456, -0.39377376, ...,  0.11882182,\n",
              "           0.6425974 ,  0.45160437],\n",
              "         [ 0.528185  ,  0.39515415, -0.02727318, ..., -0.73575246,\n",
              "           0.35064745, -0.5483459 ],\n",
              "         ...,\n",
              "         [-0.3357183 , -0.38612738, -0.06444541, ...,  0.29757988,\n",
              "           0.30048501, -0.3327183 ],\n",
              "         [-0.26773313, -0.31494525,  0.02369765, ...,  0.2863674 ,\n",
              "           0.23007949, -0.21449938],\n",
              "         [-0.4126262 , -0.30891353,  0.14669228, ...,  0.26272935,\n",
              "           0.226851  , -0.04317985]],\n",
              " \n",
              "        [[-0.07738914, -0.24507833,  0.1153888 , ..., -0.38911206,\n",
              "           0.48910534,  0.07553282],\n",
              "         [ 0.5525758 , -0.12614192, -0.5826222 , ..., -0.1812959 ,\n",
              "           0.28061315,  0.2827501 ],\n",
              "         [ 0.2549866 ,  0.25033718, -0.28970826, ..., -0.7006984 ,\n",
              "           0.0160688 , -0.7317324 ],\n",
              "         ...,\n",
              "         [-0.42936718, -0.67809075, -0.1922116 , ...,  0.46698833,\n",
              "           0.5281585 , -0.37296903],\n",
              "         [-0.4073898 , -0.460701  , -0.16424   , ...,  0.30634567,\n",
              "           0.38635656, -0.16282137],\n",
              "         [-0.310207  , -0.36101282, -0.00257455, ...,  0.17511967,\n",
              "           0.3389956 , -0.05372045]]], dtype=float32)>,\n",
              " 'pooled_output': <tf.Tensor: shape=(2, 768), dtype=float32, numpy=\n",
              " array([[-0.9295052 , -0.33281052, -0.21390894, ..., -0.25314885,\n",
              "         -0.6633546 ,  0.8804108 ],\n",
              "        [-0.78982174, -0.2703536 ,  0.09432955, ...,  0.11642117,\n",
              "         -0.5580986 ,  0.7638461 ]], dtype=float32)>}"
            ]
          },
          "metadata": {},
          "execution_count": 189
        }
      ]
    },
    {
      "cell_type": "code",
      "source": [
        "preprocessor = keras_nlp.models.BertPreprocessor.from_preset(\"bert_base_multi\")"
      ],
      "metadata": {
        "colab": {
          "base_uri": "https://localhost:8080/"
        },
        "id": "MHKQg1sQTd0r",
        "outputId": "554b5196-6fe4-4279-8ce1-3bcebe5a330a"
      },
      "execution_count": 190,
      "outputs": [
        {
          "output_type": "stream",
          "name": "stderr",
          "text": [
            "Downloading from https://www.kaggle.com/api/v1/models/keras/bert/keras/bert_base_multi/2/download/preprocessor.json...\n"
          ]
        }
      ]
    },
    {
      "cell_type": "code",
      "source": [
        "backbone = keras_nlp.models.BertBackbone.from_preset(\"bert_base_multi\")"
      ],
      "metadata": {
        "colab": {
          "base_uri": "https://localhost:8080/"
        },
        "id": "BicXqVyrTta9",
        "outputId": "de158be6-53d0-4130-cbe5-151b9e954817"
      },
      "execution_count": 191,
      "outputs": [
        {
          "output_type": "stream",
          "name": "stderr",
          "text": [
            "Downloading from https://www.kaggle.com/api/v1/models/keras/bert/keras/bert_base_multi/2/download/config.json...\n",
            "100%|██████████| 511/511 [00:00<00:00, 679kB/s]\n",
            "Downloading from https://www.kaggle.com/api/v1/models/keras/bert/keras/bert_base_multi/2/download/model.weights.h5...\n",
            "100%|██████████| 679M/679M [00:16<00:00, 42.2MB/s]\n"
          ]
        }
      ]
    },
    {
      "cell_type": "code",
      "source": [
        "backbone(preprocessor(string_arr_text))"
      ],
      "metadata": {
        "colab": {
          "base_uri": "https://localhost:8080/"
        },
        "id": "z276zy93Ty7B",
        "outputId": "959c4165-01fd-448d-e4b2-dc56df5d9d4c"
      },
      "execution_count": 192,
      "outputs": [
        {
          "output_type": "execute_result",
          "data": {
            "text/plain": [
              "{'sequence_output': <tf.Tensor: shape=(2, 512, 768), dtype=float32, numpy=\n",
              " array([[[ 0.08711088,  0.11382888,  0.11536136, ...,  0.4214033 ,\n",
              "          -0.09078561, -0.05034738],\n",
              "         [-0.34812558,  0.23785737,  0.3641678 , ...,  0.1912393 ,\n",
              "           0.42588252, -0.18637745],\n",
              "         [-0.5351661 , -0.07008435,  0.11883144, ..., -0.3181511 ,\n",
              "          -0.83528185, -0.2949006 ],\n",
              "         ...,\n",
              "         [-0.11932471,  0.24315329,  0.16223994, ...,  0.57475126,\n",
              "           0.07621647, -0.16686553],\n",
              "         [-0.14910577,  0.2541033 ,  0.2079171 , ...,  0.50970924,\n",
              "           0.13872793, -0.17375654],\n",
              "         [-0.14910062,  0.24503677,  0.28864548, ...,  0.44557023,\n",
              "           0.2115266 , -0.19180845]],\n",
              " \n",
              "        [[ 0.09399235,  0.02161617,  0.17021967, ...,  0.36230803,\n",
              "           0.1955499 ,  0.01508363],\n",
              "         [-0.21053134,  0.01779966,  0.381522  , ...,  0.05383883,\n",
              "           0.5950641 ,  0.1696954 ],\n",
              "         [-0.44740194, -0.29180452,  0.18786246, ..., -0.40811312,\n",
              "          -0.4554757 , -0.0406967 ],\n",
              "         ...,\n",
              "         [-0.17372885,  0.09309697,  0.00636232, ...,  0.19727626,\n",
              "           0.3553568 ,  0.08904828],\n",
              "         [-0.18397522,  0.08995301,  0.00748748, ...,  0.20724434,\n",
              "           0.33888656,  0.10385482],\n",
              "         [-0.22365333,  0.10367605,  0.04019985, ...,  0.13627426,\n",
              "           0.42775285,  0.07453139]]], dtype=float32)>,\n",
              " 'pooled_output': <tf.Tensor: shape=(2, 768), dtype=float32, numpy=\n",
              " array([[ 0.27335465, -0.13404731,  0.26616362, ..., -0.29938614,\n",
              "          0.16952525,  0.38782728],\n",
              "        [ 0.31122106, -0.19838615,  0.38259748, ..., -0.38018852,\n",
              "          0.41695035,  0.46763578]], dtype=float32)>}"
            ]
          },
          "metadata": {},
          "execution_count": 192
        }
      ]
    },
    {
      "cell_type": "code",
      "source": [
        "preprocessor = keras_nlp.models.BloomPreprocessor.from_preset(\"bloom_560m_multi\")"
      ],
      "metadata": {
        "colab": {
          "base_uri": "https://localhost:8080/"
        },
        "id": "-koxsgudT7lB",
        "outputId": "e35294c2-57a1-406d-93e3-9f0255c2fd65"
      },
      "execution_count": 193,
      "outputs": [
        {
          "output_type": "stream",
          "name": "stderr",
          "text": [
            "Downloading from https://www.kaggle.com/api/v1/models/keras/bloom/keras/bloom_560m_multi/3/download/preprocessor.json...\n"
          ]
        }
      ]
    },
    {
      "cell_type": "code",
      "source": [
        "backbone = keras_nlp.models.BloomBackbone.from_preset(\"bloom_560m_multi\")"
      ],
      "metadata": {
        "colab": {
          "base_uri": "https://localhost:8080/"
        },
        "id": "CfiII5SEVLPd",
        "outputId": "cf401588-b873-4df4-b727-77837c68e7c3"
      },
      "execution_count": 194,
      "outputs": [
        {
          "output_type": "stream",
          "name": "stderr",
          "text": [
            "Downloading from https://www.kaggle.com/api/v1/models/keras/bloom/keras/bloom_560m_multi/3/download/config.json...\n",
            "100%|██████████| 491/491 [00:00<00:00, 639kB/s]\n",
            "Downloading from https://www.kaggle.com/api/v1/models/keras/bloom/keras/bloom_560m_multi/3/download/model.weights.h5...\n",
            "100%|██████████| 1.04G/1.04G [00:18<00:00, 59.3MB/s]\n"
          ]
        }
      ]
    },
    {
      "cell_type": "code",
      "source": [
        "backbone(preprocessor(string_arr_text))"
      ],
      "metadata": {
        "colab": {
          "base_uri": "https://localhost:8080/"
        },
        "id": "59EOgBSfVP-O",
        "outputId": "0fb05e6f-ec16-428b-b5a6-f4fa32d6d6ee"
      },
      "execution_count": 196,
      "outputs": [
        {
          "output_type": "execute_result",
          "data": {
            "text/plain": [
              "<tf.Tensor: shape=(2, 2048, 1024), dtype=float32, numpy=\n",
              "array([[[ 2.1761465e+00,  3.2586002e+00,  1.0241686e+00, ...,\n",
              "         -1.6263889e+02,  1.8448048e+00, -6.9300942e+00],\n",
              "        [ 5.4194641e+00,  2.4093409e+00, -2.4139204e+00, ...,\n",
              "          1.6557654e+02,  7.1409416e-01, -4.5761642e+00],\n",
              "        [ 2.9769721e+00,  7.6612782e+00,  1.0352454e+00, ...,\n",
              "          3.0262064e+02,  2.0435967e+00, -5.7509370e+00],\n",
              "        ...,\n",
              "        [ 2.9093158e+00,  6.9414515e+00,  9.3755923e-02, ...,\n",
              "          6.0813019e+01,  5.6328015e+00, -8.2676344e+00],\n",
              "        [ 2.9093158e+00,  6.9414515e+00,  9.3755923e-02, ...,\n",
              "          6.0813019e+01,  5.6328015e+00, -8.2676344e+00],\n",
              "        [ 2.9093158e+00,  6.9414515e+00,  9.3755923e-02, ...,\n",
              "          6.0813019e+01,  5.6328015e+00, -8.2676344e+00]],\n",
              "\n",
              "       [[ 2.1761465e+00,  3.2586002e+00,  1.0241686e+00, ...,\n",
              "         -1.6263889e+02,  1.8448048e+00, -6.9300942e+00],\n",
              "        [ 5.4194641e+00,  2.4093409e+00, -2.4139204e+00, ...,\n",
              "          1.6557654e+02,  7.1409416e-01, -4.5761642e+00],\n",
              "        [ 2.9769721e+00,  7.6612782e+00,  1.0352454e+00, ...,\n",
              "          3.0262064e+02,  2.0435967e+00, -5.7509370e+00],\n",
              "        ...,\n",
              "        [ 2.6352870e+00,  6.4445930e+00, -6.2017983e-01, ...,\n",
              "          1.0120230e+02,  6.0453124e+00, -9.5696268e+00],\n",
              "        [ 2.6352870e+00,  6.4445930e+00, -6.2017983e-01, ...,\n",
              "          1.0120230e+02,  6.0453124e+00, -9.5696268e+00],\n",
              "        [ 2.6352870e+00,  6.4445930e+00, -6.2017983e-01, ...,\n",
              "          1.0120230e+02,  6.0453124e+00, -9.5696268e+00]]], dtype=float32)>"
            ]
          },
          "metadata": {},
          "execution_count": 196
        }
      ]
    },
    {
      "cell_type": "code",
      "source": [
        "preprocessor = keras_nlp.models.DebertaV3Preprocessor.from_preset(\"deberta_v3_extra_small_en\")"
      ],
      "metadata": {
        "colab": {
          "base_uri": "https://localhost:8080/"
        },
        "id": "RR6wFQjiVcGx",
        "outputId": "c47fcb4a-c369-47a3-db7d-6b9972820679"
      },
      "execution_count": 197,
      "outputs": [
        {
          "output_type": "stream",
          "name": "stderr",
          "text": [
            "Downloading from https://www.kaggle.com/api/v1/models/keras/deberta_v3/keras/deberta_v3_extra_small_en/2/download/preprocessor.json...\n"
          ]
        }
      ]
    },
    {
      "cell_type": "code",
      "source": [
        "backbone = keras_nlp.models.DebertaV3Backbone.from_preset(\"deberta_v3_extra_small_en\")"
      ],
      "metadata": {
        "colab": {
          "base_uri": "https://localhost:8080/"
        },
        "id": "RiipylE6V1j-",
        "outputId": "cf872840-27b2-4208-8a35-e50e66295f8d"
      },
      "execution_count": 198,
      "outputs": [
        {
          "output_type": "stream",
          "name": "stderr",
          "text": [
            "Downloading from https://www.kaggle.com/api/v1/models/keras/deberta_v3/keras/deberta_v3_extra_small_en/2/download/config.json...\n",
            "100%|██████████| 539/539 [00:00<00:00, 701kB/s]\n",
            "Downloading from https://www.kaggle.com/api/v1/models/keras/deberta_v3/keras/deberta_v3_extra_small_en/2/download/model.weights.h5...\n",
            "100%|██████████| 270M/270M [00:08<00:00, 35.2MB/s]\n"
          ]
        }
      ]
    },
    {
      "cell_type": "code",
      "source": [
        "backbone(preprocessor(string_arr_text))"
      ],
      "metadata": {
        "colab": {
          "base_uri": "https://localhost:8080/"
        },
        "id": "2fQROAJ5V6ny",
        "outputId": "1756d369-810f-4c9c-8332-66a9ab93a4df"
      },
      "execution_count": 199,
      "outputs": [
        {
          "output_type": "execute_result",
          "data": {
            "text/plain": [
              "<tf.Tensor: shape=(2, 512, 384), dtype=float32, numpy=\n",
              "array([[[-3.4626253 , -0.00978421, -0.12114353, ..., -0.12299246,\n",
              "         -0.22639605,  0.7293565 ],\n",
              "        [ 0.20320858,  0.8181175 ,  0.8702323 , ..., -0.54111135,\n",
              "          0.03345384,  0.6470524 ],\n",
              "        [ 0.5739167 ,  0.40295136, -0.31281596, ...,  1.011291  ,\n",
              "          0.03529015,  0.59822714],\n",
              "        ...,\n",
              "        [ 1.3364415 ,  0.36981773,  0.05525   , ...,  0.42270583,\n",
              "          0.1904701 ,  1.4155257 ],\n",
              "        [ 1.3318508 ,  0.37212145,  0.05893942, ...,  0.43085775,\n",
              "          0.19043136,  1.4249412 ],\n",
              "        [ 1.3310525 ,  0.3815808 ,  0.05100167, ...,  0.4249448 ,\n",
              "          0.19089667,  1.4413466 ]],\n",
              "\n",
              "       [[-3.4284477 , -0.0043433 , -0.13300002, ..., -0.06028314,\n",
              "         -0.2045255 ,  0.5065608 ],\n",
              "        [-0.6611031 , -0.14433683,  1.0434818 , ...,  0.1567784 ,\n",
              "         -0.03792468,  0.43380213],\n",
              "        [-0.5769816 ,  0.36937016, -0.03237634, ...,  1.0018854 ,\n",
              "          0.00702085,  0.2254726 ],\n",
              "        ...,\n",
              "        [ 0.8921586 ,  0.5910597 ,  0.46087354, ...,  0.33601874,\n",
              "         -0.01524972,  0.71253765],\n",
              "        [ 0.88816935,  0.5926116 ,  0.4289964 , ...,  0.31846064,\n",
              "         -0.04661881,  0.6644541 ],\n",
              "        [ 0.88091534,  0.5967219 ,  0.42369586, ...,  0.30787274,\n",
              "         -0.05194779,  0.6828649 ]]], dtype=float32)>"
            ]
          },
          "metadata": {},
          "execution_count": 199
        }
      ]
    },
    {
      "cell_type": "code",
      "source": [
        "preprocessor = keras_nlp.models.DistilBertPreprocessor.from_preset(\"distil_bert_base_multi\")"
      ],
      "metadata": {
        "colab": {
          "base_uri": "https://localhost:8080/"
        },
        "id": "5h8DKGsIWAa4",
        "outputId": "5f618fab-8834-4d96-fe79-9fc8aa4f3d48"
      },
      "execution_count": 200,
      "outputs": [
        {
          "output_type": "stream",
          "name": "stderr",
          "text": [
            "Downloading from https://www.kaggle.com/api/v1/models/keras/distil_bert/keras/distil_bert_base_multi/2/download/preprocessor.json...\n"
          ]
        }
      ]
    },
    {
      "cell_type": "code",
      "source": [
        "backbone = keras_nlp.models.DistilBertBackbone.from_preset(\"distil_bert_base_multi\")"
      ],
      "metadata": {
        "colab": {
          "base_uri": "https://localhost:8080/"
        },
        "id": "AJBarClYWurj",
        "outputId": "4814ac14-8f00-47b2-d41b-df169e523ab1"
      },
      "execution_count": 201,
      "outputs": [
        {
          "output_type": "stream",
          "name": "stderr",
          "text": [
            "Downloading from https://www.kaggle.com/api/v1/models/keras/distil_bert/keras/distil_bert_base_multi/2/download/config.json...\n",
            "100%|██████████| 516/516 [00:00<00:00, 588kB/s]\n",
            "Downloading from https://www.kaggle.com/api/v1/models/keras/distil_bert/keras/distil_bert_base_multi/2/download/model.weights.h5...\n",
            "100%|██████████| 514M/514M [00:15<00:00, 35.3MB/s]\n"
          ]
        }
      ]
    },
    {
      "cell_type": "code",
      "source": [
        "backbone(preprocessor(string_arr_text))"
      ],
      "metadata": {
        "colab": {
          "base_uri": "https://localhost:8080/"
        },
        "id": "7Cj-EdlYWzcY",
        "outputId": "f215dfc1-9b7e-4057-e820-2e3e04bcbb9b"
      },
      "execution_count": 202,
      "outputs": [
        {
          "output_type": "execute_result",
          "data": {
            "text/plain": [
              "<tf.Tensor: shape=(2, 512, 768), dtype=float32, numpy=\n",
              "array([[[-2.38554887e-02,  1.68186605e-01,  2.70602375e-01, ...,\n",
              "          4.69620705e-01, -1.17200643e-01, -1.86264545e-01],\n",
              "        [-2.37414554e-01,  2.69834399e-01,  1.22712567e-01, ...,\n",
              "          1.34710252e-01,  3.13492455e-02, -4.43504870e-01],\n",
              "        [-4.15596485e-01,  1.78933501e-01,  3.18474919e-01, ...,\n",
              "         -2.53874481e-01, -6.53401077e-01, -4.22492176e-01],\n",
              "        ...,\n",
              "        [-1.26550436e-01,  1.83414266e-01,  4.12947059e-01, ...,\n",
              "          3.36093783e-01,  7.91351572e-02, -2.73841619e-01],\n",
              "        [-1.16294555e-01,  1.82058826e-01,  4.37204301e-01, ...,\n",
              "          3.09447169e-01,  6.14488907e-02, -2.61272430e-01],\n",
              "        [-6.95211440e-02,  2.16463149e-01,  4.62832749e-01, ...,\n",
              "          2.26854935e-01,  1.05398208e-01, -2.76058584e-01]],\n",
              "\n",
              "       [[-1.76659711e-02, -3.83704305e-02,  1.54110759e-01, ...,\n",
              "          2.61661261e-01,  1.19499750e-01, -7.80541301e-02],\n",
              "        [-2.80655354e-01,  3.75499129e-02,  7.76091516e-02, ...,\n",
              "          1.11040533e-01,  2.13003471e-01, -3.39048415e-01],\n",
              "        [-4.81025994e-01, -1.41606390e-01,  4.44035858e-01, ...,\n",
              "         -3.16503912e-01, -3.73657823e-01, -2.99522787e-01],\n",
              "        ...,\n",
              "        [ 4.98112366e-02,  1.78923905e-02,  1.59917563e-01, ...,\n",
              "          1.08492523e-01,  2.72694647e-01, -1.13733560e-02],\n",
              "        [ 4.30966876e-02,  2.99534947e-03,  1.69652238e-01, ...,\n",
              "          7.23100975e-02,  2.39519030e-01,  1.04191378e-02],\n",
              "        [ 2.40874067e-02, -1.96337700e-04,  1.86595425e-01, ...,\n",
              "          4.30176258e-02,  2.65263826e-01, -3.16657163e-02]]],\n",
              "      dtype=float32)>"
            ]
          },
          "metadata": {},
          "execution_count": 202
        }
      ]
    },
    {
      "cell_type": "code",
      "source": [
        "preprocessor = keras_nlp.models.ElectraPreprocessor.from_preset(\"electra_small_generator_uncased_en\")"
      ],
      "metadata": {
        "colab": {
          "base_uri": "https://localhost:8080/"
        },
        "id": "THwJg7W1XAwX",
        "outputId": "8abd3e77-d2e4-4377-c67c-e4bef04b4d70"
      },
      "execution_count": 203,
      "outputs": [
        {
          "output_type": "stream",
          "name": "stderr",
          "text": [
            "Downloading from https://www.kaggle.com/api/v1/models/keras/electra/keras/electra_small_generator_uncased_en/1/download/preprocessor.json...\n"
          ]
        }
      ]
    },
    {
      "cell_type": "code",
      "source": [
        "backbone = keras_nlp.models.ElectraBackbone.from_preset(\"electra_small_generator_uncased_en\")"
      ],
      "metadata": {
        "colab": {
          "base_uri": "https://localhost:8080/"
        },
        "id": "HY32ksY6XVhD",
        "outputId": "537bbe65-fdef-4ea4-82b6-4e401c56d1fa"
      },
      "execution_count": 204,
      "outputs": [
        {
          "output_type": "stream",
          "name": "stderr",
          "text": [
            "Downloading from https://www.kaggle.com/api/v1/models/keras/electra/keras/electra_small_generator_uncased_en/1/download/config.json...\n",
            "100%|██████████| 545/545 [00:00<00:00, 818kB/s]\n",
            "Downloading from https://www.kaggle.com/api/v1/models/keras/electra/keras/electra_small_generator_uncased_en/1/download/model.weights.h5...\n",
            "100%|██████████| 52.1M/52.1M [00:01<00:00, 35.6MB/s]\n"
          ]
        }
      ]
    },
    {
      "cell_type": "code",
      "source": [
        "backbone(preprocessor(string_arr_text))"
      ],
      "metadata": {
        "colab": {
          "base_uri": "https://localhost:8080/"
        },
        "id": "QZ_y5NriXasK",
        "outputId": "e2ebe3c3-0068-40e5-d300-dddef804b5c4"
      },
      "execution_count": 205,
      "outputs": [
        {
          "output_type": "execute_result",
          "data": {
            "text/plain": [
              "{'sequence_output': <tf.Tensor: shape=(2, 512, 256), dtype=float32, numpy=\n",
              " array([[[-0.39992166, -0.16135481, -0.78163683, ..., -0.57820135,\n",
              "           0.22587287, -0.34859103],\n",
              "         [-0.79113305, -1.3331983 ,  0.8153106 , ..., -0.515072  ,\n",
              "           0.70025456, -1.0914644 ],\n",
              "         [ 0.3458203 , -1.1328875 , -2.3620691 , ...,  0.16198406,\n",
              "          -0.12645167,  0.40012652],\n",
              "         ...,\n",
              "         [-0.139808  , -1.918993  , -0.17399275, ...,  1.284367  ,\n",
              "          -0.29759496,  1.2736673 ],\n",
              "         [-0.13288808, -1.7916877 , -0.36186713, ...,  1.2850299 ,\n",
              "          -0.33620223,  1.3557978 ],\n",
              "         [-0.3995874 , -0.16118091, -0.78162163, ..., -0.57799625,\n",
              "           0.22589925, -0.34855863]],\n",
              " \n",
              "        [[-0.26406533, -0.20635216, -0.6462268 , ..., -0.5257906 ,\n",
              "           0.2151193 , -0.4433258 ],\n",
              "         [-0.9548582 , -1.542733  ,  0.8654411 , ..., -0.40517718,\n",
              "           0.87316483, -0.99186826],\n",
              "         [ 0.27427888, -1.7274584 , -1.7938777 , ...,  0.44326067,\n",
              "           0.05143639,  0.4741708 ],\n",
              "         ...,\n",
              "         [-0.08432639, -2.0229297 , -0.20335108, ...,  1.2391825 ,\n",
              "          -0.3548653 ,  1.1603813 ],\n",
              "         [-0.09030837, -1.9438227 , -0.36784324, ...,  1.2143774 ,\n",
              "          -0.38444299,  1.2137609 ],\n",
              "         [-0.2643841 , -0.20631853, -0.6461883 , ..., -0.5256693 ,\n",
              "           0.21486971, -0.44345322]]], dtype=float32)>,\n",
              " 'pooled_output': <tf.Tensor: shape=(2, 256), dtype=float32, numpy=\n",
              " array([[ 7.18434572e-01,  7.69541621e-01,  4.94875878e-01,\n",
              "          1.69002861e-01,  1.72934458e-01,  7.30092227e-01,\n",
              "         -5.84887862e-01,  5.67755282e-01,  4.86537516e-01,\n",
              "         -2.32396554e-02, -7.80221343e-01,  2.41240278e-01,\n",
              "         -4.37275559e-01,  6.82323456e-01, -8.19613218e-01,\n",
              "          7.35200703e-01,  2.15675458e-01,  4.84959006e-01,\n",
              "         -7.27365077e-01, -4.78737533e-01,  2.03098040e-02,\n",
              "          4.93074685e-01, -6.39878750e-01, -5.68028390e-02,\n",
              "          2.46719226e-01,  5.78728199e-01, -7.21635759e-01,\n",
              "         -7.78283358e-01, -6.53152525e-01,  7.20100641e-01,\n",
              "          8.90208602e-01,  4.53571707e-01, -3.33349258e-01,\n",
              "          3.94509047e-01, -3.31534833e-01, -1.03939297e-02,\n",
              "          7.14761138e-01, -4.32055891e-01, -6.96663022e-01,\n",
              "          6.34849668e-01, -7.24150002e-01, -1.48597479e-01,\n",
              "          4.75537926e-01,  5.42237341e-01, -4.57366854e-01,\n",
              "         -3.68872583e-01,  6.05186410e-02, -3.02033573e-01,\n",
              "         -5.50108850e-01, -5.70235968e-01,  5.08296490e-01,\n",
              "          6.30330026e-01,  8.70228231e-01, -3.78003836e-01,\n",
              "          3.19460303e-01,  3.26249689e-01,  8.08040619e-01,\n",
              "         -5.33605099e-01, -4.49919105e-01,  6.88638747e-01,\n",
              "          5.91810405e-01, -5.36138654e-01, -5.72452009e-01,\n",
              "         -6.75489068e-01, -8.89053717e-02, -5.25948763e-01,\n",
              "          7.50196934e-01,  1.66206658e-01,  3.23989719e-01,\n",
              "         -7.40493119e-01,  2.11321294e-01,  1.51014596e-01,\n",
              "          4.17872697e-01,  2.28115991e-01, -4.02759492e-01,\n",
              "         -3.04426253e-01,  4.13719296e-01, -3.18317145e-01,\n",
              "         -1.10872217e-01, -8.57174098e-01, -8.75721455e-01,\n",
              "         -2.56886154e-01,  3.74327779e-01,  5.50405264e-01,\n",
              "          3.23600590e-01,  7.26250827e-01, -5.13326108e-01,\n",
              "         -1.62268747e-02, -6.65864587e-01,  7.86036074e-01,\n",
              "          1.07621960e-01,  3.55715394e-01,  6.27279520e-01,\n",
              "         -6.44155562e-01,  2.87285149e-02,  6.51553810e-01,\n",
              "         -4.29191172e-01,  2.46793851e-01,  3.72733951e-01,\n",
              "         -5.41832507e-01,  5.27550519e-01,  4.21792626e-01,\n",
              "         -1.14147455e-01, -2.88460255e-01,  1.07382864e-01,\n",
              "         -6.58067942e-01,  1.50126383e-01, -4.91626084e-01,\n",
              "         -6.59660697e-01,  8.52770448e-01,  4.67024416e-01,\n",
              "         -7.19839036e-01, -2.30835438e-01, -1.43346498e-02,\n",
              "         -1.91173665e-02,  7.49610960e-01, -4.93750900e-01,\n",
              "         -1.54746711e-01, -1.08279608e-01, -4.09218729e-01,\n",
              "          5.29958665e-01,  7.87684917e-01, -7.40721524e-01,\n",
              "         -2.95340568e-01,  8.50198045e-02,  6.46775961e-01,\n",
              "         -4.57373202e-01, -3.21783349e-02,  3.88231397e-01,\n",
              "          4.73366380e-01, -1.67185098e-01,  2.39411399e-01,\n",
              "          3.91760916e-01, -2.24451378e-01,  2.19558269e-01,\n",
              "          9.08964351e-02,  3.20450842e-01,  5.68314254e-01,\n",
              "          6.80812836e-01,  8.32506061e-01,  8.02027881e-01,\n",
              "          3.56593765e-02, -3.15075129e-01, -6.10790439e-02,\n",
              "         -8.10251892e-01,  6.30246043e-01,  5.86294353e-01,\n",
              "         -1.84256062e-01,  9.56725627e-02, -4.79341388e-01,\n",
              "         -2.94205576e-01, -5.59480667e-01, -2.97946453e-01,\n",
              "          8.04490149e-02,  6.51428580e-01, -4.49917823e-01,\n",
              "          6.78257585e-01,  2.43323043e-01,  3.37597638e-01,\n",
              "         -4.21752691e-01,  8.30858409e-01, -2.40730450e-01,\n",
              "         -2.52901465e-01, -5.85404634e-01,  1.19101509e-01,\n",
              "         -6.17556512e-01,  6.04210377e-01, -5.60497046e-01,\n",
              "         -1.26182675e-01, -7.16025770e-01, -1.15314879e-01,\n",
              "         -5.10402322e-01, -4.33968812e-01,  8.71427596e-01,\n",
              "          6.72657967e-01, -2.70857751e-01, -6.69658009e-04,\n",
              "          8.76226604e-01,  3.18600655e-01, -3.52615155e-02,\n",
              "         -6.61186099e-01, -2.96216369e-01, -4.57528025e-01,\n",
              "          7.66126066e-02,  3.58608276e-01, -3.52607876e-01,\n",
              "         -1.48529768e-01,  4.75003064e-01, -3.34879041e-01,\n",
              "          1.41026586e-01,  3.36403102e-01,  5.19964635e-01,\n",
              "         -3.40797216e-01,  5.51479459e-02,  4.87886995e-01,\n",
              "          3.72515589e-01, -3.69072169e-01,  6.62711799e-01,\n",
              "          3.57374012e-01,  2.57571191e-01,  6.15282714e-01,\n",
              "          2.07932442e-01,  3.12738270e-01,  3.17245930e-01,\n",
              "         -1.92525368e-02,  6.56096414e-02,  6.44047081e-01,\n",
              "          4.82765108e-01,  7.78882504e-01, -7.13878214e-01,\n",
              "         -2.16883764e-01,  5.24138689e-01,  5.03455885e-02,\n",
              "          2.20366746e-01, -2.06676751e-01, -7.52048850e-01,\n",
              "          5.67569077e-01, -6.64335191e-01, -5.11980832e-01,\n",
              "         -3.90311182e-01, -3.33302990e-02, -3.18446457e-01,\n",
              "         -5.85730374e-01, -3.69773209e-02, -7.00375289e-02,\n",
              "         -4.00590688e-01, -1.40693083e-01, -4.55749547e-03,\n",
              "         -7.57922888e-01, -9.60347652e-02,  1.04798973e-01,\n",
              "         -1.24410369e-01,  1.85966313e-01,  1.11802191e-01,\n",
              "         -6.77667379e-01, -3.37227196e-01, -3.19083363e-01,\n",
              "          2.49413345e-02,  3.38923186e-01,  1.20094717e-01,\n",
              "         -8.86048377e-01,  3.46499346e-02, -5.26737869e-01,\n",
              "         -2.08954923e-02,  2.25250274e-01,  2.29928002e-01,\n",
              "         -2.24106833e-01, -1.32897958e-01, -4.76421088e-01,\n",
              "         -6.28987432e-01, -3.60804975e-01, -2.38617465e-01,\n",
              "         -3.55429016e-02,  3.15566570e-01,  2.82402426e-01,\n",
              "         -3.77912223e-01],\n",
              "        [ 7.21906841e-01,  7.62902617e-01,  5.09366274e-01,\n",
              "          1.82389781e-01,  1.55321524e-01,  7.43612587e-01,\n",
              "         -5.75760841e-01,  5.53791761e-01,  4.91407394e-01,\n",
              "         -2.65683457e-02, -7.54541636e-01,  2.88235396e-01,\n",
              "         -4.12753940e-01,  7.01401532e-01, -8.04975867e-01,\n",
              "          7.65278637e-01,  2.71207958e-01,  5.34812450e-01,\n",
              "         -7.58478642e-01, -5.09246230e-01, -2.87718307e-02,\n",
              "          4.70776081e-01, -6.12959027e-01, -6.66121095e-02,\n",
              "          2.96466619e-01,  6.25129521e-01, -7.17299044e-01,\n",
              "         -7.96956956e-01, -6.28606319e-01,  7.23009169e-01,\n",
              "          9.02841270e-01,  5.04406154e-01, -3.00729215e-01,\n",
              "          4.12874967e-01, -3.57272238e-01, -4.37387042e-02,\n",
              "          6.97601974e-01, -4.48515832e-01, -7.25539088e-01,\n",
              "          6.21978939e-01, -6.97196066e-01, -1.51698574e-01,\n",
              "          5.01232326e-01,  4.43112165e-01, -5.08507371e-01,\n",
              "         -3.20095152e-01,  7.54788965e-02, -3.57363939e-01,\n",
              "         -5.84492445e-01, -5.44433594e-01,  5.31096220e-01,\n",
              "          6.17214739e-01,  8.68492842e-01, -3.71743888e-01,\n",
              "          3.45604092e-01,  3.46728832e-01,  8.12645018e-01,\n",
              "         -5.07360935e-01, -4.42873597e-01,  6.96055949e-01,\n",
              "          5.71099937e-01, -5.87135315e-01, -5.57382762e-01,\n",
              "         -6.91306353e-01, -9.20001119e-02, -5.07284999e-01,\n",
              "          7.37957060e-01,  1.67901248e-01,  3.49054635e-01,\n",
              "         -7.48692513e-01,  2.15834945e-01,  1.94007918e-01,\n",
              "          4.31052297e-01,  1.73949674e-01, -4.14266258e-01,\n",
              "         -3.20227742e-01,  4.53157365e-01, -3.39791715e-01,\n",
              "         -8.80102888e-02, -8.44220459e-01, -8.82691920e-01,\n",
              "         -1.66070849e-01,  3.65630746e-01,  5.23703396e-01,\n",
              "          3.63204330e-01,  7.15644956e-01, -5.47767103e-01,\n",
              "          1.40056480e-02, -6.41571045e-01,  7.92389214e-01,\n",
              "          1.58956736e-01,  3.28254521e-01,  6.24817431e-01,\n",
              "         -6.70678318e-01, -3.79328504e-02,  6.65969789e-01,\n",
              "         -3.63683701e-01,  2.53036261e-01,  3.72025788e-01,\n",
              "         -5.34213781e-01,  5.16407311e-01,  4.16309506e-01,\n",
              "         -1.11852601e-01, -2.81112254e-01,  1.04735307e-01,\n",
              "         -6.58649981e-01,  1.41727462e-01, -4.66640055e-01,\n",
              "         -6.70427859e-01,  8.50829005e-01,  4.75142628e-01,\n",
              "         -7.08498597e-01, -2.63616592e-01, -5.33800200e-02,\n",
              "         -6.28035590e-02,  7.33510494e-01, -4.93957162e-01,\n",
              "         -1.61820635e-01, -8.57102498e-02, -4.00425345e-01,\n",
              "          5.25913477e-01,  7.85498977e-01, -7.47696340e-01,\n",
              "         -3.53681356e-01,  1.07902609e-01,  6.58240259e-01,\n",
              "         -4.54441279e-01,  1.33602088e-02,  4.01138484e-01,\n",
              "          4.53496158e-01, -1.89021125e-01,  2.04313800e-01,\n",
              "          3.89670700e-01, -2.81110615e-01,  1.93225026e-01,\n",
              "          1.80755334e-03,  2.95100808e-01,  5.26666760e-01,\n",
              "          7.10587084e-01,  8.19491684e-01,  8.00380528e-01,\n",
              "          9.82102305e-02, -3.00867230e-01, -5.27684465e-02,\n",
              "         -8.01714182e-01,  6.41110063e-01,  6.08741045e-01,\n",
              "         -1.87335163e-01,  1.03313304e-01, -4.44374889e-01,\n",
              "         -3.21906745e-01, -5.65540135e-01, -3.29768777e-01,\n",
              "          1.43837407e-01,  6.53523445e-01, -4.10787314e-01,\n",
              "          6.97405517e-01,  2.82285511e-01,  3.30122977e-01,\n",
              "         -3.86950731e-01,  8.28808606e-01, -2.20508665e-01,\n",
              "         -2.55762279e-01, -6.00887358e-01,  9.11939442e-02,\n",
              "         -6.01381004e-01,  6.20370030e-01, -5.38610756e-01,\n",
              "         -1.26919284e-01, -6.84045315e-01, -7.91296661e-02,\n",
              "         -5.21233559e-01, -4.32253599e-01,  8.63110602e-01,\n",
              "          6.58083022e-01, -2.99846619e-01, -5.75216375e-02,\n",
              "          8.76596093e-01,  3.43679965e-01, -5.06623797e-02,\n",
              "         -6.81927383e-01, -2.98156828e-01, -4.50128704e-01,\n",
              "          3.65523659e-02,  3.17801416e-01, -3.25559258e-01,\n",
              "         -1.90470144e-01,  4.59557742e-01, -3.39965165e-01,\n",
              "          1.88605279e-01,  3.20808828e-01,  5.18347621e-01,\n",
              "         -3.24545830e-01,  6.97342306e-02,  4.86053795e-01,\n",
              "          3.68282020e-01, -3.38331759e-01,  6.51712775e-01,\n",
              "          3.38989764e-01,  2.75959551e-01,  6.23744309e-01,\n",
              "          2.17793703e-01,  3.02183896e-01,  3.16160738e-01,\n",
              "         -3.15000527e-02,  7.54571632e-02,  6.37759507e-01,\n",
              "          5.26035428e-01,  7.87911355e-01, -7.33401477e-01,\n",
              "         -2.32325524e-01,  5.17239749e-01,  3.80315147e-02,\n",
              "          2.11784616e-01, -1.54282719e-01, -7.64208376e-01,\n",
              "          5.72516918e-01, -6.34918511e-01, -5.35649598e-01,\n",
              "         -3.80214244e-01, -6.29568622e-02, -3.12801450e-01,\n",
              "         -5.58666945e-01, -2.55687200e-02, -3.43378484e-02,\n",
              "         -3.64304781e-01, -1.75748229e-01, -1.41428346e-02,\n",
              "         -7.65274048e-01, -1.03504471e-01,  4.31211628e-02,\n",
              "         -1.21145681e-01,  2.32077375e-01,  2.05966517e-01,\n",
              "         -6.90173864e-01, -3.68779272e-01, -3.39937091e-01,\n",
              "          4.23731171e-02,  3.31597060e-01,  1.07811727e-01,\n",
              "         -8.83387744e-01,  7.04100169e-03, -5.53931117e-01,\n",
              "          1.57798976e-02,  2.33686715e-01,  2.44914427e-01,\n",
              "         -2.10759297e-01, -1.09169938e-01, -4.86279219e-01,\n",
              "         -6.54704869e-01, -3.18957686e-01, -2.76412427e-01,\n",
              "         -9.18377936e-02,  3.25963914e-01,  2.92073101e-01,\n",
              "         -3.90523374e-01]], dtype=float32)>}"
            ]
          },
          "metadata": {},
          "execution_count": 205
        }
      ]
    },
    {
      "cell_type": "code",
      "source": [
        "preprocessor = keras_nlp.models.FNetPreprocessor.from_preset(\"f_net_base_en\")"
      ],
      "metadata": {
        "colab": {
          "base_uri": "https://localhost:8080/"
        },
        "id": "qRcLonzuXeff",
        "outputId": "f304f303-0be6-4282-9dcf-5a5f38b9f139"
      },
      "execution_count": 206,
      "outputs": [
        {
          "output_type": "stream",
          "name": "stderr",
          "text": [
            "Downloading from https://www.kaggle.com/api/v1/models/keras/f_net/keras/f_net_base_en/2/download/preprocessor.json...\n"
          ]
        }
      ]
    },
    {
      "cell_type": "code",
      "source": [
        "backbone = keras_nlp.models.FNetBackbone.from_preset(\"f_net_base_en\")"
      ],
      "metadata": {
        "colab": {
          "base_uri": "https://localhost:8080/"
        },
        "id": "454bNnevYEbo",
        "outputId": "d78d3194-a6ee-46ab-8de8-afe6a7ede42d"
      },
      "execution_count": 207,
      "outputs": [
        {
          "output_type": "stream",
          "name": "stderr",
          "text": [
            "Downloading from https://www.kaggle.com/api/v1/models/keras/f_net/keras/f_net_base_en/2/download/config.json...\n",
            "100%|██████████| 488/488 [00:00<00:00, 585kB/s]\n",
            "Downloading from https://www.kaggle.com/api/v1/models/keras/f_net/keras/f_net_base_en/2/download/model.weights.h5...\n",
            "100%|██████████| 316M/316M [00:08<00:00, 37.1MB/s]\n"
          ]
        }
      ]
    },
    {
      "cell_type": "code",
      "source": [
        "backbone(preprocessor(string_arr_text))"
      ],
      "metadata": {
        "colab": {
          "base_uri": "https://localhost:8080/"
        },
        "id": "D9lfcjJZYJW0",
        "outputId": "349c7af2-c0dd-48b6-e794-0ed27444104c"
      },
      "execution_count": 208,
      "outputs": [
        {
          "output_type": "execute_result",
          "data": {
            "text/plain": [
              "{'sequence_output': <tf.Tensor: shape=(2, 512, 768), dtype=float32, numpy=\n",
              " array([[[ 3.4832911 , -0.23926173, -0.29961383, ...,  0.73322713,\n",
              "          -0.3210941 , -0.01858222],\n",
              "         [ 0.02321588,  0.5242932 , -0.08457023, ...,  0.63765025,\n",
              "          -0.21034247, -0.05132907],\n",
              "         [-0.30167097, -0.73119915, -0.2022688 , ..., -0.12264019,\n",
              "           0.335086  ,  0.55366236],\n",
              "         ...,\n",
              "         [-0.36634642, -0.01174078, -0.3611329 , ...,  1.2087095 ,\n",
              "          -0.4886656 , -0.4481714 ],\n",
              "         [-0.11147072,  0.23129179,  0.07656436, ...,  0.9504477 ,\n",
              "          -0.5090325 , -0.6361706 ],\n",
              "         [ 0.44594094, -0.34442985, -0.06136485, ...,  0.95593953,\n",
              "          -0.26141393,  0.43901274]],\n",
              " \n",
              "        [[ 3.512138  , -0.26546478, -0.40860572, ...,  0.5549449 ,\n",
              "          -0.38026142, -0.09524231],\n",
              "         [-0.14089565,  0.54892653, -0.15139505, ...,  0.6331389 ,\n",
              "          -0.21829882,  0.00568292],\n",
              "         [-0.54661447, -0.8897764 , -0.30514175, ..., -0.38637817,\n",
              "           0.3813128 ,  0.4778909 ],\n",
              "         ...,\n",
              "         [-0.61118466, -0.14752638, -0.41226178, ...,  0.8592476 ,\n",
              "          -0.58834887, -0.7727872 ],\n",
              "         [-0.27437776,  0.08728891,  0.14477898, ...,  0.65963376,\n",
              "          -0.4791468 , -0.89358443],\n",
              "         [ 0.21112679, -0.49797562, -0.18401137, ...,  0.7461627 ,\n",
              "          -0.23025899,  0.23330285]]], dtype=float32)>,\n",
              " 'pooled_output': <tf.Tensor: shape=(2, 768), dtype=float32, numpy=\n",
              " array([[ 0.00739822,  0.01645876, -0.00559861, ..., -0.26023036,\n",
              "          0.01972113,  0.00934454],\n",
              "        [ 0.00141619,  0.00724907, -0.0061096 , ...,  0.3599629 ,\n",
              "          0.02149221,  0.00148459]], dtype=float32)>}"
            ]
          },
          "metadata": {},
          "execution_count": 208
        }
      ]
    },
    {
      "cell_type": "code",
      "source": [
        "preprocessor = keras_nlp.models.GPT2Preprocessor.from_preset(\"gpt2_base_en\")"
      ],
      "metadata": {
        "colab": {
          "base_uri": "https://localhost:8080/"
        },
        "id": "pPxQ4zLyYQSL",
        "outputId": "a4603c6d-7988-48b8-aa1b-fb67fabe6b8e"
      },
      "execution_count": 209,
      "outputs": [
        {
          "output_type": "stream",
          "name": "stderr",
          "text": [
            "Downloading from https://www.kaggle.com/api/v1/models/keras/gpt2/keras/gpt2_base_en/2/download/preprocessor.json...\n"
          ]
        }
      ]
    },
    {
      "cell_type": "code",
      "source": [
        "backbone = keras_nlp.models.GPT2Backbone.from_preset(\"gpt2_base_en\")"
      ],
      "metadata": {
        "colab": {
          "base_uri": "https://localhost:8080/"
        },
        "id": "Nesi6W3gYkER",
        "outputId": "62ed80c6-5ef2-4fa8-e62c-b3cab4c0217c"
      },
      "execution_count": 210,
      "outputs": [
        {
          "output_type": "stream",
          "name": "stderr",
          "text": [
            "Downloading from https://www.kaggle.com/api/v1/models/keras/gpt2/keras/gpt2_base_en/2/download/config.json...\n",
            "100%|██████████| 484/484 [00:00<00:00, 483kB/s]\n",
            "Downloading from https://www.kaggle.com/api/v1/models/keras/gpt2/keras/gpt2_base_en/2/download/model.weights.h5...\n",
            "100%|██████████| 475M/475M [00:16<00:00, 29.9MB/s]\n"
          ]
        }
      ]
    },
    {
      "cell_type": "code",
      "source": [
        "backbone(preprocessor(string_arr_text))"
      ],
      "metadata": {
        "colab": {
          "base_uri": "https://localhost:8080/"
        },
        "id": "LEtAL6M7Yp6S",
        "outputId": "f35470f4-770c-4987-c014-30bc0b545c84"
      },
      "execution_count": 211,
      "outputs": [
        {
          "output_type": "execute_result",
          "data": {
            "text/plain": [
              "<tf.Tensor: shape=(2, 1024, 768), dtype=float32, numpy=\n",
              "array([[[-0.06694581,  0.08811206, -0.30819836, ...,  0.03051005,\n",
              "          0.05112388, -0.00185235],\n",
              "        [-0.15791543,  0.20060161,  0.4151133 , ..., -0.25525507,\n",
              "         -0.24341798,  0.2849792 ],\n",
              "        [-0.29859865, -0.06806904, -0.0646246 , ...,  0.26489487,\n",
              "         -0.2875113 , -0.31171936],\n",
              "        ...,\n",
              "        [ 0.1546482 , -0.36596096,  0.21783009, ...,  0.18365133,\n",
              "         -0.21436831, -0.04764044],\n",
              "        [ 0.15677984, -0.36682385,  0.21664037, ...,  0.18243225,\n",
              "         -0.21319951, -0.04764147],\n",
              "        [ 0.2753421 , -0.33916977,  0.79639333, ...,  0.13528223,\n",
              "         -0.09512205, -0.04175306]],\n",
              "\n",
              "       [[-0.06694581,  0.08811206, -0.30819836, ...,  0.03051005,\n",
              "          0.05112388, -0.00185235],\n",
              "        [-0.15791543,  0.20060161,  0.4151133 , ..., -0.25525507,\n",
              "         -0.24341798,  0.2849792 ],\n",
              "        [-0.29859865, -0.06806904, -0.0646246 , ...,  0.26489487,\n",
              "         -0.2875113 , -0.31171936],\n",
              "        ...,\n",
              "        [ 0.25005886, -0.45652813,  0.31873623, ...,  0.0626642 ,\n",
              "         -0.16099887, -0.20481727],\n",
              "        [ 0.23595601, -0.46254975,  0.3484078 , ...,  0.05961746,\n",
              "         -0.14903854, -0.19362791],\n",
              "        [ 0.32449883, -0.29590338,  0.71397376, ...,  0.07768521,\n",
              "         -0.07902932, -0.08763301]]], dtype=float32)>"
            ]
          },
          "metadata": {},
          "execution_count": 211
        }
      ]
    },
    {
      "cell_type": "code",
      "source": [
        "preprocessor = keras_nlp.models.OPTPreprocessor.from_preset(\"opt_125m_en\")"
      ],
      "metadata": {
        "colab": {
          "base_uri": "https://localhost:8080/"
        },
        "id": "uaYyCNVIYx1u",
        "outputId": "f4e36767-56fd-4837-a49c-f2aca9aecddd"
      },
      "execution_count": 212,
      "outputs": [
        {
          "output_type": "stream",
          "name": "stderr",
          "text": [
            "Downloading from https://www.kaggle.com/api/v1/models/keras/opt/keras/opt_125m_en/2/download/preprocessor.json...\n"
          ]
        }
      ]
    },
    {
      "cell_type": "code",
      "source": [
        "backbone = keras_nlp.models.OPTBackbone.from_preset(\"opt_125m_en\")"
      ],
      "metadata": {
        "colab": {
          "base_uri": "https://localhost:8080/"
        },
        "id": "haRkX4g-bBTz",
        "outputId": "22e7bde9-621c-4dfd-9f73-612208747558"
      },
      "execution_count": 213,
      "outputs": [
        {
          "output_type": "stream",
          "name": "stderr",
          "text": [
            "Downloading from https://www.kaggle.com/api/v1/models/keras/opt/keras/opt_125m_en/2/download/config.json...\n",
            "100%|██████████| 420/420 [00:00<00:00, 608kB/s]\n",
            "Downloading from https://www.kaggle.com/api/v1/models/keras/opt/keras/opt_125m_en/2/download/model.weights.h5...\n",
            "100%|██████████| 478M/478M [00:17<00:00, 29.3MB/s]\n"
          ]
        }
      ]
    },
    {
      "cell_type": "code",
      "source": [
        "backbone(preprocessor(string_arr_text))"
      ],
      "metadata": {
        "colab": {
          "base_uri": "https://localhost:8080/"
        },
        "id": "oaIEjD6bbGFd",
        "outputId": "f0ab1999-0e3a-4d4a-e9db-46f995386b37"
      },
      "execution_count": 214,
      "outputs": [
        {
          "output_type": "execute_result",
          "data": {
            "text/plain": [
              "<tf.Tensor: shape=(2, 2048, 768), dtype=float32, numpy=\n",
              "array([[[-0.8376603 , -5.6759953 ,  0.75141513, ..., -2.2708879 ,\n",
              "         -1.551302  ,  0.40465003],\n",
              "        [-0.04905511, -4.423391  , -0.04958333, ...,  1.1149515 ,\n",
              "         -1.0219436 ,  0.17528556],\n",
              "        [-0.39034975, -2.6528978 , -1.6544158 , ...,  0.4254    ,\n",
              "         -0.09362997, -0.29293486],\n",
              "        ...,\n",
              "        [-0.29252064, -4.4834857 ,  0.09362209, ...,  0.21643537,\n",
              "          0.02122694,  0.8579341 ],\n",
              "        [ 0.21039164, -3.8747075 ,  0.19428045, ..., -0.02988547,\n",
              "         -0.04330236,  1.2050629 ],\n",
              "        [ 0.23109967, -3.7447567 , -0.22688371, ..., -0.92261255,\n",
              "          0.5337175 ,  1.0146625 ]],\n",
              "\n",
              "       [[-0.8376603 , -5.6759953 ,  0.75141513, ..., -2.2708879 ,\n",
              "         -1.551302  ,  0.40465003],\n",
              "        [-0.04905511, -4.423391  , -0.04958333, ...,  1.1149515 ,\n",
              "         -1.0219436 ,  0.17528556],\n",
              "        [-0.39034975, -2.6528978 , -1.6544158 , ...,  0.4254    ,\n",
              "         -0.09362997, -0.29293486],\n",
              "        ...,\n",
              "        [-0.1700179 , -3.5824604 ,  0.49678582, ..., -0.41581315,\n",
              "         -0.02502823,  0.7064947 ],\n",
              "        [-0.14227414, -3.7083025 ,  0.47391143, ..., -0.33936897,\n",
              "          0.06584477,  0.85722136],\n",
              "        [-0.00599414, -3.594115  ,  0.5164312 , ..., -0.1925503 ,\n",
              "          0.11375117,  0.7846368 ]]], dtype=float32)>"
            ]
          },
          "metadata": {},
          "execution_count": 214
        }
      ]
    },
    {
      "cell_type": "code",
      "source": [
        "preprocessor = keras_nlp.models.RobertaPreprocessor.from_preset(\"roberta_base_en\")"
      ],
      "metadata": {
        "colab": {
          "base_uri": "https://localhost:8080/"
        },
        "id": "SV5b0DGpbRoA",
        "outputId": "1be912ac-a070-4b56-f568-cb52162fdd07"
      },
      "execution_count": 215,
      "outputs": [
        {
          "output_type": "stream",
          "name": "stderr",
          "text": [
            "Downloading from https://www.kaggle.com/api/v1/models/keras/roberta/keras/roberta_base_en/2/download/preprocessor.json...\n"
          ]
        }
      ]
    },
    {
      "cell_type": "code",
      "source": [
        "backbone = keras_nlp.models.RobertaBackbone.from_preset(\"roberta_base_en\")"
      ],
      "metadata": {
        "colab": {
          "base_uri": "https://localhost:8080/"
        },
        "id": "8We37jdjbcfS",
        "outputId": "99995d09-061c-479a-d6f8-2e9df42c588d"
      },
      "execution_count": 216,
      "outputs": [
        {
          "output_type": "stream",
          "name": "stderr",
          "text": [
            "Downloading from https://www.kaggle.com/api/v1/models/keras/roberta/keras/roberta_base_en/2/download/config.json...\n",
            "100%|██████████| 498/498 [00:00<00:00, 758kB/s]\n",
            "Downloading from https://www.kaggle.com/api/v1/models/keras/roberta/keras/roberta_base_en/2/download/model.weights.h5...\n",
            "100%|██████████| 474M/474M [00:11<00:00, 44.2MB/s]\n"
          ]
        }
      ]
    },
    {
      "cell_type": "code",
      "source": [
        "backbone(preprocessor(string_arr_text))"
      ],
      "metadata": {
        "colab": {
          "base_uri": "https://localhost:8080/"
        },
        "id": "V4Jjg1JNbikj",
        "outputId": "af66b195-d909-480a-c207-5f5dffa4652c"
      },
      "execution_count": 217,
      "outputs": [
        {
          "output_type": "execute_result",
          "data": {
            "text/plain": [
              "<tf.Tensor: shape=(2, 512, 768), dtype=float32, numpy=\n",
              "array([[[-0.03680493,  0.08634835, -0.01406232, ..., -0.07361803,\n",
              "         -0.04870203, -0.02318175],\n",
              "        [-0.06701862,  0.0559752 , -0.01390374, ...,  0.2129887 ,\n",
              "         -0.02422271,  0.03388537],\n",
              "        [-0.17855687,  0.01525635, -0.012477  , ..., -0.22785595,\n",
              "          0.14205618,  0.10377412],\n",
              "        ...,\n",
              "        [-0.06456192, -0.04095808,  0.04676941, ...,  0.1362018 ,\n",
              "         -0.1365145 , -0.04729055],\n",
              "        [-0.07318372, -0.01149316,  0.06375635, ...,  0.01423925,\n",
              "         -0.11488927, -0.01623553],\n",
              "        [-0.0286827 ,  0.08123396, -0.03634828, ..., -0.11862419,\n",
              "         -0.05254801, -0.05666611]],\n",
              "\n",
              "       [[-0.03106388,  0.09176657, -0.01543124, ..., -0.06844773,\n",
              "         -0.05541074, -0.02093292],\n",
              "        [-0.00603818,  0.01889469, -0.0136258 , ...,  0.3916943 ,\n",
              "          0.08835359,  0.14886539],\n",
              "        [-0.09955787, -0.02494508,  0.02027955, ..., -0.27872202,\n",
              "          0.19699705,  0.13824835],\n",
              "        ...,\n",
              "        [-0.0778371 , -0.06233576,  0.01858962, ...,  0.09670916,\n",
              "         -0.09759133, -0.02379525],\n",
              "        [-0.03863589,  0.05674683,  0.02725723, ..., -0.00176838,\n",
              "         -0.09033036,  0.00435309],\n",
              "        [-0.02229777,  0.09194749, -0.0362883 , ..., -0.11404821,\n",
              "         -0.05910669, -0.04482397]]], dtype=float32)>"
            ]
          },
          "metadata": {},
          "execution_count": 217
        }
      ]
    },
    {
      "cell_type": "code",
      "source": [],
      "metadata": {
        "id": "yADGS5fHbqQV"
      },
      "execution_count": null,
      "outputs": []
    }
  ]
}